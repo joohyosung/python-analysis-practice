{
 "cells": [
  {
   "cell_type": "markdown",
   "id": "c9825647",
   "metadata": {},
   "source": [
    "# 파이썬 시각화 패키지 불러오기\n",
    "import matplotlib.pyplot as plt\n",
    "%matplotlib inline\n",
    "import platform\n",
    "\n",
    "# 운영체제별 한글 폰트 설정\n",
    "if platform.system() == 'Darwin': # Mac 환경 폰트 설정\n",
    "    plt.rc('font', family='AppleGothic')\n",
    "elif platform.system() == 'Windows': # Windows 환경 폰트 설정\n",
    "    plt.rc('font', family='Malgun Gothic')\n",
    "\n",
    "plt.rc('axes', unicode_minus=False) # 마이너스 폰트 설정\n",
    "\n",
    "\n",
    "# 글씨 선명하게 출력하는 설정\n",
    "%config InlineBackend.figure_format = 'retina'\n",
    "import pandas as pd \n",
    "import seaborn as sns\n",
    "\n",
    "supermarket_data = pd.read_csv('C:\\pythondata\\data\\실습과제\\data/supermarket.csv')"
   ]
  },
  {
   "cell_type": "code",
   "execution_count": 98,
   "id": "9f19576d",
   "metadata": {},
   "outputs": [
    {
     "data": {
      "text/html": [
       "<div>\n",
       "<style scoped>\n",
       "    .dataframe tbody tr th:only-of-type {\n",
       "        vertical-align: middle;\n",
       "    }\n",
       "\n",
       "    .dataframe tbody tr th {\n",
       "        vertical-align: top;\n",
       "    }\n",
       "\n",
       "    .dataframe thead th {\n",
       "        text-align: right;\n",
       "    }\n",
       "</style>\n",
       "<table border=\"1\" class=\"dataframe\">\n",
       "  <thead>\n",
       "    <tr style=\"text-align: right;\">\n",
       "      <th></th>\n",
       "      <th>Invoice ID</th>\n",
       "      <th>Branch</th>\n",
       "      <th>City</th>\n",
       "      <th>Customer type</th>\n",
       "      <th>Gender</th>\n",
       "      <th>Product line</th>\n",
       "      <th>Unit price</th>\n",
       "      <th>Quantity</th>\n",
       "      <th>Tax 5%</th>\n",
       "      <th>Total</th>\n",
       "      <th>Date</th>\n",
       "      <th>Time</th>\n",
       "      <th>Payment</th>\n",
       "      <th>cogs</th>\n",
       "      <th>gross margin percentage</th>\n",
       "      <th>gross income</th>\n",
       "      <th>Rating</th>\n",
       "    </tr>\n",
       "  </thead>\n",
       "  <tbody>\n",
       "    <tr>\n",
       "      <th>0</th>\n",
       "      <td>750-67-8428</td>\n",
       "      <td>A</td>\n",
       "      <td>Yangon</td>\n",
       "      <td>Member</td>\n",
       "      <td>Female</td>\n",
       "      <td>Health and beauty</td>\n",
       "      <td>74.69</td>\n",
       "      <td>7</td>\n",
       "      <td>26.1415</td>\n",
       "      <td>548.9715</td>\n",
       "      <td>1/5/2019</td>\n",
       "      <td>13:08</td>\n",
       "      <td>Ewallet</td>\n",
       "      <td>522.83</td>\n",
       "      <td>4.761905</td>\n",
       "      <td>26.1415</td>\n",
       "      <td>9.1</td>\n",
       "    </tr>\n",
       "    <tr>\n",
       "      <th>1</th>\n",
       "      <td>226-31-3081</td>\n",
       "      <td>C</td>\n",
       "      <td>Naypyitaw</td>\n",
       "      <td>Normal</td>\n",
       "      <td>Female</td>\n",
       "      <td>Electronic accessories</td>\n",
       "      <td>15.28</td>\n",
       "      <td>5</td>\n",
       "      <td>3.8200</td>\n",
       "      <td>80.2200</td>\n",
       "      <td>3/8/2019</td>\n",
       "      <td>10:29</td>\n",
       "      <td>Cash</td>\n",
       "      <td>76.40</td>\n",
       "      <td>4.761905</td>\n",
       "      <td>3.8200</td>\n",
       "      <td>9.6</td>\n",
       "    </tr>\n",
       "    <tr>\n",
       "      <th>2</th>\n",
       "      <td>631-41-3108</td>\n",
       "      <td>A</td>\n",
       "      <td>Yangon</td>\n",
       "      <td>Normal</td>\n",
       "      <td>Male</td>\n",
       "      <td>Home and lifestyle</td>\n",
       "      <td>46.33</td>\n",
       "      <td>7</td>\n",
       "      <td>16.2155</td>\n",
       "      <td>340.5255</td>\n",
       "      <td>3/3/2019</td>\n",
       "      <td>13:23</td>\n",
       "      <td>Credit card</td>\n",
       "      <td>324.31</td>\n",
       "      <td>4.761905</td>\n",
       "      <td>16.2155</td>\n",
       "      <td>7.4</td>\n",
       "    </tr>\n",
       "    <tr>\n",
       "      <th>3</th>\n",
       "      <td>123-19-1176</td>\n",
       "      <td>A</td>\n",
       "      <td>Yangon</td>\n",
       "      <td>Member</td>\n",
       "      <td>Male</td>\n",
       "      <td>Health and beauty</td>\n",
       "      <td>58.22</td>\n",
       "      <td>8</td>\n",
       "      <td>23.2880</td>\n",
       "      <td>489.0480</td>\n",
       "      <td>1/27/2019</td>\n",
       "      <td>20:33</td>\n",
       "      <td>Ewallet</td>\n",
       "      <td>465.76</td>\n",
       "      <td>4.761905</td>\n",
       "      <td>23.2880</td>\n",
       "      <td>8.4</td>\n",
       "    </tr>\n",
       "    <tr>\n",
       "      <th>4</th>\n",
       "      <td>373-73-7910</td>\n",
       "      <td>A</td>\n",
       "      <td>Yangon</td>\n",
       "      <td>Normal</td>\n",
       "      <td>Male</td>\n",
       "      <td>Sports and travel</td>\n",
       "      <td>86.31</td>\n",
       "      <td>7</td>\n",
       "      <td>30.2085</td>\n",
       "      <td>634.3785</td>\n",
       "      <td>2/8/2019</td>\n",
       "      <td>10:37</td>\n",
       "      <td>Ewallet</td>\n",
       "      <td>604.17</td>\n",
       "      <td>4.761905</td>\n",
       "      <td>30.2085</td>\n",
       "      <td>5.3</td>\n",
       "    </tr>\n",
       "  </tbody>\n",
       "</table>\n",
       "</div>"
      ],
      "text/plain": [
       "    Invoice ID Branch       City Customer type  Gender  \\\n",
       "0  750-67-8428      A     Yangon        Member  Female   \n",
       "1  226-31-3081      C  Naypyitaw        Normal  Female   \n",
       "2  631-41-3108      A     Yangon        Normal    Male   \n",
       "3  123-19-1176      A     Yangon        Member    Male   \n",
       "4  373-73-7910      A     Yangon        Normal    Male   \n",
       "\n",
       "             Product line  Unit price  Quantity   Tax 5%     Total       Date  \\\n",
       "0       Health and beauty       74.69         7  26.1415  548.9715   1/5/2019   \n",
       "1  Electronic accessories       15.28         5   3.8200   80.2200   3/8/2019   \n",
       "2      Home and lifestyle       46.33         7  16.2155  340.5255   3/3/2019   \n",
       "3       Health and beauty       58.22         8  23.2880  489.0480  1/27/2019   \n",
       "4       Sports and travel       86.31         7  30.2085  634.3785   2/8/2019   \n",
       "\n",
       "    Time      Payment    cogs  gross margin percentage  gross income  Rating  \n",
       "0  13:08      Ewallet  522.83                 4.761905       26.1415     9.1  \n",
       "1  10:29         Cash   76.40                 4.761905        3.8200     9.6  \n",
       "2  13:23  Credit card  324.31                 4.761905       16.2155     7.4  \n",
       "3  20:33      Ewallet  465.76                 4.761905       23.2880     8.4  \n",
       "4  10:37      Ewallet  604.17                 4.761905       30.2085     5.3  "
      ]
     },
     "execution_count": 98,
     "metadata": {},
     "output_type": "execute_result"
    }
   ],
   "source": [
    "supermarket_data.head()"
   ]
  },
  {
   "cell_type": "code",
   "execution_count": 99,
   "id": "c3e8876c",
   "metadata": {},
   "outputs": [
    {
     "data": {
      "text/html": [
       "<div>\n",
       "<style scoped>\n",
       "    .dataframe tbody tr th:only-of-type {\n",
       "        vertical-align: middle;\n",
       "    }\n",
       "\n",
       "    .dataframe tbody tr th {\n",
       "        vertical-align: top;\n",
       "    }\n",
       "\n",
       "    .dataframe thead th {\n",
       "        text-align: right;\n",
       "    }\n",
       "</style>\n",
       "<table border=\"1\" class=\"dataframe\">\n",
       "  <thead>\n",
       "    <tr style=\"text-align: right;\">\n",
       "      <th></th>\n",
       "      <th>Unit price</th>\n",
       "      <th>Quantity</th>\n",
       "      <th>Tax 5%</th>\n",
       "      <th>Total</th>\n",
       "      <th>cogs</th>\n",
       "      <th>gross margin percentage</th>\n",
       "      <th>gross income</th>\n",
       "      <th>Rating</th>\n",
       "    </tr>\n",
       "  </thead>\n",
       "  <tbody>\n",
       "    <tr>\n",
       "      <th>count</th>\n",
       "      <td>1000.000000</td>\n",
       "      <td>1000.000000</td>\n",
       "      <td>1000.000000</td>\n",
       "      <td>1000.000000</td>\n",
       "      <td>1000.00000</td>\n",
       "      <td>1.000000e+03</td>\n",
       "      <td>1000.000000</td>\n",
       "      <td>1000.00000</td>\n",
       "    </tr>\n",
       "    <tr>\n",
       "      <th>mean</th>\n",
       "      <td>55.672130</td>\n",
       "      <td>5.510000</td>\n",
       "      <td>15.379369</td>\n",
       "      <td>322.966749</td>\n",
       "      <td>307.58738</td>\n",
       "      <td>4.761905e+00</td>\n",
       "      <td>15.379369</td>\n",
       "      <td>6.97270</td>\n",
       "    </tr>\n",
       "    <tr>\n",
       "      <th>std</th>\n",
       "      <td>26.494628</td>\n",
       "      <td>2.923431</td>\n",
       "      <td>11.708825</td>\n",
       "      <td>245.885335</td>\n",
       "      <td>234.17651</td>\n",
       "      <td>6.131498e-14</td>\n",
       "      <td>11.708825</td>\n",
       "      <td>1.71858</td>\n",
       "    </tr>\n",
       "    <tr>\n",
       "      <th>min</th>\n",
       "      <td>10.080000</td>\n",
       "      <td>1.000000</td>\n",
       "      <td>0.508500</td>\n",
       "      <td>10.678500</td>\n",
       "      <td>10.17000</td>\n",
       "      <td>4.761905e+00</td>\n",
       "      <td>0.508500</td>\n",
       "      <td>4.00000</td>\n",
       "    </tr>\n",
       "    <tr>\n",
       "      <th>25%</th>\n",
       "      <td>32.875000</td>\n",
       "      <td>3.000000</td>\n",
       "      <td>5.924875</td>\n",
       "      <td>124.422375</td>\n",
       "      <td>118.49750</td>\n",
       "      <td>4.761905e+00</td>\n",
       "      <td>5.924875</td>\n",
       "      <td>5.50000</td>\n",
       "    </tr>\n",
       "    <tr>\n",
       "      <th>50%</th>\n",
       "      <td>55.230000</td>\n",
       "      <td>5.000000</td>\n",
       "      <td>12.088000</td>\n",
       "      <td>253.848000</td>\n",
       "      <td>241.76000</td>\n",
       "      <td>4.761905e+00</td>\n",
       "      <td>12.088000</td>\n",
       "      <td>7.00000</td>\n",
       "    </tr>\n",
       "    <tr>\n",
       "      <th>75%</th>\n",
       "      <td>77.935000</td>\n",
       "      <td>8.000000</td>\n",
       "      <td>22.445250</td>\n",
       "      <td>471.350250</td>\n",
       "      <td>448.90500</td>\n",
       "      <td>4.761905e+00</td>\n",
       "      <td>22.445250</td>\n",
       "      <td>8.50000</td>\n",
       "    </tr>\n",
       "    <tr>\n",
       "      <th>max</th>\n",
       "      <td>99.960000</td>\n",
       "      <td>10.000000</td>\n",
       "      <td>49.650000</td>\n",
       "      <td>1042.650000</td>\n",
       "      <td>993.00000</td>\n",
       "      <td>4.761905e+00</td>\n",
       "      <td>49.650000</td>\n",
       "      <td>10.00000</td>\n",
       "    </tr>\n",
       "  </tbody>\n",
       "</table>\n",
       "</div>"
      ],
      "text/plain": [
       "        Unit price     Quantity       Tax 5%        Total        cogs  \\\n",
       "count  1000.000000  1000.000000  1000.000000  1000.000000  1000.00000   \n",
       "mean     55.672130     5.510000    15.379369   322.966749   307.58738   \n",
       "std      26.494628     2.923431    11.708825   245.885335   234.17651   \n",
       "min      10.080000     1.000000     0.508500    10.678500    10.17000   \n",
       "25%      32.875000     3.000000     5.924875   124.422375   118.49750   \n",
       "50%      55.230000     5.000000    12.088000   253.848000   241.76000   \n",
       "75%      77.935000     8.000000    22.445250   471.350250   448.90500   \n",
       "max      99.960000    10.000000    49.650000  1042.650000   993.00000   \n",
       "\n",
       "       gross margin percentage  gross income      Rating  \n",
       "count             1.000000e+03   1000.000000  1000.00000  \n",
       "mean              4.761905e+00     15.379369     6.97270  \n",
       "std               6.131498e-14     11.708825     1.71858  \n",
       "min               4.761905e+00      0.508500     4.00000  \n",
       "25%               4.761905e+00      5.924875     5.50000  \n",
       "50%               4.761905e+00     12.088000     7.00000  \n",
       "75%               4.761905e+00     22.445250     8.50000  \n",
       "max               4.761905e+00     49.650000    10.00000  "
      ]
     },
     "execution_count": 99,
     "metadata": {},
     "output_type": "execute_result"
    }
   ],
   "source": [
    "supermarket_data.describe()"
   ]
  },
  {
   "cell_type": "code",
   "execution_count": 100,
   "id": "df4bf9a3",
   "metadata": {
    "scrolled": true
   },
   "outputs": [
    {
     "name": "stdout",
     "output_type": "stream",
     "text": [
      "<class 'pandas.core.frame.DataFrame'>\n",
      "RangeIndex: 1000 entries, 0 to 999\n",
      "Data columns (total 17 columns):\n",
      " #   Column                   Non-Null Count  Dtype  \n",
      "---  ------                   --------------  -----  \n",
      " 0   Invoice ID               1000 non-null   object \n",
      " 1   Branch                   1000 non-null   object \n",
      " 2   City                     1000 non-null   object \n",
      " 3   Customer type            1000 non-null   object \n",
      " 4   Gender                   1000 non-null   object \n",
      " 5   Product line             1000 non-null   object \n",
      " 6   Unit price               1000 non-null   float64\n",
      " 7   Quantity                 1000 non-null   int64  \n",
      " 8   Tax 5%                   1000 non-null   float64\n",
      " 9   Total                    1000 non-null   float64\n",
      " 10  Date                     1000 non-null   object \n",
      " 11  Time                     1000 non-null   object \n",
      " 12  Payment                  1000 non-null   object \n",
      " 13  cogs                     1000 non-null   float64\n",
      " 14  gross margin percentage  1000 non-null   float64\n",
      " 15  gross income             1000 non-null   float64\n",
      " 16  Rating                   1000 non-null   float64\n",
      "dtypes: float64(7), int64(1), object(9)\n",
      "memory usage: 132.9+ KB\n",
      "None\n",
      "RangeIndex(start=0, stop=1000, step=1)\n"
     ]
    }
   ],
   "source": [
    "print(supermarket_data.info())\n",
    "print(supermarket_data.index)\n",
    "# null값이 없음을 확인한다."
   ]
  },
  {
   "cell_type": "code",
   "execution_count": 101,
   "id": "c391838b",
   "metadata": {},
   "outputs": [],
   "source": [
    "# gender와 Product line으로 성별별 관심물품을 확인한다.\n",
    "# customer type과 product line으로 성별별 회원고객의 물품 선호도를 확인한다.\n",
    "# branch와 Customer type로 각 지사별 회원 수를 확힌할 수 있다.\n",
    "# branch와 gross income으로 지사별 이익을 확인한다.\n",
    "# Branch와 payment로 Branch별로 어떤 결제방법을 많이 사용하였는지 확인하다.\n",
    "\n",
    "# 위 정보들을 토대로 지사별로 프리미엄 회원 전략을 짜볼 수 있다."
   ]
  },
  {
   "cell_type": "code",
   "execution_count": 102,
   "id": "288aea0a",
   "metadata": {},
   "outputs": [
    {
     "name": "stdout",
     "output_type": "stream",
     "text": [
      "Gender                  Female  Male\n",
      "Product line                        \n",
      "Electronic accessories     488   483\n",
      "Fashion accessories        530   372\n",
      "Food and beverages         514   438\n",
      "Health and beauty          343   511\n",
      "Home and lifestyle         498   413\n",
      "Sports and travel          496   424\n"
     ]
    },
    {
     "data": {
      "text/plain": [
       "<AxesSubplot:xlabel='Product line', ylabel='Quantity'>"
      ]
     },
     "execution_count": 102,
     "metadata": {},
     "output_type": "execute_result"
    },
    {
     "data": {
      "image/png": "[encoded data removed]",
      "text/plain": [
       "<Figure size 432x288 with 1 Axes>"
      ]
     },
     "metadata": {
      "image/png": {
       "height": 350,
       "width": 376
      },
      "needs_background": "light"
     },
     "output_type": "display_data"
    }
   ],
   "source": [
    "# 1.gender와 Product line으로 성별별 관심물품을 확인한다.\n",
    "data_gen_product = pd.pivot_table(data = supermarket_data, index = 'Product line', columns = 'Gender', values = 'Quantity', aggfunc = 'sum')\n",
    "\n",
    "print(data_gen_product)\n",
    "\n",
    "graph_gen_product = sns.barplot(data = supermarket_data, x = 'Product line', y= 'Quantity', hue = 'Gender')\n",
    "plt.xticks(rotation = 90)\n",
    "\n",
    "graph_gen_product"
   ]
  },
  {
   "cell_type": "code",
   "execution_count": 103,
   "id": "de338578",
   "metadata": {},
   "outputs": [],
   "source": [
    "# 남성은 Health and beautyfmf 가장 많이 샀고, Fashion accessories를 가장 적게 샀다.\n",
    "# 여성은 Fashion accessories를 가장 많이 샀고, Health and beauty를 가장 적게 샀다."
   ]
  },
  {
   "cell_type": "code",
   "execution_count": 104,
   "id": "ee8e48b5",
   "metadata": {
    "scrolled": true
   },
   "outputs": [
    {
     "name": "stdout",
     "output_type": "stream",
     "text": [
      "Customer type           Member  Normal\n",
      "Product line                          \n",
      "Electronic accessories     429     542\n",
      "Fashion accessories        439     463\n",
      "Food and beverages         506     446\n",
      "Health and beauty          428     426\n",
      "Home and lifestyle         490     421\n",
      "Sports and travel          493     427\n"
     ]
    },
    {
     "data": {
      "text/plain": [
       "<AxesSubplot:xlabel='Product line', ylabel='Quantity'>"
      ]
     },
     "execution_count": 104,
     "metadata": {},
     "output_type": "execute_result"
    },
    {
     "data": {
      "image/png": "[encoded data removed]",
      "text/plain": [
       "<Figure size 432x288 with 1 Axes>"
      ]
     },
     "metadata": {
      "image/png": {
       "height": 350,
       "width": 376
      },
      "needs_background": "light"
     },
     "output_type": "display_data"
    }
   ],
   "source": [
    "# 2.customer type과 product line으로 성별별 회원고객의 물품 선호도를 확인한다.\n",
    "\n",
    "data_mem_product = pd.pivot_table(data = supermarket_data, index = 'Product line', columns = 'Customer type', values = 'Quantity', aggfunc = 'sum')\n",
    "\n",
    "print(data_mem_product)\n",
    "\n",
    "graph_Mem_product = sns.barplot(data = supermarket_data, x = 'Product line', y= 'Quantity', hue = 'Customer type')\n",
    "plt.xticks(rotation = 90)\n",
    "\n",
    "graph_Mem_product"
   ]
  },
  {
   "cell_type": "code",
   "execution_count": 105,
   "id": "226ebbbe",
   "metadata": {},
   "outputs": [],
   "source": [
    "# 비회원들은 Electronic accessories을 가장 많이 샀으며, Home and lifestyle을 가장 적게 샀다.\n",
    "# 회원들은 Food and beverages을 가장 많이 샀으며, Health and beauty를 가장 적게 샀다."
   ]
  },
  {
   "cell_type": "code",
   "execution_count": 106,
   "id": "dc3e228b",
   "metadata": {},
   "outputs": [
    {
     "name": "stdout",
     "output_type": "stream",
     "text": [
      "      Invoice ID Branch       City Customer type  Gender  \\\n",
      "0    750-67-8428      A     Yangon        Member  Female   \n",
      "3    123-19-1176      A     Yangon        Member    Male   \n",
      "6    355-53-5943      A     Yangon        Member  Female   \n",
      "8    665-32-9167      A     Yangon        Member  Female   \n",
      "9    692-92-5582      B   Mandalay        Member  Female   \n",
      "..           ...    ...        ...           ...     ...   \n",
      "988  267-62-7380      C  Naypyitaw        Member    Male   \n",
      "989  430-53-4718      B   Mandalay        Member    Male   \n",
      "994  652-49-6720      C  Naypyitaw        Member  Female   \n",
      "997  727-02-1313      A     Yangon        Member    Male   \n",
      "999  849-09-3807      A     Yangon        Member  Female   \n",
      "\n",
      "               Product line  Unit price  Quantity   Tax 5%     Total  \\\n",
      "0         Health and beauty       74.69         7  26.1415  548.9715   \n",
      "3         Health and beauty       58.22         8  23.2880  489.0480   \n",
      "6    Electronic accessories       68.84         6  20.6520  433.6920   \n",
      "8         Health and beauty       36.26         2   3.6260   76.1460   \n",
      "9        Food and beverages       54.84         3   8.2260  172.7460   \n",
      "..                      ...         ...       ...      ...       ...   \n",
      "988  Electronic accessories       82.34        10  41.1700  864.5700   \n",
      "989       Health and beauty       75.37         8  30.1480  633.1080   \n",
      "994  Electronic accessories       60.95         1   3.0475   63.9975   \n",
      "997      Food and beverages       31.84         1   1.5920   33.4320   \n",
      "999     Fashion accessories       88.34         7  30.9190  649.2990   \n",
      "\n",
      "          Date   Time      Payment    cogs  gross margin percentage  \\\n",
      "0     1/5/2019  13:08      Ewallet  522.83                 4.761905   \n",
      "3    1/27/2019  20:33      Ewallet  465.76                 4.761905   \n",
      "6    2/25/2019  14:36      Ewallet  413.04                 4.761905   \n",
      "8    1/10/2019  17:15  Credit card   72.52                 4.761905   \n",
      "9    2/20/2019  13:27  Credit card  164.52                 4.761905   \n",
      "..         ...    ...          ...     ...                      ...   \n",
      "988  3/29/2019  19:12      Ewallet  823.40                 4.761905   \n",
      "989  1/28/2019  15:46  Credit card  602.96                 4.761905   \n",
      "994  2/18/2019  11:40      Ewallet   60.95                 4.761905   \n",
      "997   2/9/2019  13:22         Cash   31.84                 4.761905   \n",
      "999  2/18/2019  13:28         Cash  618.38                 4.761905   \n",
      "\n",
      "     gross income  Rating  \n",
      "0         26.1415     9.1  \n",
      "3         23.2880     8.4  \n",
      "6         20.6520     5.8  \n",
      "8          3.6260     7.2  \n",
      "9          8.2260     5.9  \n",
      "..            ...     ...  \n",
      "988       41.1700     4.3  \n",
      "989       30.1480     8.4  \n",
      "994        3.0475     5.9  \n",
      "997        1.5920     7.7  \n",
      "999       30.9190     6.6  \n",
      "\n",
      "[501 rows x 17 columns]\n",
      "  Branch  count_mem\n",
      "0      A        167\n",
      "1      B        165\n",
      "2      C        169\n"
     ]
    },
    {
     "data": {
      "image/png": "[encoded data removed]",
      "text/plain": [
       "<Figure size 432x288 with 1 Axes>"
      ]
     },
     "metadata": {
      "image/png": {
       "height": 263,
       "width": 387
      },
      "needs_background": "light"
     },
     "output_type": "display_data"
    }
   ],
   "source": [
    "# 3.branch와 Customer type로 각 지사별 회원 수를 확힌할 수 있다.\n",
    "mem = supermarket_data[supermarket_data['Customer type'] == 'Member']\n",
    "print(mem)\n",
    "\n",
    "data_bran_mem = mem.groupby('Branch', as_index = False).agg(count_mem = ('Customer type', 'count'))\n",
    "print(data_bran_mem)\n",
    "\n",
    "graph_bran_mem = sns.barplot(data = data_bran_mem, x = 'Branch', y = 'count_mem')"
   ]
  },
  {
   "cell_type": "code",
   "execution_count": null,
   "id": "4b93da9f",
   "metadata": {},
   "outputs": [],
   "source": [
    "# 회원수가 평균 167명 정도로 비슷하다."
   ]
  },
  {
   "cell_type": "code",
   "execution_count": 107,
   "id": "9ff38e12",
   "metadata": {},
   "outputs": [
    {
     "name": "stdout",
     "output_type": "stream",
     "text": [
      "  Branch  bran_incom\n",
      "0      A   5057.1605\n",
      "1      B   5057.0320\n",
      "2      C   5265.1765\n"
     ]
    },
    {
     "data": {
      "image/png": "[encoded data removed]",
      "text/plain": [
       "<Figure size 432x288 with 1 Axes>"
      ]
     },
     "metadata": {
      "image/png": {
       "height": 263,
       "width": 392
      },
      "needs_background": "light"
     },
     "output_type": "display_data"
    }
   ],
   "source": [
    "# 4.branch와 gross income으로 지사별 이익을 확인한다.\n",
    "data_bran_incom = supermarket_data.groupby('Branch', as_index = False).agg(bran_incom = ('gross income', 'sum'))\n",
    "\n",
    "print(data_bran_incom)\n",
    "\n",
    "graph_bran_incom = sns.scatterplot(data = data_bran_incom, x = 'Branch', y ='bran_incom')"
   ]
  },
  {
   "cell_type": "code",
   "execution_count": 108,
   "id": "80b6eef5",
   "metadata": {},
   "outputs": [],
   "source": [
    "# A와B 지사는 이익금이 비슷하며 C가 가장 높다."
   ]
  },
  {
   "cell_type": "code",
   "execution_count": 141,
   "id": "eb93d820",
   "metadata": {},
   "outputs": [
    {
     "name": "stdout",
     "output_type": "stream",
     "text": [
      "<class 'pandas.core.frame.DataFrame'>\n",
      "Int64Index: 345 entries, 0 to 996\n",
      "Data columns (total 18 columns):\n",
      " #   Column                   Non-Null Count  Dtype         \n",
      "---  ------                   --------------  -----         \n",
      " 0   Invoice ID               345 non-null    object        \n",
      " 1   Branch                   345 non-null    object        \n",
      " 2   City                     345 non-null    object        \n",
      " 3   Customer type            345 non-null    object        \n",
      " 4   Gender                   345 non-null    object        \n",
      " 5   Product line             345 non-null    object        \n",
      " 6   Unit price               345 non-null    float64       \n",
      " 7   Quantity                 345 non-null    int64         \n",
      " 8   Tax 5%                   345 non-null    float64       \n",
      " 9   Total                    345 non-null    float64       \n",
      " 10  Date                     345 non-null    object        \n",
      " 11  Time                     345 non-null    object        \n",
      " 12  Payment                  345 non-null    object        \n",
      " 13  cogs                     345 non-null    float64       \n",
      " 14  gross margin percentage  345 non-null    float64       \n",
      " 15  gross income             345 non-null    float64       \n",
      " 16  Rating                   345 non-null    float64       \n",
      " 17  time2                    345 non-null    datetime64[ns]\n",
      "dtypes: datetime64[ns](1), float64(7), int64(1), object(9)\n",
      "memory usage: 51.2+ KB\n",
      "None\n"
     ]
    },
    {
     "data": {
      "image/png": "[encoded data removed]",
      "text/plain": [
       "<Figure size 432x288 with 1 Axes>"
      ]
     },
     "metadata": {
      "image/png": {
       "height": 263,
       "width": 387
      },
      "needs_background": "light"
     },
     "output_type": "display_data"
    }
   ],
   "source": [
    "# 5.Branch와 payment로 Branch별로 어떤 결제방법을 많이 사용하였는지 확인하다.\n",
    "\n",
    "Ewallet = supermarket_data[supermarket_data['Payment'] == 'Ewallet']\n",
    "print(Ewallet.info(1))\n",
    "\n",
    "graph_Ewallet = sns.barplot(data = Ewallet, x = 'Branch', y = 'Total')"
   ]
  },
  {
   "cell_type": "code",
   "execution_count": null,
   "id": "f5939036",
   "metadata": {},
   "outputs": [],
   "source": [
    "# Ewallet을 c지사에서 가장 많이 사용하였고 b지사에서는 가장 적게 사용되었다.\n",
    "# B지사에서는 Ewallet 호환성을 재고해본다."
   ]
  },
  {
   "cell_type": "code",
   "execution_count": 140,
   "id": "83d63cdc",
   "metadata": {},
   "outputs": [
    {
     "name": "stdout",
     "output_type": "stream",
     "text": [
      "<class 'pandas.core.frame.DataFrame'>\n",
      "Int64Index: 311 entries, 2 to 990\n",
      "Data columns (total 18 columns):\n",
      " #   Column                   Non-Null Count  Dtype         \n",
      "---  ------                   --------------  -----         \n",
      " 0   Invoice ID               311 non-null    object        \n",
      " 1   Branch                   311 non-null    object        \n",
      " 2   City                     311 non-null    object        \n",
      " 3   Customer type            311 non-null    object        \n",
      " 4   Gender                   311 non-null    object        \n",
      " 5   Product line             311 non-null    object        \n",
      " 6   Unit price               311 non-null    float64       \n",
      " 7   Quantity                 311 non-null    int64         \n",
      " 8   Tax 5%                   311 non-null    float64       \n",
      " 9   Total                    311 non-null    float64       \n",
      " 10  Date                     311 non-null    object        \n",
      " 11  Time                     311 non-null    object        \n",
      " 12  Payment                  311 non-null    object        \n",
      " 13  cogs                     311 non-null    float64       \n",
      " 14  gross margin percentage  311 non-null    float64       \n",
      " 15  gross income             311 non-null    float64       \n",
      " 16  Rating                   311 non-null    float64       \n",
      " 17  time2                    311 non-null    datetime64[ns]\n",
      "dtypes: datetime64[ns](1), float64(7), int64(1), object(9)\n",
      "memory usage: 46.2+ KB\n",
      "None\n"
     ]
    },
    {
     "data": {
      "image/png": "[encoded data removed]",
      "text/plain": [
       "<Figure size 432x288 with 1 Axes>"
      ]
     },
     "metadata": {
      "image/png": {
       "height": 263,
       "width": 387
      },
      "needs_background": "light"
     },
     "output_type": "display_data"
    }
   ],
   "source": [
    "Credit_card = supermarket_data[supermarket_data['Payment'] == 'Credit card']\n",
    "print(Credit_card.info(1))\n",
    "\n",
    "graph_Credit_card = sns.barplot(data = Credit_card, x = 'Branch', y = 'Total')"
   ]
  },
  {
   "cell_type": "code",
   "execution_count": null,
   "id": "bb5c3022",
   "metadata": {},
   "outputs": [],
   "source": [
    "# credit card는 B지사에서 가장 많이 사용 되었고, A지사에서 가장 적게 사용되었다.\n",
    "# B지사에서 특정 카드회사와 제휴계약을 맺을 수 있는지 재고해본다."
   ]
  },
  {
   "cell_type": "code",
   "execution_count": 142,
   "id": "f8b7f7ed",
   "metadata": {},
   "outputs": [
    {
     "name": "stdout",
     "output_type": "stream",
     "text": [
      "<class 'pandas.core.frame.DataFrame'>\n",
      "Int64Index: 344 entries, 1 to 999\n",
      "Data columns (total 18 columns):\n",
      " #   Column                   Non-Null Count  Dtype         \n",
      "---  ------                   --------------  -----         \n",
      " 0   Invoice ID               344 non-null    object        \n",
      " 1   Branch                   344 non-null    object        \n",
      " 2   City                     344 non-null    object        \n",
      " 3   Customer type            344 non-null    object        \n",
      " 4   Gender                   344 non-null    object        \n",
      " 5   Product line             344 non-null    object        \n",
      " 6   Unit price               344 non-null    float64       \n",
      " 7   Quantity                 344 non-null    int64         \n",
      " 8   Tax 5%                   344 non-null    float64       \n",
      " 9   Total                    344 non-null    float64       \n",
      " 10  Date                     344 non-null    object        \n",
      " 11  Time                     344 non-null    object        \n",
      " 12  Payment                  344 non-null    object        \n",
      " 13  cogs                     344 non-null    float64       \n",
      " 14  gross margin percentage  344 non-null    float64       \n",
      " 15  gross income             344 non-null    float64       \n",
      " 16  Rating                   344 non-null    float64       \n",
      " 17  time2                    344 non-null    datetime64[ns]\n",
      "dtypes: datetime64[ns](1), float64(7), int64(1), object(9)\n",
      "memory usage: 51.1+ KB\n",
      "None\n"
     ]
    },
    {
     "data": {
      "image/png": "[encoded data removed]",
      "text/plain": [
       "<Figure size 432x288 with 1 Axes>"
      ]
     },
     "metadata": {
      "image/png": {
       "height": 263,
       "width": 387
      },
      "needs_background": "light"
     },
     "output_type": "display_data"
    }
   ],
   "source": [
    "Cash = supermarket_data[supermarket_data['Payment'] == 'Cash']\n",
    "print(Cash.info(1))\n",
    "\n",
    "graph_Cash = sns.barplot(data = Cash, x = 'Branch', y = 'Total')\n"
   ]
  },
  {
   "cell_type": "code",
   "execution_count": null,
   "id": "e0da1c2b",
   "metadata": {},
   "outputs": [],
   "source": [
    "# C지사에서 Cash를 가장 많이 사용하였고, A지사에서 가장 적게 사용되었다.\n",
    "# C지사에서는 상품권을 현금으로 거래할 수 있는 시스템을 재고해본다."
   ]
  },
  {
   "cell_type": "code",
   "execution_count": null,
   "id": "5973378e",
   "metadata": {},
   "outputs": [],
   "source": [
    "# 남성은 Health and beautyfmf 가장 많이 샀고, Fashion accessories를 가장 적게 샀다.\n",
    "# 여성은 Fashion accessories를 가장 많이 샀고, Health and beauty를 가장 적게 샀다.\n",
    "\n",
    "# 비회원들은 Electronic accessories을 가장 많이 샀으며, Home and lifestyle을 가장 적게 샀다.\n",
    "# 회원들은 Food and beverages을 가장 많이 샀으며, Health and beauty를 가장 적게 샀다.\n",
    "\n",
    "# 회원수가 평균 167명 정도로 비슷하다.\n",
    "\n",
    "# 비회원들을 끌어들이기 위해서 Electronic accessories의 회원구매 시 혜택을 재고한다,\n",
    "# 여성회원들에게 Health and beauty 구매 시 혜택을 재고한다.\n",
    "# Home and lifestyle의 비중을 줄인다.\n",
    "\n",
    "# A와B 지사는 이익금이 비슷하며 C가 가장 높다.\n",
    "\n",
    "# Ewallet을 c지사에서 가장 많이 사용하였고 b지사에서는 가장 적게 사용되었다.\n",
    "# B지사에서는 Ewallet 호환성을 재고해본다.\n",
    "\n",
    "# credit card는 B지사에서 가장 많이 사용 되었고, A지사에서 가장 적게 사용되었다.\n",
    "# B지사에서 특정 카드회사와 제휴계약을 맺을 수 있는지 재고해본다.\n",
    "\n",
    "# C지사에서 Cash를 가장 많이 사용하였고, A지사에서 가장 적게 사용되었다.\n",
    "# C지사에서는 상품권을 현금으로 거래할 수 있는 시스템을 재고해본다."
   ]
  }
 ],
 "metadata": {
  "kernelspec": {
   "display_name": "Python 3 (ipykernel)",
   "language": "python",
   "name": "python3"
  },
  "language_info": {
   "codemirror_mode": {
    "name": "ipython",
    "version": 3
   },
   "file_extension": ".py",
   "mimetype": "text/x-python",
   "name": "python",
   "nbconvert_exporter": "python",
   "pygments_lexer": "ipython3",
   "version": "3.9.12"
  },
  "toc": {
   "base_numbering": 1,
   "nav_menu": {},
   "number_sections": true,
   "sideBar": true,
   "skip_h1_title": false,
   "title_cell": "Table of Contents",
   "title_sidebar": "Contents",
   "toc_cell": false,
   "toc_position": {},
   "toc_section_display": true,
   "toc_window_display": false
  }
 },
 "nbformat": 4,
 "nbformat_minor": 5
}

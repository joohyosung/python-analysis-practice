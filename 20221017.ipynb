{
 "cells": [
  {
   "cell_type": "markdown",
   "id": "04c4d927",
   "metadata": {},
   "source": [
    "# 연습문제 7 ~ 9 "
   ]
  },
  {
   "cell_type": "code",
   "execution_count": 2,
   "id": "11841760",
   "metadata": {},
   "outputs": [
    {
     "data": {
      "text/html": [
       "<div>\n",
       "<style scoped>\n",
       "    .dataframe tbody tr th:only-of-type {\n",
       "        vertical-align: middle;\n",
       "    }\n",
       "\n",
       "    .dataframe tbody tr th {\n",
       "        vertical-align: top;\n",
       "    }\n",
       "\n",
       "    .dataframe thead th {\n",
       "        text-align: right;\n",
       "    }\n",
       "</style>\n",
       "<table border=\"1\" class=\"dataframe\">\n",
       "  <thead>\n",
       "    <tr style=\"text-align: right;\">\n",
       "      <th></th>\n",
       "      <th>Unnamed: 0</th>\n",
       "      <th>ID</th>\n",
       "      <th>총구매수량_x</th>\n",
       "      <th>기타품목구매비율</th>\n",
       "      <th>수저류구매비율</th>\n",
       "      <th>실링구매비율</th>\n",
       "      <th>용기류구매비율</th>\n",
       "      <th>위생용품구매비율</th>\n",
       "      <th>총구매횟수</th>\n",
       "      <th>총판매액</th>\n",
       "      <th>...</th>\n",
       "      <th>최종주문연도</th>\n",
       "      <th>최종주문월</th>\n",
       "      <th>최종주문일자</th>\n",
       "      <th>최종주문요일</th>\n",
       "      <th>최종주문시간</th>\n",
       "      <th>회원가입일(clean)</th>\n",
       "      <th>가입연도</th>\n",
       "      <th>가입월</th>\n",
       "      <th>가입일자</th>\n",
       "      <th>가입요일</th>\n",
       "    </tr>\n",
       "  </thead>\n",
       "  <tbody>\n",
       "    <tr>\n",
       "      <th>0</th>\n",
       "      <td>0</td>\n",
       "      <td>100304734@n</td>\n",
       "      <td>1.0</td>\n",
       "      <td>0.000</td>\n",
       "      <td>0.000</td>\n",
       "      <td>0.0</td>\n",
       "      <td>1.000</td>\n",
       "      <td>0.000</td>\n",
       "      <td>1</td>\n",
       "      <td>103300</td>\n",
       "      <td>...</td>\n",
       "      <td>2019.0</td>\n",
       "      <td>5.0</td>\n",
       "      <td>9.0</td>\n",
       "      <td>Thursday</td>\n",
       "      <td>14.0</td>\n",
       "      <td>2019-05-09 00:00:00</td>\n",
       "      <td>2019.0</td>\n",
       "      <td>5.0</td>\n",
       "      <td>9.0</td>\n",
       "      <td>Thursday</td>\n",
       "    </tr>\n",
       "    <tr>\n",
       "      <th>1</th>\n",
       "      <td>1</td>\n",
       "      <td>1003409866@k</td>\n",
       "      <td>62.0</td>\n",
       "      <td>0.000</td>\n",
       "      <td>0.000</td>\n",
       "      <td>0.0</td>\n",
       "      <td>1.000</td>\n",
       "      <td>0.000</td>\n",
       "      <td>18</td>\n",
       "      <td>4303880</td>\n",
       "      <td>...</td>\n",
       "      <td>2019.0</td>\n",
       "      <td>5.0</td>\n",
       "      <td>28.0</td>\n",
       "      <td>Tuesday</td>\n",
       "      <td>16.0</td>\n",
       "      <td>2019-01-07 00:00:00</td>\n",
       "      <td>2019.0</td>\n",
       "      <td>1.0</td>\n",
       "      <td>7.0</td>\n",
       "      <td>Monday</td>\n",
       "    </tr>\n",
       "    <tr>\n",
       "      <th>2</th>\n",
       "      <td>2</td>\n",
       "      <td>100381931@n</td>\n",
       "      <td>5.0</td>\n",
       "      <td>0.000</td>\n",
       "      <td>0.000</td>\n",
       "      <td>0.0</td>\n",
       "      <td>0.000</td>\n",
       "      <td>1.000</td>\n",
       "      <td>3</td>\n",
       "      <td>71050</td>\n",
       "      <td>...</td>\n",
       "      <td>2019.0</td>\n",
       "      <td>2.0</td>\n",
       "      <td>10.0</td>\n",
       "      <td>Sunday</td>\n",
       "      <td>21.0</td>\n",
       "      <td>2018-10-31 00:00:00</td>\n",
       "      <td>2018.0</td>\n",
       "      <td>10.0</td>\n",
       "      <td>31.0</td>\n",
       "      <td>Wednesday</td>\n",
       "    </tr>\n",
       "    <tr>\n",
       "      <th>3</th>\n",
       "      <td>3</td>\n",
       "      <td>1004498382@k</td>\n",
       "      <td>1.0</td>\n",
       "      <td>0.000</td>\n",
       "      <td>0.000</td>\n",
       "      <td>0.0</td>\n",
       "      <td>1.000</td>\n",
       "      <td>0.000</td>\n",
       "      <td>1</td>\n",
       "      <td>76400</td>\n",
       "      <td>...</td>\n",
       "      <td>2019.0</td>\n",
       "      <td>1.0</td>\n",
       "      <td>9.0</td>\n",
       "      <td>Wednesday</td>\n",
       "      <td>12.0</td>\n",
       "      <td>2019-01-09 00:00:00</td>\n",
       "      <td>2019.0</td>\n",
       "      <td>1.0</td>\n",
       "      <td>9.0</td>\n",
       "      <td>Wednesday</td>\n",
       "    </tr>\n",
       "    <tr>\n",
       "      <th>4</th>\n",
       "      <td>4</td>\n",
       "      <td>1004547839@k</td>\n",
       "      <td>4.0</td>\n",
       "      <td>1.000</td>\n",
       "      <td>0.000</td>\n",
       "      <td>0.0</td>\n",
       "      <td>0.000</td>\n",
       "      <td>0.000</td>\n",
       "      <td>1</td>\n",
       "      <td>360800</td>\n",
       "      <td>...</td>\n",
       "      <td>2019.0</td>\n",
       "      <td>1.0</td>\n",
       "      <td>9.0</td>\n",
       "      <td>Wednesday</td>\n",
       "      <td>13.0</td>\n",
       "      <td>2019-01-09 00:00:00</td>\n",
       "      <td>2019.0</td>\n",
       "      <td>1.0</td>\n",
       "      <td>9.0</td>\n",
       "      <td>Wednesday</td>\n",
       "    </tr>\n",
       "    <tr>\n",
       "      <th>...</th>\n",
       "      <td>...</td>\n",
       "      <td>...</td>\n",
       "      <td>...</td>\n",
       "      <td>...</td>\n",
       "      <td>...</td>\n",
       "      <td>...</td>\n",
       "      <td>...</td>\n",
       "      <td>...</td>\n",
       "      <td>...</td>\n",
       "      <td>...</td>\n",
       "      <td>...</td>\n",
       "      <td>...</td>\n",
       "      <td>...</td>\n",
       "      <td>...</td>\n",
       "      <td>...</td>\n",
       "      <td>...</td>\n",
       "      <td>...</td>\n",
       "      <td>...</td>\n",
       "      <td>...</td>\n",
       "      <td>...</td>\n",
       "      <td>...</td>\n",
       "    </tr>\n",
       "    <tr>\n",
       "      <th>4919</th>\n",
       "      <td>4931</td>\n",
       "      <td>zxvnm07</td>\n",
       "      <td>2.0</td>\n",
       "      <td>0.000</td>\n",
       "      <td>0.000</td>\n",
       "      <td>0.0</td>\n",
       "      <td>0.500</td>\n",
       "      <td>0.500</td>\n",
       "      <td>1</td>\n",
       "      <td>94380</td>\n",
       "      <td>...</td>\n",
       "      <td>2018.0</td>\n",
       "      <td>10.0</td>\n",
       "      <td>30.0</td>\n",
       "      <td>Tuesday</td>\n",
       "      <td>16.0</td>\n",
       "      <td>2018-10-30 00:00:00</td>\n",
       "      <td>2018.0</td>\n",
       "      <td>10.0</td>\n",
       "      <td>30.0</td>\n",
       "      <td>Tuesday</td>\n",
       "    </tr>\n",
       "    <tr>\n",
       "      <th>4920</th>\n",
       "      <td>4932</td>\n",
       "      <td>zxxz60</td>\n",
       "      <td>23.0</td>\n",
       "      <td>0.000</td>\n",
       "      <td>0.000</td>\n",
       "      <td>0.0</td>\n",
       "      <td>1.000</td>\n",
       "      <td>0.000</td>\n",
       "      <td>6</td>\n",
       "      <td>1341280</td>\n",
       "      <td>...</td>\n",
       "      <td>2019.0</td>\n",
       "      <td>5.0</td>\n",
       "      <td>23.0</td>\n",
       "      <td>Thursday</td>\n",
       "      <td>14.0</td>\n",
       "      <td>2019-03-29 00:00:00</td>\n",
       "      <td>2019.0</td>\n",
       "      <td>3.0</td>\n",
       "      <td>29.0</td>\n",
       "      <td>Friday</td>\n",
       "    </tr>\n",
       "    <tr>\n",
       "      <th>4921</th>\n",
       "      <td>4933</td>\n",
       "      <td>zzar2000</td>\n",
       "      <td>27.0</td>\n",
       "      <td>0.000</td>\n",
       "      <td>0.148</td>\n",
       "      <td>0.0</td>\n",
       "      <td>0.778</td>\n",
       "      <td>0.074</td>\n",
       "      <td>19</td>\n",
       "      <td>1534750</td>\n",
       "      <td>...</td>\n",
       "      <td>2019.0</td>\n",
       "      <td>5.0</td>\n",
       "      <td>27.0</td>\n",
       "      <td>Monday</td>\n",
       "      <td>7.0</td>\n",
       "      <td>2018-11-01 00:00:00</td>\n",
       "      <td>2018.0</td>\n",
       "      <td>11.0</td>\n",
       "      <td>1.0</td>\n",
       "      <td>Thursday</td>\n",
       "    </tr>\n",
       "    <tr>\n",
       "      <th>4922</th>\n",
       "      <td>4934</td>\n",
       "      <td>zzbbwmf</td>\n",
       "      <td>15.0</td>\n",
       "      <td>0.000</td>\n",
       "      <td>0.067</td>\n",
       "      <td>0.0</td>\n",
       "      <td>0.933</td>\n",
       "      <td>0.000</td>\n",
       "      <td>6</td>\n",
       "      <td>1160550</td>\n",
       "      <td>...</td>\n",
       "      <td>2019.0</td>\n",
       "      <td>4.0</td>\n",
       "      <td>30.0</td>\n",
       "      <td>Tuesday</td>\n",
       "      <td>17.0</td>\n",
       "      <td>2018-10-16 00:00:00</td>\n",
       "      <td>2018.0</td>\n",
       "      <td>10.0</td>\n",
       "      <td>16.0</td>\n",
       "      <td>Tuesday</td>\n",
       "    </tr>\n",
       "    <tr>\n",
       "      <th>4923</th>\n",
       "      <td>4935</td>\n",
       "      <td>zzzxkxk91</td>\n",
       "      <td>3.0</td>\n",
       "      <td>0.333</td>\n",
       "      <td>0.000</td>\n",
       "      <td>0.0</td>\n",
       "      <td>0.667</td>\n",
       "      <td>0.000</td>\n",
       "      <td>1</td>\n",
       "      <td>153650</td>\n",
       "      <td>...</td>\n",
       "      <td>2018.0</td>\n",
       "      <td>1.0</td>\n",
       "      <td>3.0</td>\n",
       "      <td>Wednesday</td>\n",
       "      <td>14.0</td>\n",
       "      <td>2018-01-03 00:00:00</td>\n",
       "      <td>2018.0</td>\n",
       "      <td>1.0</td>\n",
       "      <td>3.0</td>\n",
       "      <td>Wednesday</td>\n",
       "    </tr>\n",
       "  </tbody>\n",
       "</table>\n",
       "<p>4924 rows × 36 columns</p>\n",
       "</div>"
      ],
      "text/plain": [
       "      Unnamed: 0            ID  총구매수량_x  기타품목구매비율  수저류구매비율  실링구매비율  용기류구매비율  \\\n",
       "0              0   100304734@n      1.0     0.000    0.000     0.0    1.000   \n",
       "1              1  1003409866@k     62.0     0.000    0.000     0.0    1.000   \n",
       "2              2   100381931@n      5.0     0.000    0.000     0.0    0.000   \n",
       "3              3  1004498382@k      1.0     0.000    0.000     0.0    1.000   \n",
       "4              4  1004547839@k      4.0     1.000    0.000     0.0    0.000   \n",
       "...          ...           ...      ...       ...      ...     ...      ...   \n",
       "4919        4931       zxvnm07      2.0     0.000    0.000     0.0    0.500   \n",
       "4920        4932        zxxz60     23.0     0.000    0.000     0.0    1.000   \n",
       "4921        4933      zzar2000     27.0     0.000    0.148     0.0    0.778   \n",
       "4922        4934       zzbbwmf     15.0     0.000    0.067     0.0    0.933   \n",
       "4923        4935     zzzxkxk91      3.0     0.333    0.000     0.0    0.667   \n",
       "\n",
       "      위생용품구매비율  총구매횟수     총판매액  ...  최종주문연도  최종주문월  최종주문일자     최종주문요일 최종주문시간  \\\n",
       "0        0.000      1   103300  ...  2019.0    5.0     9.0   Thursday   14.0   \n",
       "1        0.000     18  4303880  ...  2019.0    5.0    28.0    Tuesday   16.0   \n",
       "2        1.000      3    71050  ...  2019.0    2.0    10.0     Sunday   21.0   \n",
       "3        0.000      1    76400  ...  2019.0    1.0     9.0  Wednesday   12.0   \n",
       "4        0.000      1   360800  ...  2019.0    1.0     9.0  Wednesday   13.0   \n",
       "...        ...    ...      ...  ...     ...    ...     ...        ...    ...   \n",
       "4919     0.500      1    94380  ...  2018.0   10.0    30.0    Tuesday   16.0   \n",
       "4920     0.000      6  1341280  ...  2019.0    5.0    23.0   Thursday   14.0   \n",
       "4921     0.074     19  1534750  ...  2019.0    5.0    27.0     Monday    7.0   \n",
       "4922     0.000      6  1160550  ...  2019.0    4.0    30.0    Tuesday   17.0   \n",
       "4923     0.000      1   153650  ...  2018.0    1.0     3.0  Wednesday   14.0   \n",
       "\n",
       "             회원가입일(clean)    가입연도   가입월  가입일자       가입요일  \n",
       "0     2019-05-09 00:00:00  2019.0   5.0   9.0   Thursday  \n",
       "1     2019-01-07 00:00:00  2019.0   1.0   7.0     Monday  \n",
       "2     2018-10-31 00:00:00  2018.0  10.0  31.0  Wednesday  \n",
       "3     2019-01-09 00:00:00  2019.0   1.0   9.0  Wednesday  \n",
       "4     2019-01-09 00:00:00  2019.0   1.0   9.0  Wednesday  \n",
       "...                   ...     ...   ...   ...        ...  \n",
       "4919  2018-10-30 00:00:00  2018.0  10.0  30.0    Tuesday  \n",
       "4920  2019-03-29 00:00:00  2019.0   3.0  29.0     Friday  \n",
       "4921  2018-11-01 00:00:00  2018.0  11.0   1.0   Thursday  \n",
       "4922  2018-10-16 00:00:00  2018.0  10.0  16.0    Tuesday  \n",
       "4923  2018-01-03 00:00:00  2018.0   1.0   3.0  Wednesday  \n",
       "\n",
       "[4924 rows x 36 columns]"
      ]
     },
     "execution_count": 2,
     "metadata": {},
     "output_type": "execute_result"
    }
   ],
   "source": [
    "import pandas as pd\n",
    "df = pd.read_csv('data/@preprocessing_data_member01.csv', encoding = 'utf-8')\n",
    "df['최종주문요일'] = pd.Categorical(df['최종주문요일'],\n",
    "['Monday','Tuesday','Wednesday','Thursday','Friday' ,'Saturday','Sunday'])\n",
    "df"
   ]
  },
  {
   "cell_type": "code",
   "execution_count": 20,
   "id": "747190b7",
   "metadata": {},
   "outputs": [
    {
     "data": {
      "text/html": [
       "<div>\n",
       "<style scoped>\n",
       "    .dataframe tbody tr th:only-of-type {\n",
       "        vertical-align: middle;\n",
       "    }\n",
       "\n",
       "    .dataframe tbody tr th {\n",
       "        vertical-align: top;\n",
       "    }\n",
       "\n",
       "    .dataframe thead th {\n",
       "        text-align: right;\n",
       "    }\n",
       "</style>\n",
       "<table border=\"1\" class=\"dataframe\">\n",
       "  <thead>\n",
       "    <tr style=\"text-align: right;\">\n",
       "      <th>유입경로</th>\n",
       "      <th>SNS광고</th>\n",
       "      <th>기타</th>\n",
       "      <th>블로그광고</th>\n",
       "      <th>신문광고</th>\n",
       "      <th>유튜브광고</th>\n",
       "      <th>이메일광고</th>\n",
       "      <th>인터넷검색</th>\n",
       "      <th>인터넷기사광고</th>\n",
       "      <th>잡지광고</th>\n",
       "      <th>전단지광고</th>\n",
       "      <th>지인추천</th>\n",
       "      <th>카카오톡광고</th>\n",
       "    </tr>\n",
       "    <tr>\n",
       "      <th>최종주문요일</th>\n",
       "      <th></th>\n",
       "      <th></th>\n",
       "      <th></th>\n",
       "      <th></th>\n",
       "      <th></th>\n",
       "      <th></th>\n",
       "      <th></th>\n",
       "      <th></th>\n",
       "      <th></th>\n",
       "      <th></th>\n",
       "      <th></th>\n",
       "      <th></th>\n",
       "    </tr>\n",
       "  </thead>\n",
       "  <tbody>\n",
       "    <tr>\n",
       "      <th>Monday</th>\n",
       "      <td>505</td>\n",
       "      <td>143</td>\n",
       "      <td>265</td>\n",
       "      <td>42</td>\n",
       "      <td>440</td>\n",
       "      <td>614</td>\n",
       "      <td>216</td>\n",
       "      <td>255</td>\n",
       "      <td>279</td>\n",
       "      <td>477</td>\n",
       "      <td>177</td>\n",
       "      <td>226</td>\n",
       "    </tr>\n",
       "    <tr>\n",
       "      <th>Tuesday</th>\n",
       "      <td>566</td>\n",
       "      <td>150</td>\n",
       "      <td>304</td>\n",
       "      <td>7</td>\n",
       "      <td>479</td>\n",
       "      <td>398</td>\n",
       "      <td>219</td>\n",
       "      <td>438</td>\n",
       "      <td>397</td>\n",
       "      <td>278</td>\n",
       "      <td>317</td>\n",
       "      <td>275</td>\n",
       "    </tr>\n",
       "    <tr>\n",
       "      <th>Wednesday</th>\n",
       "      <td>380</td>\n",
       "      <td>318</td>\n",
       "      <td>396</td>\n",
       "      <td>29</td>\n",
       "      <td>479</td>\n",
       "      <td>514</td>\n",
       "      <td>246</td>\n",
       "      <td>557</td>\n",
       "      <td>387</td>\n",
       "      <td>388</td>\n",
       "      <td>331</td>\n",
       "      <td>234</td>\n",
       "    </tr>\n",
       "    <tr>\n",
       "      <th>Thursday</th>\n",
       "      <td>618</td>\n",
       "      <td>192</td>\n",
       "      <td>257</td>\n",
       "      <td>85</td>\n",
       "      <td>397</td>\n",
       "      <td>563</td>\n",
       "      <td>242</td>\n",
       "      <td>417</td>\n",
       "      <td>279</td>\n",
       "      <td>486</td>\n",
       "      <td>263</td>\n",
       "      <td>282</td>\n",
       "    </tr>\n",
       "    <tr>\n",
       "      <th>Friday</th>\n",
       "      <td>384</td>\n",
       "      <td>158</td>\n",
       "      <td>165</td>\n",
       "      <td>20</td>\n",
       "      <td>308</td>\n",
       "      <td>344</td>\n",
       "      <td>183</td>\n",
       "      <td>349</td>\n",
       "      <td>330</td>\n",
       "      <td>336</td>\n",
       "      <td>351</td>\n",
       "      <td>116</td>\n",
       "    </tr>\n",
       "    <tr>\n",
       "      <th>Saturday</th>\n",
       "      <td>110</td>\n",
       "      <td>81</td>\n",
       "      <td>79</td>\n",
       "      <td>0</td>\n",
       "      <td>20</td>\n",
       "      <td>20</td>\n",
       "      <td>58</td>\n",
       "      <td>16</td>\n",
       "      <td>79</td>\n",
       "      <td>43</td>\n",
       "      <td>79</td>\n",
       "      <td>26</td>\n",
       "    </tr>\n",
       "    <tr>\n",
       "      <th>Sunday</th>\n",
       "      <td>183</td>\n",
       "      <td>30</td>\n",
       "      <td>51</td>\n",
       "      <td>41</td>\n",
       "      <td>20</td>\n",
       "      <td>71</td>\n",
       "      <td>84</td>\n",
       "      <td>29</td>\n",
       "      <td>68</td>\n",
       "      <td>137</td>\n",
       "      <td>122</td>\n",
       "      <td>63</td>\n",
       "    </tr>\n",
       "  </tbody>\n",
       "</table>\n",
       "</div>"
      ],
      "text/plain": [
       "유입경로       SNS광고   기타  블로그광고  신문광고  유튜브광고  이메일광고  인터넷검색  인터넷기사광고  잡지광고  전단지광고  \\\n",
       "최종주문요일                                                                          \n",
       "Monday       505  143    265    42    440    614    216      255   279    477   \n",
       "Tuesday      566  150    304     7    479    398    219      438   397    278   \n",
       "Wednesday    380  318    396    29    479    514    246      557   387    388   \n",
       "Thursday     618  192    257    85    397    563    242      417   279    486   \n",
       "Friday       384  158    165    20    308    344    183      349   330    336   \n",
       "Saturday     110   81     79     0     20     20     58       16    79     43   \n",
       "Sunday       183   30     51    41     20     71     84       29    68    137   \n",
       "\n",
       "유입경로       지인추천  카카오톡광고  \n",
       "최종주문요일                   \n",
       "Monday      177     226  \n",
       "Tuesday     317     275  \n",
       "Wednesday   331     234  \n",
       "Thursday    263     282  \n",
       "Friday      351     116  \n",
       "Saturday     79      26  \n",
       "Sunday      122      63  "
      ]
     },
     "execution_count": 20,
     "metadata": {},
     "output_type": "execute_result"
    }
   ],
   "source": [
    "#7   index columns values addfunc\n",
    "data = pd.pivot_table(data = df, index = '최종주문요일', columns = '유입경로', values = '총구매횟수', aggfunc = 'sum')\n",
    "data"
   ]
  },
  {
   "cell_type": "code",
   "execution_count": 22,
   "id": "f88c6b3d",
   "metadata": {},
   "outputs": [
    {
     "data": {
      "text/plain": [
       "최종주문요일\n",
       "Monday       3639\n",
       "Tuesday      3828\n",
       "Wednesday    4259\n",
       "Thursday     4081\n",
       "Friday       3044\n",
       "Saturday      611\n",
       "Sunday        899\n",
       "dtype: int64"
      ]
     },
     "execution_count": 22,
     "metadata": {},
     "output_type": "execute_result"
    }
   ],
   "source": [
    "data.sum(axis = 1)"
   ]
  },
  {
   "cell_type": "code",
   "execution_count": 25,
   "id": "34550382",
   "metadata": {},
   "outputs": [
    {
     "data": {
      "text/html": [
       "<div>\n",
       "<style scoped>\n",
       "    .dataframe tbody tr th:only-of-type {\n",
       "        vertical-align: middle;\n",
       "    }\n",
       "\n",
       "    .dataframe tbody tr th {\n",
       "        vertical-align: top;\n",
       "    }\n",
       "\n",
       "    .dataframe thead th {\n",
       "        text-align: right;\n",
       "    }\n",
       "</style>\n",
       "<table border=\"1\" class=\"dataframe\">\n",
       "  <thead>\n",
       "    <tr style=\"text-align: right;\">\n",
       "      <th>유입경로</th>\n",
       "      <th>SNS광고</th>\n",
       "      <th>기타</th>\n",
       "      <th>블로그광고</th>\n",
       "      <th>신문광고</th>\n",
       "      <th>유튜브광고</th>\n",
       "      <th>이메일광고</th>\n",
       "      <th>인터넷검색</th>\n",
       "      <th>인터넷기사광고</th>\n",
       "      <th>잡지광고</th>\n",
       "      <th>전단지광고</th>\n",
       "      <th>지인추천</th>\n",
       "      <th>카카오톡광고</th>\n",
       "      <th>총구매횟수(sum)</th>\n",
       "    </tr>\n",
       "    <tr>\n",
       "      <th>최종주문요일</th>\n",
       "      <th></th>\n",
       "      <th></th>\n",
       "      <th></th>\n",
       "      <th></th>\n",
       "      <th></th>\n",
       "      <th></th>\n",
       "      <th></th>\n",
       "      <th></th>\n",
       "      <th></th>\n",
       "      <th></th>\n",
       "      <th></th>\n",
       "      <th></th>\n",
       "      <th></th>\n",
       "    </tr>\n",
       "  </thead>\n",
       "  <tbody>\n",
       "    <tr>\n",
       "      <th>Monday</th>\n",
       "      <td>505</td>\n",
       "      <td>143</td>\n",
       "      <td>265</td>\n",
       "      <td>42</td>\n",
       "      <td>440</td>\n",
       "      <td>614</td>\n",
       "      <td>216</td>\n",
       "      <td>255</td>\n",
       "      <td>279</td>\n",
       "      <td>477</td>\n",
       "      <td>177</td>\n",
       "      <td>226</td>\n",
       "      <td>10917</td>\n",
       "    </tr>\n",
       "    <tr>\n",
       "      <th>Tuesday</th>\n",
       "      <td>566</td>\n",
       "      <td>150</td>\n",
       "      <td>304</td>\n",
       "      <td>7</td>\n",
       "      <td>479</td>\n",
       "      <td>398</td>\n",
       "      <td>219</td>\n",
       "      <td>438</td>\n",
       "      <td>397</td>\n",
       "      <td>278</td>\n",
       "      <td>317</td>\n",
       "      <td>275</td>\n",
       "      <td>11484</td>\n",
       "    </tr>\n",
       "    <tr>\n",
       "      <th>Wednesday</th>\n",
       "      <td>380</td>\n",
       "      <td>318</td>\n",
       "      <td>396</td>\n",
       "      <td>29</td>\n",
       "      <td>479</td>\n",
       "      <td>514</td>\n",
       "      <td>246</td>\n",
       "      <td>557</td>\n",
       "      <td>387</td>\n",
       "      <td>388</td>\n",
       "      <td>331</td>\n",
       "      <td>234</td>\n",
       "      <td>12777</td>\n",
       "    </tr>\n",
       "    <tr>\n",
       "      <th>Thursday</th>\n",
       "      <td>618</td>\n",
       "      <td>192</td>\n",
       "      <td>257</td>\n",
       "      <td>85</td>\n",
       "      <td>397</td>\n",
       "      <td>563</td>\n",
       "      <td>242</td>\n",
       "      <td>417</td>\n",
       "      <td>279</td>\n",
       "      <td>486</td>\n",
       "      <td>263</td>\n",
       "      <td>282</td>\n",
       "      <td>12243</td>\n",
       "    </tr>\n",
       "    <tr>\n",
       "      <th>Friday</th>\n",
       "      <td>384</td>\n",
       "      <td>158</td>\n",
       "      <td>165</td>\n",
       "      <td>20</td>\n",
       "      <td>308</td>\n",
       "      <td>344</td>\n",
       "      <td>183</td>\n",
       "      <td>349</td>\n",
       "      <td>330</td>\n",
       "      <td>336</td>\n",
       "      <td>351</td>\n",
       "      <td>116</td>\n",
       "      <td>9132</td>\n",
       "    </tr>\n",
       "    <tr>\n",
       "      <th>Saturday</th>\n",
       "      <td>110</td>\n",
       "      <td>81</td>\n",
       "      <td>79</td>\n",
       "      <td>0</td>\n",
       "      <td>20</td>\n",
       "      <td>20</td>\n",
       "      <td>58</td>\n",
       "      <td>16</td>\n",
       "      <td>79</td>\n",
       "      <td>43</td>\n",
       "      <td>79</td>\n",
       "      <td>26</td>\n",
       "      <td>1833</td>\n",
       "    </tr>\n",
       "    <tr>\n",
       "      <th>Sunday</th>\n",
       "      <td>183</td>\n",
       "      <td>30</td>\n",
       "      <td>51</td>\n",
       "      <td>41</td>\n",
       "      <td>20</td>\n",
       "      <td>71</td>\n",
       "      <td>84</td>\n",
       "      <td>29</td>\n",
       "      <td>68</td>\n",
       "      <td>137</td>\n",
       "      <td>122</td>\n",
       "      <td>63</td>\n",
       "      <td>2697</td>\n",
       "    </tr>\n",
       "  </tbody>\n",
       "</table>\n",
       "</div>"
      ],
      "text/plain": [
       "유입경로       SNS광고   기타  블로그광고  신문광고  유튜브광고  이메일광고  인터넷검색  인터넷기사광고  잡지광고  전단지광고  \\\n",
       "최종주문요일                                                                          \n",
       "Monday       505  143    265    42    440    614    216      255   279    477   \n",
       "Tuesday      566  150    304     7    479    398    219      438   397    278   \n",
       "Wednesday    380  318    396    29    479    514    246      557   387    388   \n",
       "Thursday     618  192    257    85    397    563    242      417   279    486   \n",
       "Friday       384  158    165    20    308    344    183      349   330    336   \n",
       "Saturday     110   81     79     0     20     20     58       16    79     43   \n",
       "Sunday       183   30     51    41     20     71     84       29    68    137   \n",
       "\n",
       "유입경로       지인추천  카카오톡광고  총구매횟수(sum)  \n",
       "최종주문요일                               \n",
       "Monday      177     226       10917  \n",
       "Tuesday     317     275       11484  \n",
       "Wednesday   331     234       12777  \n",
       "Thursday    263     282       12243  \n",
       "Friday      351     116        9132  \n",
       "Saturday     79      26        1833  \n",
       "Sunday      122      63        2697  "
      ]
     },
     "execution_count": 25,
     "metadata": {},
     "output_type": "execute_result"
    }
   ],
   "source": [
    "data['총구매횟수(sum)'] = data.sum(axis = 1)\n",
    "data"
   ]
  },
  {
   "cell_type": "code",
   "execution_count": 32,
   "id": "9deafd6b",
   "metadata": {
    "scrolled": true
   },
   "outputs": [
    {
     "name": "stdout",
     "output_type": "stream",
     "text": [
      "가장 많이 방문한 요일은 Wednesday이며 인터넷기사광고로 가장 많이 방문했습니다.\n"
     ]
    }
   ],
   "source": [
    "max_purchase_week = data.sort_values('총구매횟수(sum)',ascending = False).index[0]\n",
    "max_inflow_media = data.loc[max_purchase_week, :].sort_values(ascending = False).index[1]\n",
    "print(f'가장 많이 방문한 요일은 {max_purchase_week}이며 {max_inflow_media}로 가장 많이 방문했습니다.')"
   ]
  },
  {
   "cell_type": "code",
   "execution_count": 44,
   "id": "45b04619",
   "metadata": {},
   "outputs": [
    {
     "data": {
      "text/plain": [
       "최종주문요일\n",
       "Thursday    701618.56044\n",
       "Name: 총판매액, dtype: float64"
      ]
     },
     "execution_count": 44,
     "metadata": {},
     "output_type": "execute_result"
    }
   ],
   "source": [
    "#8-1\n",
    "data1 = df.groupby('최종주문요일')['총판매액'].mean()\n",
    "max_mean_week = data1.sort_values(ascending = False).head(1)\n",
    "max_mean_week"
   ]
  },
  {
   "cell_type": "code",
   "execution_count": 50,
   "id": "477c8883",
   "metadata": {},
   "outputs": [
    {
     "ename": "TypeError",
     "evalue": "pivot_table() got an unexpected keyword argument 'addfunc'",
     "output_type": "error",
     "traceback": [
      "\u001b[1;31m---------------------------------------------------------------------------\u001b[0m",
      "\u001b[1;31mTypeError\u001b[0m                                 Traceback (most recent call last)",
      "Input \u001b[1;32mIn [50]\u001b[0m, in \u001b[0;36m<cell line: 1>\u001b[1;34m()\u001b[0m\n\u001b[1;32m----> 1\u001b[0m \u001b[43mpd\u001b[49m\u001b[38;5;241;43m.\u001b[39;49m\u001b[43mpivot_table\u001b[49m\u001b[43m(\u001b[49m\u001b[43mdata\u001b[49m\u001b[43m \u001b[49m\u001b[38;5;241;43m=\u001b[39;49m\u001b[43m \u001b[49m\u001b[43mdf\u001b[49m\u001b[43m,\u001b[49m\u001b[43m \u001b[49m\u001b[43mindex\u001b[49m\u001b[43m \u001b[49m\u001b[38;5;241;43m=\u001b[39;49m\u001b[43m \u001b[49m\u001b[38;5;124;43m'\u001b[39;49m\u001b[38;5;124;43m최종주문요일\u001b[39;49m\u001b[38;5;124;43m'\u001b[39;49m\u001b[43m,\u001b[49m\u001b[43m \u001b[49m\u001b[43mvalues\u001b[49m\u001b[43m \u001b[49m\u001b[38;5;241;43m=\u001b[39;49m\u001b[43m \u001b[49m\u001b[38;5;124;43m'\u001b[39;49m\u001b[38;5;124;43m총판매액\u001b[39;49m\u001b[38;5;124;43m'\u001b[39;49m\u001b[43m,\u001b[49m\u001b[43m \u001b[49m\u001b[43maddfunc\u001b[49m\u001b[43m \u001b[49m\u001b[38;5;241;43m=\u001b[39;49m\u001b[43m \u001b[49m\u001b[38;5;124;43m'\u001b[39;49m\u001b[38;5;124;43mmean\u001b[39;49m\u001b[38;5;124;43m'\u001b[39;49m\u001b[43m)\u001b[49m\u001b[38;5;241m.\u001b[39msort_values(\u001b[38;5;124m'\u001b[39m\u001b[38;5;124m총판매액\u001b[39m\u001b[38;5;124m'\u001b[39m,ascending \u001b[38;5;241m=\u001b[39m \u001b[38;5;28;01mFalse\u001b[39;00m)\n",
      "\u001b[1;31mTypeError\u001b[0m: pivot_table() got an unexpected keyword argument 'addfunc'"
     ]
    }
   ],
   "source": [
    "pd.pivot_table(data = df, index = '최종주문요일', values = '총판매액', addfunc = 'mean').sort_values('총판매액',ascending = False)"
   ]
  },
  {
   "cell_type": "code",
   "execution_count": 49,
   "id": "bf891b4d",
   "metadata": {},
   "outputs": [
    {
     "data": {
      "text/plain": [
       "최종주문일\n",
       "2019-06-19 오전 11:18    1\n",
       "Name: 총구매횟수, dtype: int64"
      ]
     },
     "execution_count": 49,
     "metadata": {},
     "output_type": "execute_result"
    }
   ],
   "source": [
    "#9\n",
    "data2 = df.groupby('최종주문일')['총구매횟수'].sum()\n",
    "min_sum_week = data2.sort_values(ascending = False).tail(1)\n",
    "min_sum_week"
   ]
  },
  {
   "cell_type": "code",
   "execution_count": 53,
   "id": "f891e164",
   "metadata": {},
   "outputs": [
    {
     "data": {
      "text/html": [
       "<div>\n",
       "<style scoped>\n",
       "    .dataframe tbody tr th:only-of-type {\n",
       "        vertical-align: middle;\n",
       "    }\n",
       "\n",
       "    .dataframe tbody tr th {\n",
       "        vertical-align: top;\n",
       "    }\n",
       "\n",
       "    .dataframe thead th {\n",
       "        text-align: right;\n",
       "    }\n",
       "</style>\n",
       "<table border=\"1\" class=\"dataframe\">\n",
       "  <thead>\n",
       "    <tr style=\"text-align: right;\">\n",
       "      <th></th>\n",
       "      <th>총구매횟수</th>\n",
       "    </tr>\n",
       "    <tr>\n",
       "      <th>최종주문일(date)</th>\n",
       "      <th></th>\n",
       "    </tr>\n",
       "  </thead>\n",
       "  <tbody>\n",
       "    <tr>\n",
       "      <th>2019-05-29</th>\n",
       "      <td>1177</td>\n",
       "    </tr>\n",
       "    <tr>\n",
       "      <th>2019-05-30</th>\n",
       "      <td>1095</td>\n",
       "    </tr>\n",
       "    <tr>\n",
       "      <th>2019-05-28</th>\n",
       "      <td>1042</td>\n",
       "    </tr>\n",
       "    <tr>\n",
       "      <th>2019-05-27</th>\n",
       "      <td>879</td>\n",
       "    </tr>\n",
       "    <tr>\n",
       "      <th>2019-05-22</th>\n",
       "      <td>725</td>\n",
       "    </tr>\n",
       "    <tr>\n",
       "      <th>...</th>\n",
       "      <td>...</td>\n",
       "    </tr>\n",
       "    <tr>\n",
       "      <th>2018-01-12</th>\n",
       "      <td>1</td>\n",
       "    </tr>\n",
       "    <tr>\n",
       "      <th>2018-01-14</th>\n",
       "      <td>1</td>\n",
       "    </tr>\n",
       "    <tr>\n",
       "      <th>2018-01-17</th>\n",
       "      <td>1</td>\n",
       "    </tr>\n",
       "    <tr>\n",
       "      <th>2018-01-20</th>\n",
       "      <td>1</td>\n",
       "    </tr>\n",
       "    <tr>\n",
       "      <th>2019-06-19</th>\n",
       "      <td>1</td>\n",
       "    </tr>\n",
       "  </tbody>\n",
       "</table>\n",
       "<p>629 rows × 1 columns</p>\n",
       "</div>"
      ],
      "text/plain": [
       "             총구매횟수\n",
       "최종주문일(date)       \n",
       "2019-05-29    1177\n",
       "2019-05-30    1095\n",
       "2019-05-28    1042\n",
       "2019-05-27     879\n",
       "2019-05-22     725\n",
       "...            ...\n",
       "2018-01-12       1\n",
       "2018-01-14       1\n",
       "2018-01-17       1\n",
       "2018-01-20       1\n",
       "2019-06-19       1\n",
       "\n",
       "[629 rows x 1 columns]"
      ]
     },
     "execution_count": 53,
     "metadata": {},
     "output_type": "execute_result"
    }
   ],
   "source": [
    "df['최종주문일(eng)'] = df['최종주문일'].apply(lambda x : x.replace('오전', 'AM').replace('오후','PM'))\n",
    "df['최종주문일(eng)'] = pd.to_datetime(df['최종주문일(eng)'], format = '%Y-%m-%d %p %I:%M')\n",
    "df['최종주문일(date)'] = df['최종주문일(eng)'].dt.strftime('%Y-%m-%d')\n",
    "df.groupby('최종주문일(date)')[['총구매횟수']].sum().sort_values(by = '총구매횟수', ascending = False)"
   ]
  },
  {
   "cell_type": "markdown",
   "id": "1741fac5",
   "metadata": {},
   "source": [
    "# 시각화"
   ]
  },
  {
   "cell_type": "markdown",
   "id": "3a258840",
   "metadata": {},
   "source": [
    "## 그래프 그리기 기치"
   ]
  },
  {
   "cell_type": "code",
   "execution_count": 54,
   "id": "60e41284",
   "metadata": {},
   "outputs": [
    {
     "data": {
      "text/plain": [
       "array(['I', 'II', 'III', 'IV'], dtype=object)"
      ]
     },
     "execution_count": 54,
     "metadata": {},
     "output_type": "execute_result"
    }
   ],
   "source": [
    "import seaborn as sns    #gallery 활용하기\n",
    "import matplotlib.pyplot as plt\n",
    "\n",
    "anscombe = sns.load_dataset('anscombe')\n",
    "anscombe['dataset'].unique()"
   ]
  },
  {
   "cell_type": "code",
   "execution_count": 55,
   "id": "fab67777",
   "metadata": {},
   "outputs": [
    {
     "data": {
      "text/plain": [
       "[<matplotlib.lines.Line2D at 0x29876604310>]"
      ]
     },
     "execution_count": 55,
     "metadata": {},
     "output_type": "execute_result"
    },
    {
     "data": {
      "image/png": "[encoded data removed]",
      "text/plain": [
       "<Figure size 432x288 with 1 Axes>"
      ]
     },
     "metadata": {
      "needs_background": "light"
     },
     "output_type": "display_data"
    }
   ],
   "source": [
    "dataset_1 = anscombe[anscombe['dataset'] == 'I']\n",
    "plt.plot(dataset_1['x'], dataset_1['y'])"
   ]
  },
  {
   "cell_type": "code",
   "execution_count": 56,
   "id": "c82cdd8f",
   "metadata": {},
   "outputs": [
    {
     "data": {
      "text/plain": [
       "[<matplotlib.lines.Line2D at 0x298769de9d0>]"
      ]
     },
     "execution_count": 56,
     "metadata": {},
     "output_type": "execute_result"
    },
    {
     "data": {
      "image/png": "[encoded data removed]",
      "text/plain": [
       "<Figure size 432x288 with 1 Axes>"
      ]
     },
     "metadata": {
      "needs_background": "light"
     },
     "output_type": "display_data"
    }
   ],
   "source": [
    "plt.plot(dataset_1['x'], dataset_1['y'], 'o')"
   ]
  },
  {
   "cell_type": "code",
   "execution_count": 57,
   "id": "8e36d8d2",
   "metadata": {},
   "outputs": [],
   "source": [
    "# 'I', 'II', 'III', 'IV'\n",
    "dataset_2 = anscombe[anscombe['dataset'] == 'II']\n",
    "dataset_3 = anscombe[anscombe['dataset'] == 'III']\n",
    "dataset_4 = anscombe[anscombe['dataset'] == 'IV']"
   ]
  },
  {
   "cell_type": "code",
   "execution_count": 63,
   "id": "137b7ab8",
   "metadata": {},
   "outputs": [
    {
     "data": {
      "image/png": "[encoded data removed]",
      "text/plain": [
       "<Figure size 432x288 with 4 Axes>"
      ]
     },
     "metadata": {
      "needs_background": "light"
     },
     "output_type": "display_data"
    }
   ],
   "source": [
    "#틀(figure)을 만듭니다.\n",
    "fig = plt.figure()\n",
    "\n",
    "#격자(axes)를 만듭니다.\n",
    "axes1 = fig.add_subplot(2,2,1)\n",
    "axes2 = fig.add_subplot(2,2,2)\n",
    "axes3 = fig.add_subplot(2,2,3)\n",
    "axes4 = fig.add_subplot(2,2,4)\n",
    "\n",
    "#그래프를 그립시다.\n",
    "axes1.plot(dataset_1['x'],dataset_1['y'], 'o')\n",
    "axes2.plot(dataset_2['x'],dataset_2['y'], 'o')\n",
    "axes3.plot(dataset_3['x'],dataset_3['y'], 'o')\n",
    "axes4.plot(dataset_4['x'],dataset_4['y'], 'o')\n",
    "\n",
    "#각 axes에 title 생성\n",
    "axes1.set_title('dataset_1')\n",
    "axes2.set_title('dataset_2')\n",
    "axes3.set_title('dataset_3')\n",
    "axes4.set_title('dataset_4')\n",
    "\n",
    "# figure title 생성\n",
    "fig.suptitle('Anscombe Data')\n",
    "\n",
    "# 레이아웃 다시 조정\n",
    "fig.tight_layout()"
   ]
  },
  {
   "cell_type": "markdown",
   "id": "3284cb09",
   "metadata": {},
   "source": [
    "## matplotlib"
   ]
  },
  {
   "cell_type": "code",
   "execution_count": 64,
   "id": "c39d8007",
   "metadata": {},
   "outputs": [
    {
     "data": {
      "text/html": [
       "<div>\n",
       "<style scoped>\n",
       "    .dataframe tbody tr th:only-of-type {\n",
       "        vertical-align: middle;\n",
       "    }\n",
       "\n",
       "    .dataframe tbody tr th {\n",
       "        vertical-align: top;\n",
       "    }\n",
       "\n",
       "    .dataframe thead th {\n",
       "        text-align: right;\n",
       "    }\n",
       "</style>\n",
       "<table border=\"1\" class=\"dataframe\">\n",
       "  <thead>\n",
       "    <tr style=\"text-align: right;\">\n",
       "      <th></th>\n",
       "      <th>total_bill</th>\n",
       "      <th>tip</th>\n",
       "      <th>sex</th>\n",
       "      <th>smoker</th>\n",
       "      <th>day</th>\n",
       "      <th>time</th>\n",
       "      <th>size</th>\n",
       "    </tr>\n",
       "  </thead>\n",
       "  <tbody>\n",
       "    <tr>\n",
       "      <th>0</th>\n",
       "      <td>16.99</td>\n",
       "      <td>1.01</td>\n",
       "      <td>Female</td>\n",
       "      <td>No</td>\n",
       "      <td>Sun</td>\n",
       "      <td>Dinner</td>\n",
       "      <td>2</td>\n",
       "    </tr>\n",
       "    <tr>\n",
       "      <th>1</th>\n",
       "      <td>10.34</td>\n",
       "      <td>1.66</td>\n",
       "      <td>Male</td>\n",
       "      <td>No</td>\n",
       "      <td>Sun</td>\n",
       "      <td>Dinner</td>\n",
       "      <td>3</td>\n",
       "    </tr>\n",
       "    <tr>\n",
       "      <th>2</th>\n",
       "      <td>21.01</td>\n",
       "      <td>3.50</td>\n",
       "      <td>Male</td>\n",
       "      <td>No</td>\n",
       "      <td>Sun</td>\n",
       "      <td>Dinner</td>\n",
       "      <td>3</td>\n",
       "    </tr>\n",
       "    <tr>\n",
       "      <th>3</th>\n",
       "      <td>23.68</td>\n",
       "      <td>3.31</td>\n",
       "      <td>Male</td>\n",
       "      <td>No</td>\n",
       "      <td>Sun</td>\n",
       "      <td>Dinner</td>\n",
       "      <td>2</td>\n",
       "    </tr>\n",
       "    <tr>\n",
       "      <th>4</th>\n",
       "      <td>24.59</td>\n",
       "      <td>3.61</td>\n",
       "      <td>Female</td>\n",
       "      <td>No</td>\n",
       "      <td>Sun</td>\n",
       "      <td>Dinner</td>\n",
       "      <td>4</td>\n",
       "    </tr>\n",
       "  </tbody>\n",
       "</table>\n",
       "</div>"
      ],
      "text/plain": [
       "   total_bill   tip     sex smoker  day    time  size\n",
       "0       16.99  1.01  Female     No  Sun  Dinner     2\n",
       "1       10.34  1.66    Male     No  Sun  Dinner     3\n",
       "2       21.01  3.50    Male     No  Sun  Dinner     3\n",
       "3       23.68  3.31    Male     No  Sun  Dinner     2\n",
       "4       24.59  3.61  Female     No  Sun  Dinner     4"
      ]
     },
     "execution_count": 64,
     "metadata": {},
     "output_type": "execute_result"
    }
   ],
   "source": [
    "tips = sns.load_dataset('tips')\n",
    "tips.head()"
   ]
  },
  {
   "cell_type": "code",
   "execution_count": 68,
   "id": "6429c866",
   "metadata": {},
   "outputs": [
    {
     "data": {
      "text/plain": [
       "Text(0, 0.5, 'total bill')"
      ]
     },
     "execution_count": 68,
     "metadata": {},
     "output_type": "execute_result"
    },
    {
     "data": {
      "image/png": "[encoded data removed]",
      "text/plain": [
       "<Figure size 432x288 with 1 Axes>"
      ]
     },
     "metadata": {
      "needs_background": "light"
     },
     "output_type": "display_data"
    }
   ],
   "source": [
    "fig = plt.figure()\n",
    "\n",
    "axes1 = fig.add_subplot(1,1,1)\n",
    "\n",
    "axes1.hist(tips['total_bill'],bins = 10)\n",
    "axes1.set_title('Histogram')\n",
    "axes1.set_xlabel('prequency')\n",
    "axes1.set_ylabel('total bill')"
   ]
  },
  {
   "cell_type": "code",
   "execution_count": 69,
   "id": "8dfe7585",
   "metadata": {},
   "outputs": [
    {
     "data": {
      "text/plain": [
       "Text(0, 0.5, 'tip')"
      ]
     },
     "execution_count": 69,
     "metadata": {},
     "output_type": "execute_result"
    },
    {
     "data": {
      "image/png": "[encoded data removed]",
      "text/plain": [
       "<Figure size 432x288 with 1 Axes>"
      ]
     },
     "metadata": {
      "needs_background": "light"
     },
     "output_type": "display_data"
    }
   ],
   "source": [
    "scatter_plo = plt.figure()\n",
    "axes1 = scatter_plo.add_subplot(1,1,1)\n",
    "axes1.scatter(tips['total_bill'],tips['tip'])\n",
    "axes1.set_title('Scatterplot')\n",
    "axes1.set_xlabel('total bill')\n",
    "axes1.set_ylabel('tip')"
   ]
  },
  {
   "cell_type": "code",
   "execution_count": 70,
   "id": "c9840290",
   "metadata": {},
   "outputs": [
    {
     "data": {
      "text/plain": [
       "0      1.01\n",
       "4      3.61\n",
       "11     5.00\n",
       "14     3.02\n",
       "16     1.67\n",
       "       ... \n",
       "226    2.00\n",
       "229    2.88\n",
       "238    4.67\n",
       "240    2.00\n",
       "243    3.00\n",
       "Name: tip, Length: 87, dtype: float64"
      ]
     },
     "execution_count": 70,
     "metadata": {},
     "output_type": "execute_result"
    }
   ],
   "source": [
    "tips[tips['sex'] == 'Female']['tip']"
   ]
  },
  {
   "cell_type": "code",
   "execution_count": 75,
   "id": "68343084",
   "metadata": {},
   "outputs": [
    {
     "data": {
      "text/plain": [
       "Text(0, 0.5, 'Tip')"
      ]
     },
     "execution_count": 75,
     "metadata": {},
     "output_type": "execute_result"
    },
    {
     "data": {
      "image/png": "[encoded data removed]",
      "text/plain": [
       "<Figure size 432x288 with 1 Axes>"
      ]
     },
     "metadata": {
      "needs_background": "light"
     },
     "output_type": "display_data"
    }
   ],
   "source": [
    "boxplt = plt.figure()\n",
    "axes1 = boxplt.add_subplot(1,1,1)\n",
    "axes1.boxplot(\n",
    "    [tips[tips['sex'] == 'Female']['tip'],\n",
    "    tips[tips['sex'] == 'Male']['tip']],\n",
    "    labels = ['Female','Male']\n",
    "   \n",
    ")\n",
    "axes1.set_title('Box plot')\n",
    "axes1.set_xlabel('Gender')\n",
    "axes1.set_ylabel('Tip')"
   ]
  },
  {
   "cell_type": "code",
   "execution_count": 84,
   "id": "03dfbec2",
   "metadata": {},
   "outputs": [],
   "source": [
    "def recode_sex(sex):\n",
    "    if sex == 'Female':\n",
    "        return 0\n",
    "    else:\n",
    "        return 1"
   ]
  },
  {
   "cell_type": "code",
   "execution_count": 87,
   "id": "894ec919",
   "metadata": {},
   "outputs": [],
   "source": [
    "tips['sex_color'] = tips['sex'].apply(recode_sex)"
   ]
  },
  {
   "cell_type": "code",
   "execution_count": 88,
   "id": "498e5479",
   "metadata": {},
   "outputs": [
    {
     "data": {
      "text/plain": [
       "Text(0, 0.5, 'tip')"
      ]
     },
     "execution_count": 88,
     "metadata": {},
     "output_type": "execute_result"
    },
    {
     "data": {
      "image/png": "[encoded data removed]",
      "text/plain": [
       "<Figure size 432x288 with 1 Axes>"
      ]
     },
     "metadata": {
      "needs_background": "light"
     },
     "output_type": "display_data"
    }
   ],
   "source": [
    "scatter_plo = plt.figure()\n",
    "axes1 = scatter_plo.add_subplot(1,1,1)\n",
    "axes1.scatter(\n",
    "    x = tips['total_bill'],\n",
    "    y = tips['tip'],\n",
    "    s = tips['size'] * 10,\n",
    "    c = tips['sex_color'],\n",
    "    alpha = 0.5)\n",
    "\n",
    "axes1.set_title('Scatterplot')\n",
    "axes1.set_xlabel('total bill')\n",
    "axes1.set_ylabel('tip')"
   ]
  },
  {
   "cell_type": "markdown",
   "id": "9eddbe3f",
   "metadata": {},
   "source": [
    "## seaborn"
   ]
  },
  {
   "cell_type": "code",
   "execution_count": 93,
   "id": "7b00eb25",
   "metadata": {},
   "outputs": [
    {
     "name": "stderr",
     "output_type": "stream",
     "text": [
      "C:\\ProgramData\\Anaconda3\\lib\\site-packages\\seaborn\\distributions.py:2619: FutureWarning: `distplot` is a deprecated function and will be removed in a future version. Please adapt your code to use either `displot` (a figure-level function with similar flexibility) or `histplot` (an axes-level function for histograms).\n",
      "  warnings.warn(msg, FutureWarning)\n"
     ]
    },
    {
     "data": {
      "text/plain": [
       "Text(0.5, 1.0, 'Total Bill Plot')"
      ]
     },
     "execution_count": 93,
     "metadata": {},
     "output_type": "execute_result"
    },
    {
     "data": {
      "image/png": "[encoded data removed]",
      "text/plain": [
       "<Figure size 432x288 with 1 Axes>"
      ]
     },
     "metadata": {
      "needs_background": "light"
     },
     "output_type": "display_data"
    }
   ],
   "source": [
    "import seaborn as sns\n",
    "tips = sns.load_dataset('tips')\n",
    "ax = plt.subplot()\n",
    "\n",
    "x = sns.distplot(tips['total_bill'])\n",
    "ax.set_title('Total Bill Plot')"
   ]
  },
  {
   "cell_type": "code",
   "execution_count": 92,
   "id": "5d96bbfc",
   "metadata": {},
   "outputs": [
    {
     "name": "stderr",
     "output_type": "stream",
     "text": [
      "C:\\ProgramData\\Anaconda3\\lib\\site-packages\\seaborn\\distributions.py:2619: FutureWarning: `distplot` is a deprecated function and will be removed in a future version. Please adapt your code to use either `displot` (a figure-level function with similar flexibility) or `histplot` (an axes-level function for histograms).\n",
      "  warnings.warn(msg, FutureWarning)\n"
     ]
    },
    {
     "data": {
      "text/plain": [
       "<AxesSubplot:xlabel='total_bill', ylabel='Density'>"
      ]
     },
     "execution_count": 92,
     "metadata": {},
     "output_type": "execute_result"
    },
    {
     "data": {
      "image/png": "[encoded data removed]",
      "text/plain": [
       "<Figure size 432x288 with 1 Axes>"
      ]
     },
     "metadata": {
      "needs_background": "light"
     },
     "output_type": "display_data"
    }
   ],
   "source": [
    "sns.distplot(tips['total_bill'])\n"
   ]
  },
  {
   "cell_type": "code",
   "execution_count": 97,
   "id": "168c48f1",
   "metadata": {},
   "outputs": [
    {
     "data": {
      "text/plain": [
       "Text(0, 0.5, 'AVerage total bill')"
      ]
     },
     "execution_count": 97,
     "metadata": {},
     "output_type": "execute_result"
    },
    {
     "data": {
      "image/png": "[encoded data removed]",
      "text/plain": [
       "<Figure size 432x288 with 1 Axes>"
      ]
     },
     "metadata": {
      "needs_background": "light"
     },
     "output_type": "display_data"
    }
   ],
   "source": [
    "ax = plt.subplot()\n",
    "sns.barplot(data = tips, x= 'time', y = 'total_bill')\n",
    "\n",
    "ax.set_title('Bar plot of average total bill for time of day')\n",
    "ax.set_xlabel('Time of day')\n",
    "ax.set_ylabel('AVerage total bill')"
   ]
  },
  {
   "cell_type": "code",
   "execution_count": 100,
   "id": "f26e87c9",
   "metadata": {},
   "outputs": [
    {
     "data": {
      "text/plain": [
       "<AxesSubplot:xlabel='time', ylabel='total_bill'>"
      ]
     },
     "execution_count": 100,
     "metadata": {},
     "output_type": "execute_result"
    },
    {
     "data": {
      "image/png": "[encoded data removed]",
      "text/plain": [
       "<Figure size 432x288 with 1 Axes>"
      ]
     },
     "metadata": {
      "needs_background": "light"
     },
     "output_type": "display_data"
    }
   ],
   "source": [
    "sns.boxplot(data = tips, x = 'time', y= 'total_bill')"
   ]
  },
  {
   "cell_type": "code",
   "execution_count": 101,
   "id": "47093d02",
   "metadata": {},
   "outputs": [
    {
     "data": {
      "text/plain": [
       "<AxesSubplot:xlabel='time', ylabel='total_bill'>"
      ]
     },
     "execution_count": 101,
     "metadata": {},
     "output_type": "execute_result"
    },
    {
     "data": {
      "image/png": "[encoded data removed]",
      "text/plain": [
       "<Figure size 432x288 with 1 Axes>"
      ]
     },
     "metadata": {
      "needs_background": "light"
     },
     "output_type": "display_data"
    }
   ],
   "source": [
    "sns.violinplot(data = tips, x = 'time', y= 'total_bill')"
   ]
  },
  {
   "cell_type": "code",
   "execution_count": 105,
   "id": "2c7371ca",
   "metadata": {},
   "outputs": [
    {
     "data": {
      "text/plain": [
       "<AxesSubplot:xlabel='time', ylabel='total_bill'>"
      ]
     },
     "execution_count": 105,
     "metadata": {},
     "output_type": "execute_result"
    },
    {
     "data": {
      "image/png": "[encoded data removed]",
      "text/plain": [
       "<Figure size 432x288 with 1 Axes>"
      ]
     },
     "metadata": {
      "needs_background": "light"
     },
     "output_type": "display_data"
    }
   ],
   "source": [
    "sns.violinplot(data = tips, x = 'time', y= 'total_bill', hue = 'sex', split = True)"
   ]
  },
  {
   "cell_type": "code",
   "execution_count": 107,
   "id": "be983b5f",
   "metadata": {},
   "outputs": [
    {
     "data": {
      "text/plain": [
       "<seaborn.axisgrid.FacetGrid at 0x2987d3c83a0>"
      ]
     },
     "execution_count": 107,
     "metadata": {},
     "output_type": "execute_result"
    },
    {
     "data": {
      "image/png": "[encoded data removed]",
      "text/plain": [
       "<Figure size 432.125x360 with 1 Axes>"
      ]
     },
     "metadata": {
      "needs_background": "light"
     },
     "output_type": "display_data"
    }
   ],
   "source": [
    "sns.lmplot(data = tips, x = 'total_bill', y= 'tip', hue = 'sex', fit_reg = False)"
   ]
  },
  {
   "cell_type": "code",
   "execution_count": 112,
   "id": "58ede065",
   "metadata": {},
   "outputs": [],
   "source": [
    "import pandas as pd \n",
    "import seaborn as sns\n",
    "\n",
    "mpg = pd.read_csv('data\\mpg.csv')"
   ]
  },
  {
   "cell_type": "code",
   "execution_count": 113,
   "id": "eab98b32",
   "metadata": {},
   "outputs": [
    {
     "data": {
      "text/html": [
       "<div>\n",
       "<style scoped>\n",
       "    .dataframe tbody tr th:only-of-type {\n",
       "        vertical-align: middle;\n",
       "    }\n",
       "\n",
       "    .dataframe tbody tr th {\n",
       "        vertical-align: top;\n",
       "    }\n",
       "\n",
       "    .dataframe thead th {\n",
       "        text-align: right;\n",
       "    }\n",
       "</style>\n",
       "<table border=\"1\" class=\"dataframe\">\n",
       "  <thead>\n",
       "    <tr style=\"text-align: right;\">\n",
       "      <th></th>\n",
       "      <th>manufacturer</th>\n",
       "      <th>model</th>\n",
       "      <th>displ</th>\n",
       "      <th>year</th>\n",
       "      <th>cyl</th>\n",
       "      <th>trans</th>\n",
       "      <th>drv</th>\n",
       "      <th>cty</th>\n",
       "      <th>hwy</th>\n",
       "      <th>fl</th>\n",
       "      <th>category</th>\n",
       "    </tr>\n",
       "  </thead>\n",
       "  <tbody>\n",
       "    <tr>\n",
       "      <th>0</th>\n",
       "      <td>audi</td>\n",
       "      <td>a4</td>\n",
       "      <td>1.8</td>\n",
       "      <td>1999</td>\n",
       "      <td>4</td>\n",
       "      <td>auto(l5)</td>\n",
       "      <td>f</td>\n",
       "      <td>18</td>\n",
       "      <td>29</td>\n",
       "      <td>p</td>\n",
       "      <td>compact</td>\n",
       "    </tr>\n",
       "    <tr>\n",
       "      <th>1</th>\n",
       "      <td>audi</td>\n",
       "      <td>a4</td>\n",
       "      <td>1.8</td>\n",
       "      <td>1999</td>\n",
       "      <td>4</td>\n",
       "      <td>manual(m5)</td>\n",
       "      <td>f</td>\n",
       "      <td>21</td>\n",
       "      <td>29</td>\n",
       "      <td>p</td>\n",
       "      <td>compact</td>\n",
       "    </tr>\n",
       "    <tr>\n",
       "      <th>2</th>\n",
       "      <td>audi</td>\n",
       "      <td>a4</td>\n",
       "      <td>2.0</td>\n",
       "      <td>2008</td>\n",
       "      <td>4</td>\n",
       "      <td>manual(m6)</td>\n",
       "      <td>f</td>\n",
       "      <td>20</td>\n",
       "      <td>31</td>\n",
       "      <td>p</td>\n",
       "      <td>compact</td>\n",
       "    </tr>\n",
       "    <tr>\n",
       "      <th>3</th>\n",
       "      <td>audi</td>\n",
       "      <td>a4</td>\n",
       "      <td>2.0</td>\n",
       "      <td>2008</td>\n",
       "      <td>4</td>\n",
       "      <td>auto(av)</td>\n",
       "      <td>f</td>\n",
       "      <td>21</td>\n",
       "      <td>30</td>\n",
       "      <td>p</td>\n",
       "      <td>compact</td>\n",
       "    </tr>\n",
       "    <tr>\n",
       "      <th>4</th>\n",
       "      <td>audi</td>\n",
       "      <td>a4</td>\n",
       "      <td>2.8</td>\n",
       "      <td>1999</td>\n",
       "      <td>6</td>\n",
       "      <td>auto(l5)</td>\n",
       "      <td>f</td>\n",
       "      <td>16</td>\n",
       "      <td>26</td>\n",
       "      <td>p</td>\n",
       "      <td>compact</td>\n",
       "    </tr>\n",
       "    <tr>\n",
       "      <th>...</th>\n",
       "      <td>...</td>\n",
       "      <td>...</td>\n",
       "      <td>...</td>\n",
       "      <td>...</td>\n",
       "      <td>...</td>\n",
       "      <td>...</td>\n",
       "      <td>...</td>\n",
       "      <td>...</td>\n",
       "      <td>...</td>\n",
       "      <td>...</td>\n",
       "      <td>...</td>\n",
       "    </tr>\n",
       "    <tr>\n",
       "      <th>229</th>\n",
       "      <td>volkswagen</td>\n",
       "      <td>passat</td>\n",
       "      <td>2.0</td>\n",
       "      <td>2008</td>\n",
       "      <td>4</td>\n",
       "      <td>auto(s6)</td>\n",
       "      <td>f</td>\n",
       "      <td>19</td>\n",
       "      <td>28</td>\n",
       "      <td>p</td>\n",
       "      <td>midsize</td>\n",
       "    </tr>\n",
       "    <tr>\n",
       "      <th>230</th>\n",
       "      <td>volkswagen</td>\n",
       "      <td>passat</td>\n",
       "      <td>2.0</td>\n",
       "      <td>2008</td>\n",
       "      <td>4</td>\n",
       "      <td>manual(m6)</td>\n",
       "      <td>f</td>\n",
       "      <td>21</td>\n",
       "      <td>29</td>\n",
       "      <td>p</td>\n",
       "      <td>midsize</td>\n",
       "    </tr>\n",
       "    <tr>\n",
       "      <th>231</th>\n",
       "      <td>volkswagen</td>\n",
       "      <td>passat</td>\n",
       "      <td>2.8</td>\n",
       "      <td>1999</td>\n",
       "      <td>6</td>\n",
       "      <td>auto(l5)</td>\n",
       "      <td>f</td>\n",
       "      <td>16</td>\n",
       "      <td>26</td>\n",
       "      <td>p</td>\n",
       "      <td>midsize</td>\n",
       "    </tr>\n",
       "    <tr>\n",
       "      <th>232</th>\n",
       "      <td>volkswagen</td>\n",
       "      <td>passat</td>\n",
       "      <td>2.8</td>\n",
       "      <td>1999</td>\n",
       "      <td>6</td>\n",
       "      <td>manual(m5)</td>\n",
       "      <td>f</td>\n",
       "      <td>18</td>\n",
       "      <td>26</td>\n",
       "      <td>p</td>\n",
       "      <td>midsize</td>\n",
       "    </tr>\n",
       "    <tr>\n",
       "      <th>233</th>\n",
       "      <td>volkswagen</td>\n",
       "      <td>passat</td>\n",
       "      <td>3.6</td>\n",
       "      <td>2008</td>\n",
       "      <td>6</td>\n",
       "      <td>auto(s6)</td>\n",
       "      <td>f</td>\n",
       "      <td>17</td>\n",
       "      <td>26</td>\n",
       "      <td>p</td>\n",
       "      <td>midsize</td>\n",
       "    </tr>\n",
       "  </tbody>\n",
       "</table>\n",
       "<p>234 rows × 11 columns</p>\n",
       "</div>"
      ],
      "text/plain": [
       "    manufacturer   model  displ  year  cyl       trans drv  cty  hwy fl  \\\n",
       "0           audi      a4    1.8  1999    4    auto(l5)   f   18   29  p   \n",
       "1           audi      a4    1.8  1999    4  manual(m5)   f   21   29  p   \n",
       "2           audi      a4    2.0  2008    4  manual(m6)   f   20   31  p   \n",
       "3           audi      a4    2.0  2008    4    auto(av)   f   21   30  p   \n",
       "4           audi      a4    2.8  1999    6    auto(l5)   f   16   26  p   \n",
       "..           ...     ...    ...   ...  ...         ...  ..  ...  ... ..   \n",
       "229   volkswagen  passat    2.0  2008    4    auto(s6)   f   19   28  p   \n",
       "230   volkswagen  passat    2.0  2008    4  manual(m6)   f   21   29  p   \n",
       "231   volkswagen  passat    2.8  1999    6    auto(l5)   f   16   26  p   \n",
       "232   volkswagen  passat    2.8  1999    6  manual(m5)   f   18   26  p   \n",
       "233   volkswagen  passat    3.6  2008    6    auto(s6)   f   17   26  p   \n",
       "\n",
       "    category  \n",
       "0    compact  \n",
       "1    compact  \n",
       "2    compact  \n",
       "3    compact  \n",
       "4    compact  \n",
       "..       ...  \n",
       "229  midsize  \n",
       "230  midsize  \n",
       "231  midsize  \n",
       "232  midsize  \n",
       "233  midsize  \n",
       "\n",
       "[234 rows x 11 columns]"
      ]
     },
     "execution_count": 113,
     "metadata": {},
     "output_type": "execute_result"
    }
   ],
   "source": [
    "mpg"
   ]
  },
  {
   "cell_type": "code",
   "execution_count": 114,
   "id": "767c6ea3",
   "metadata": {},
   "outputs": [
    {
     "data": {
      "text/plain": [
       "<AxesSubplot:xlabel='displ', ylabel='hwy'>"
      ]
     },
     "execution_count": 114,
     "metadata": {},
     "output_type": "execute_result"
    },
    {
     "data": {
      "image/png": "[encoded data removed]",
      "text/plain": [
       "<Figure size 432x288 with 1 Axes>"
      ]
     },
     "metadata": {
      "needs_background": "light"
     },
     "output_type": "display_data"
    }
   ],
   "source": [
    "sns.scatterplot(data = mpg, x = 'displ', y = 'hwy')"
   ]
  },
  {
   "cell_type": "code",
   "execution_count": 116,
   "id": "bdde422e",
   "metadata": {},
   "outputs": [
    {
     "data": {
      "text/plain": [
       "[(3.0, 6.0), (10.0, 30.0)]"
      ]
     },
     "execution_count": 116,
     "metadata": {},
     "output_type": "execute_result"
    },
    {
     "data": {
      "image/png": "[encoded data removed]",
      "text/plain": [
       "<Figure size 432x288 with 1 Axes>"
      ]
     },
     "metadata": {
      "needs_background": "light"
     },
     "output_type": "display_data"
    }
   ],
   "source": [
    "sns.scatterplot(data = mpg, x = 'displ', y = 'hwy').set(xlim = (3,6), ylim = (10,30))"
   ]
  },
  {
   "cell_type": "code",
   "execution_count": 117,
   "id": "bc43658e",
   "metadata": {},
   "outputs": [
    {
     "data": {
      "text/plain": [
       "<AxesSubplot:xlabel='displ', ylabel='hwy'>"
      ]
     },
     "execution_count": 117,
     "metadata": {},
     "output_type": "execute_result"
    },
    {
     "data": {
      "image/png": "[encoded data removed]",
      "text/plain": [
       "<Figure size 432x288 with 1 Axes>"
      ]
     },
     "metadata": {
      "needs_background": "light"
     },
     "output_type": "display_data"
    }
   ],
   "source": [
    "sns.scatterplot(data = mpg, x = 'displ', y = 'hwy', hue = 'drv' )"
   ]
  },
  {
   "cell_type": "code",
   "execution_count": 118,
   "id": "021e3266",
   "metadata": {},
   "outputs": [
    {
     "data": {
      "text/plain": [
       "<AxesSubplot:xlabel='drv', ylabel='mean_hwy'>"
      ]
     },
     "execution_count": 118,
     "metadata": {},
     "output_type": "execute_result"
    },
    {
     "data": {
      "image/png": "[encoded data removed]",
      "text/plain": [
       "<Figure size 432x288 with 1 Axes>"
      ]
     },
     "metadata": {
      "needs_background": "light"
     },
     "output_type": "display_data"
    }
   ],
   "source": [
    "df_mpg = mpg.groupby('drv', as_index = False).agg(mean_hwy = ('hwy','mean')) #as_index : groupby 할 때 index를 밖으로\n",
    "sns.barplot(data = df_mpg, x = 'drv', y = 'mean_hwy')"
   ]
  },
  {
   "cell_type": "code",
   "execution_count": 120,
   "id": "64654aec",
   "metadata": {},
   "outputs": [
    {
     "data": {
      "text/plain": [
       "<AxesSubplot:xlabel='drv', ylabel='mean_hwy'>"
      ]
     },
     "execution_count": 120,
     "metadata": {},
     "output_type": "execute_result"
    },
    {
     "data": {
      "image/png": "[encoded data removed]",
      "text/plain": [
       "<Figure size 432x288 with 1 Axes>"
      ]
     },
     "metadata": {
      "needs_background": "light"
     },
     "output_type": "display_data"
    }
   ],
   "source": [
    "#정렬해서 그리기\n",
    "df_mpg = df_mpg.sort_values('mean_hwy', ascending = False)\n",
    "sns.barplot(data = df_mpg, x = 'drv', y = 'mean_hwy')"
   ]
  },
  {
   "cell_type": "code",
   "execution_count": 121,
   "id": "fbdca773",
   "metadata": {},
   "outputs": [
    {
     "data": {
      "text/plain": [
       "<AxesSubplot:xlabel='drv', ylabel='n'>"
      ]
     },
     "execution_count": 121,
     "metadata": {},
     "output_type": "execute_result"
    },
    {
     "data": {
      "image/png": "[encoded data removed]",
      "text/plain": [
       "<Figure size 432x288 with 1 Axes>"
      ]
     },
     "metadata": {
      "needs_background": "light"
     },
     "output_type": "display_data"
    }
   ],
   "source": [
    "df_mpg = mpg.groupby('drv', as_index = False).agg(n = ('drv','count')) #as_index : groupby 할 때 index를 밖으로\n",
    "sns.barplot(data = df_mpg, x = 'drv', y = 'n')"
   ]
  },
  {
   "cell_type": "code",
   "execution_count": 122,
   "id": "d4a6f0c2",
   "metadata": {},
   "outputs": [
    {
     "data": {
      "text/plain": [
       "<AxesSubplot:xlabel='drv', ylabel='count'>"
      ]
     },
     "execution_count": 122,
     "metadata": {},
     "output_type": "execute_result"
    },
    {
     "data": {
      "image/png": "[encoded data removed]",
      "text/plain": [
       "<Figure size 432x288 with 1 Axes>"
      ]
     },
     "metadata": {
      "needs_background": "light"
     },
     "output_type": "display_data"
    }
   ],
   "source": [
    "sns.countplot(data  = mpg, x = 'drv') "
   ]
  },
  {
   "cell_type": "code",
   "execution_count": 127,
   "id": "470a9a13",
   "metadata": {},
   "outputs": [
    {
     "data": {
      "text/plain": [
       "<AxesSubplot:xlabel='drv', ylabel='count'>"
      ]
     },
     "execution_count": 127,
     "metadata": {},
     "output_type": "execute_result"
    },
    {
     "data": {
      "image/png": "[encoded data removed]",
      "text/plain": [
       "<Figure size 432x288 with 1 Axes>"
      ]
     },
     "metadata": {
      "needs_background": "light"
     },
     "output_type": "display_data"
    }
   ],
   "source": [
    "sns.countplot(data  = mpg, x = 'drv', order = ['4','f','r']) "
   ]
  },
  {
   "cell_type": "code",
   "execution_count": 125,
   "id": "0364f8ea",
   "metadata": {},
   "outputs": [
    {
     "data": {
      "text/plain": [
       "Index(['f', '4', 'r'], dtype='object')"
      ]
     },
     "execution_count": 125,
     "metadata": {},
     "output_type": "execute_result"
    }
   ],
   "source": [
    "mpg['drv'].value_counts().index"
   ]
  },
  {
   "cell_type": "code",
   "execution_count": 131,
   "id": "e8bc05b2",
   "metadata": {},
   "outputs": [
    {
     "data": {
      "text/plain": [
       "<AxesSubplot:xlabel='drv', ylabel='count'>"
      ]
     },
     "execution_count": 131,
     "metadata": {},
     "output_type": "execute_result"
    },
    {
     "data": {
      "image/png": "[encoded data removed]",
      "text/plain": [
       "<Figure size 432x288 with 1 Axes>"
      ]
     },
     "metadata": {
      "needs_background": "light"
     },
     "output_type": "display_data"
    }
   ],
   "source": [
    "sns.countplot(data  = mpg, x = 'drv', order = mpg['drv'].value_counts().index)"
   ]
  },
  {
   "cell_type": "code",
   "execution_count": 132,
   "id": "88fa0653",
   "metadata": {},
   "outputs": [
    {
     "data": {
      "text/plain": [
       "<AxesSubplot:xlabel='cty', ylabel='hwy'>"
      ]
     },
     "execution_count": 132,
     "metadata": {},
     "output_type": "execute_result"
    },
    {
     "data": {
      "image/png": "[encoded data removed]",
      "text/plain": [
       "<Figure size 432x288 with 1 Axes>"
      ]
     },
     "metadata": {
      "needs_background": "light"
     },
     "output_type": "display_data"
    }
   ],
   "source": [
    "sns.scatterplot(data = mpg, x = 'cty', y = 'hwy')"
   ]
  },
  {
   "cell_type": "code",
   "execution_count": 133,
   "id": "2478af91",
   "metadata": {},
   "outputs": [
    {
     "data": {
      "text/html": [
       "<div>\n",
       "<style scoped>\n",
       "    .dataframe tbody tr th:only-of-type {\n",
       "        vertical-align: middle;\n",
       "    }\n",
       "\n",
       "    .dataframe tbody tr th {\n",
       "        vertical-align: top;\n",
       "    }\n",
       "\n",
       "    .dataframe thead th {\n",
       "        text-align: right;\n",
       "    }\n",
       "</style>\n",
       "<table border=\"1\" class=\"dataframe\">\n",
       "  <thead>\n",
       "    <tr style=\"text-align: right;\">\n",
       "      <th></th>\n",
       "      <th>manufacturer</th>\n",
       "      <th>model</th>\n",
       "      <th>displ</th>\n",
       "      <th>year</th>\n",
       "      <th>cyl</th>\n",
       "      <th>trans</th>\n",
       "      <th>drv</th>\n",
       "      <th>cty</th>\n",
       "      <th>hwy</th>\n",
       "      <th>fl</th>\n",
       "      <th>category</th>\n",
       "    </tr>\n",
       "  </thead>\n",
       "  <tbody>\n",
       "    <tr>\n",
       "      <th>0</th>\n",
       "      <td>audi</td>\n",
       "      <td>a4</td>\n",
       "      <td>1.8</td>\n",
       "      <td>1999</td>\n",
       "      <td>4</td>\n",
       "      <td>auto(l5)</td>\n",
       "      <td>f</td>\n",
       "      <td>18</td>\n",
       "      <td>29</td>\n",
       "      <td>p</td>\n",
       "      <td>compact</td>\n",
       "    </tr>\n",
       "    <tr>\n",
       "      <th>1</th>\n",
       "      <td>audi</td>\n",
       "      <td>a4</td>\n",
       "      <td>1.8</td>\n",
       "      <td>1999</td>\n",
       "      <td>4</td>\n",
       "      <td>manual(m5)</td>\n",
       "      <td>f</td>\n",
       "      <td>21</td>\n",
       "      <td>29</td>\n",
       "      <td>p</td>\n",
       "      <td>compact</td>\n",
       "    </tr>\n",
       "    <tr>\n",
       "      <th>2</th>\n",
       "      <td>audi</td>\n",
       "      <td>a4</td>\n",
       "      <td>2.0</td>\n",
       "      <td>2008</td>\n",
       "      <td>4</td>\n",
       "      <td>manual(m6)</td>\n",
       "      <td>f</td>\n",
       "      <td>20</td>\n",
       "      <td>31</td>\n",
       "      <td>p</td>\n",
       "      <td>compact</td>\n",
       "    </tr>\n",
       "    <tr>\n",
       "      <th>3</th>\n",
       "      <td>audi</td>\n",
       "      <td>a4</td>\n",
       "      <td>2.0</td>\n",
       "      <td>2008</td>\n",
       "      <td>4</td>\n",
       "      <td>auto(av)</td>\n",
       "      <td>f</td>\n",
       "      <td>21</td>\n",
       "      <td>30</td>\n",
       "      <td>p</td>\n",
       "      <td>compact</td>\n",
       "    </tr>\n",
       "    <tr>\n",
       "      <th>4</th>\n",
       "      <td>audi</td>\n",
       "      <td>a4</td>\n",
       "      <td>2.8</td>\n",
       "      <td>1999</td>\n",
       "      <td>6</td>\n",
       "      <td>auto(l5)</td>\n",
       "      <td>f</td>\n",
       "      <td>16</td>\n",
       "      <td>26</td>\n",
       "      <td>p</td>\n",
       "      <td>compact</td>\n",
       "    </tr>\n",
       "    <tr>\n",
       "      <th>...</th>\n",
       "      <td>...</td>\n",
       "      <td>...</td>\n",
       "      <td>...</td>\n",
       "      <td>...</td>\n",
       "      <td>...</td>\n",
       "      <td>...</td>\n",
       "      <td>...</td>\n",
       "      <td>...</td>\n",
       "      <td>...</td>\n",
       "      <td>...</td>\n",
       "      <td>...</td>\n",
       "    </tr>\n",
       "    <tr>\n",
       "      <th>229</th>\n",
       "      <td>volkswagen</td>\n",
       "      <td>passat</td>\n",
       "      <td>2.0</td>\n",
       "      <td>2008</td>\n",
       "      <td>4</td>\n",
       "      <td>auto(s6)</td>\n",
       "      <td>f</td>\n",
       "      <td>19</td>\n",
       "      <td>28</td>\n",
       "      <td>p</td>\n",
       "      <td>midsize</td>\n",
       "    </tr>\n",
       "    <tr>\n",
       "      <th>230</th>\n",
       "      <td>volkswagen</td>\n",
       "      <td>passat</td>\n",
       "      <td>2.0</td>\n",
       "      <td>2008</td>\n",
       "      <td>4</td>\n",
       "      <td>manual(m6)</td>\n",
       "      <td>f</td>\n",
       "      <td>21</td>\n",
       "      <td>29</td>\n",
       "      <td>p</td>\n",
       "      <td>midsize</td>\n",
       "    </tr>\n",
       "    <tr>\n",
       "      <th>231</th>\n",
       "      <td>volkswagen</td>\n",
       "      <td>passat</td>\n",
       "      <td>2.8</td>\n",
       "      <td>1999</td>\n",
       "      <td>6</td>\n",
       "      <td>auto(l5)</td>\n",
       "      <td>f</td>\n",
       "      <td>16</td>\n",
       "      <td>26</td>\n",
       "      <td>p</td>\n",
       "      <td>midsize</td>\n",
       "    </tr>\n",
       "    <tr>\n",
       "      <th>232</th>\n",
       "      <td>volkswagen</td>\n",
       "      <td>passat</td>\n",
       "      <td>2.8</td>\n",
       "      <td>1999</td>\n",
       "      <td>6</td>\n",
       "      <td>manual(m5)</td>\n",
       "      <td>f</td>\n",
       "      <td>18</td>\n",
       "      <td>26</td>\n",
       "      <td>p</td>\n",
       "      <td>midsize</td>\n",
       "    </tr>\n",
       "    <tr>\n",
       "      <th>233</th>\n",
       "      <td>volkswagen</td>\n",
       "      <td>passat</td>\n",
       "      <td>3.6</td>\n",
       "      <td>2008</td>\n",
       "      <td>6</td>\n",
       "      <td>auto(s6)</td>\n",
       "      <td>f</td>\n",
       "      <td>17</td>\n",
       "      <td>26</td>\n",
       "      <td>p</td>\n",
       "      <td>midsize</td>\n",
       "    </tr>\n",
       "  </tbody>\n",
       "</table>\n",
       "<p>234 rows × 11 columns</p>\n",
       "</div>"
      ],
      "text/plain": [
       "    manufacturer   model  displ  year  cyl       trans drv  cty  hwy fl  \\\n",
       "0           audi      a4    1.8  1999    4    auto(l5)   f   18   29  p   \n",
       "1           audi      a4    1.8  1999    4  manual(m5)   f   21   29  p   \n",
       "2           audi      a4    2.0  2008    4  manual(m6)   f   20   31  p   \n",
       "3           audi      a4    2.0  2008    4    auto(av)   f   21   30  p   \n",
       "4           audi      a4    2.8  1999    6    auto(l5)   f   16   26  p   \n",
       "..           ...     ...    ...   ...  ...         ...  ..  ...  ... ..   \n",
       "229   volkswagen  passat    2.0  2008    4    auto(s6)   f   19   28  p   \n",
       "230   volkswagen  passat    2.0  2008    4  manual(m6)   f   21   29  p   \n",
       "231   volkswagen  passat    2.8  1999    6    auto(l5)   f   16   26  p   \n",
       "232   volkswagen  passat    2.8  1999    6  manual(m5)   f   18   26  p   \n",
       "233   volkswagen  passat    3.6  2008    6    auto(s6)   f   17   26  p   \n",
       "\n",
       "    category  \n",
       "0    compact  \n",
       "1    compact  \n",
       "2    compact  \n",
       "3    compact  \n",
       "4    compact  \n",
       "..       ...  \n",
       "229  midsize  \n",
       "230  midsize  \n",
       "231  midsize  \n",
       "232  midsize  \n",
       "233  midsize  \n",
       "\n",
       "[234 rows x 11 columns]"
      ]
     },
     "execution_count": 133,
     "metadata": {},
     "output_type": "execute_result"
    }
   ],
   "source": [
    "mpg"
   ]
  },
  {
   "cell_type": "code",
   "execution_count": 155,
   "id": "1555661a",
   "metadata": {},
   "outputs": [
    {
     "data": {
      "text/html": [
       "<div>\n",
       "<style scoped>\n",
       "    .dataframe tbody tr th:only-of-type {\n",
       "        vertical-align: middle;\n",
       "    }\n",
       "\n",
       "    .dataframe tbody tr th {\n",
       "        vertical-align: top;\n",
       "    }\n",
       "\n",
       "    .dataframe thead th {\n",
       "        text-align: right;\n",
       "    }\n",
       "</style>\n",
       "<table border=\"1\" class=\"dataframe\">\n",
       "  <thead>\n",
       "    <tr style=\"text-align: right;\">\n",
       "      <th></th>\n",
       "      <th>manufacturer</th>\n",
       "      <th>model</th>\n",
       "      <th>displ</th>\n",
       "      <th>year</th>\n",
       "      <th>cyl</th>\n",
       "      <th>trans</th>\n",
       "      <th>drv</th>\n",
       "      <th>cty</th>\n",
       "      <th>hwy</th>\n",
       "      <th>fl</th>\n",
       "      <th>category</th>\n",
       "    </tr>\n",
       "  </thead>\n",
       "  <tbody>\n",
       "    <tr>\n",
       "      <th>18</th>\n",
       "      <td>chevrolet</td>\n",
       "      <td>c1500 suburban 2wd</td>\n",
       "      <td>5.3</td>\n",
       "      <td>2008</td>\n",
       "      <td>8</td>\n",
       "      <td>auto(l4)</td>\n",
       "      <td>r</td>\n",
       "      <td>14</td>\n",
       "      <td>20</td>\n",
       "      <td>r</td>\n",
       "      <td>suv</td>\n",
       "    </tr>\n",
       "    <tr>\n",
       "      <th>19</th>\n",
       "      <td>chevrolet</td>\n",
       "      <td>c1500 suburban 2wd</td>\n",
       "      <td>5.3</td>\n",
       "      <td>2008</td>\n",
       "      <td>8</td>\n",
       "      <td>auto(l4)</td>\n",
       "      <td>r</td>\n",
       "      <td>11</td>\n",
       "      <td>15</td>\n",
       "      <td>e</td>\n",
       "      <td>suv</td>\n",
       "    </tr>\n",
       "    <tr>\n",
       "      <th>20</th>\n",
       "      <td>chevrolet</td>\n",
       "      <td>c1500 suburban 2wd</td>\n",
       "      <td>5.3</td>\n",
       "      <td>2008</td>\n",
       "      <td>8</td>\n",
       "      <td>auto(l4)</td>\n",
       "      <td>r</td>\n",
       "      <td>14</td>\n",
       "      <td>20</td>\n",
       "      <td>r</td>\n",
       "      <td>suv</td>\n",
       "    </tr>\n",
       "    <tr>\n",
       "      <th>21</th>\n",
       "      <td>chevrolet</td>\n",
       "      <td>c1500 suburban 2wd</td>\n",
       "      <td>5.7</td>\n",
       "      <td>1999</td>\n",
       "      <td>8</td>\n",
       "      <td>auto(l4)</td>\n",
       "      <td>r</td>\n",
       "      <td>13</td>\n",
       "      <td>17</td>\n",
       "      <td>r</td>\n",
       "      <td>suv</td>\n",
       "    </tr>\n",
       "    <tr>\n",
       "      <th>22</th>\n",
       "      <td>chevrolet</td>\n",
       "      <td>c1500 suburban 2wd</td>\n",
       "      <td>6.0</td>\n",
       "      <td>2008</td>\n",
       "      <td>8</td>\n",
       "      <td>auto(l4)</td>\n",
       "      <td>r</td>\n",
       "      <td>12</td>\n",
       "      <td>17</td>\n",
       "      <td>r</td>\n",
       "      <td>suv</td>\n",
       "    </tr>\n",
       "    <tr>\n",
       "      <th>...</th>\n",
       "      <td>...</td>\n",
       "      <td>...</td>\n",
       "      <td>...</td>\n",
       "      <td>...</td>\n",
       "      <td>...</td>\n",
       "      <td>...</td>\n",
       "      <td>...</td>\n",
       "      <td>...</td>\n",
       "      <td>...</td>\n",
       "      <td>...</td>\n",
       "      <td>...</td>\n",
       "    </tr>\n",
       "    <tr>\n",
       "      <th>176</th>\n",
       "      <td>toyota</td>\n",
       "      <td>4runner 4wd</td>\n",
       "      <td>3.4</td>\n",
       "      <td>1999</td>\n",
       "      <td>6</td>\n",
       "      <td>manual(m5)</td>\n",
       "      <td>4</td>\n",
       "      <td>15</td>\n",
       "      <td>17</td>\n",
       "      <td>r</td>\n",
       "      <td>suv</td>\n",
       "    </tr>\n",
       "    <tr>\n",
       "      <th>177</th>\n",
       "      <td>toyota</td>\n",
       "      <td>4runner 4wd</td>\n",
       "      <td>4.0</td>\n",
       "      <td>2008</td>\n",
       "      <td>6</td>\n",
       "      <td>auto(l5)</td>\n",
       "      <td>4</td>\n",
       "      <td>16</td>\n",
       "      <td>20</td>\n",
       "      <td>r</td>\n",
       "      <td>suv</td>\n",
       "    </tr>\n",
       "    <tr>\n",
       "      <th>178</th>\n",
       "      <td>toyota</td>\n",
       "      <td>4runner 4wd</td>\n",
       "      <td>4.7</td>\n",
       "      <td>2008</td>\n",
       "      <td>8</td>\n",
       "      <td>auto(l5)</td>\n",
       "      <td>4</td>\n",
       "      <td>14</td>\n",
       "      <td>17</td>\n",
       "      <td>r</td>\n",
       "      <td>suv</td>\n",
       "    </tr>\n",
       "    <tr>\n",
       "      <th>198</th>\n",
       "      <td>toyota</td>\n",
       "      <td>land cruiser wagon 4wd</td>\n",
       "      <td>4.7</td>\n",
       "      <td>1999</td>\n",
       "      <td>8</td>\n",
       "      <td>auto(l4)</td>\n",
       "      <td>4</td>\n",
       "      <td>11</td>\n",
       "      <td>15</td>\n",
       "      <td>r</td>\n",
       "      <td>suv</td>\n",
       "    </tr>\n",
       "    <tr>\n",
       "      <th>199</th>\n",
       "      <td>toyota</td>\n",
       "      <td>land cruiser wagon 4wd</td>\n",
       "      <td>5.7</td>\n",
       "      <td>2008</td>\n",
       "      <td>8</td>\n",
       "      <td>auto(s6)</td>\n",
       "      <td>4</td>\n",
       "      <td>13</td>\n",
       "      <td>18</td>\n",
       "      <td>r</td>\n",
       "      <td>suv</td>\n",
       "    </tr>\n",
       "  </tbody>\n",
       "</table>\n",
       "<p>62 rows × 11 columns</p>\n",
       "</div>"
      ],
      "text/plain": [
       "    manufacturer                   model  displ  year  cyl       trans drv  \\\n",
       "18     chevrolet      c1500 suburban 2wd    5.3  2008    8    auto(l4)   r   \n",
       "19     chevrolet      c1500 suburban 2wd    5.3  2008    8    auto(l4)   r   \n",
       "20     chevrolet      c1500 suburban 2wd    5.3  2008    8    auto(l4)   r   \n",
       "21     chevrolet      c1500 suburban 2wd    5.7  1999    8    auto(l4)   r   \n",
       "22     chevrolet      c1500 suburban 2wd    6.0  2008    8    auto(l4)   r   \n",
       "..           ...                     ...    ...   ...  ...         ...  ..   \n",
       "176       toyota             4runner 4wd    3.4  1999    6  manual(m5)   4   \n",
       "177       toyota             4runner 4wd    4.0  2008    6    auto(l5)   4   \n",
       "178       toyota             4runner 4wd    4.7  2008    8    auto(l5)   4   \n",
       "198       toyota  land cruiser wagon 4wd    4.7  1999    8    auto(l4)   4   \n",
       "199       toyota  land cruiser wagon 4wd    5.7  2008    8    auto(s6)   4   \n",
       "\n",
       "     cty  hwy fl category  \n",
       "18    14   20  r      suv  \n",
       "19    11   15  e      suv  \n",
       "20    14   20  r      suv  \n",
       "21    13   17  r      suv  \n",
       "22    12   17  r      suv  \n",
       "..   ...  ... ..      ...  \n",
       "176   15   17  r      suv  \n",
       "177   16   20  r      suv  \n",
       "178   14   17  r      suv  \n",
       "198   11   15  r      suv  \n",
       "199   13   18  r      suv  \n",
       "\n",
       "[62 rows x 11 columns]"
      ]
     },
     "execution_count": 155,
     "metadata": {},
     "output_type": "execute_result"
    }
   ],
   "source": [
    "suv = mpg[mpg['category'] == 'suv']\n",
    "suv"
   ]
  },
  {
   "cell_type": "code",
   "execution_count": 162,
   "id": "7e116e45",
   "metadata": {},
   "outputs": [
    {
     "data": {
      "text/plain": [
       "<AxesSubplot:xlabel='manufacturer', ylabel='mean_cty'>"
      ]
     },
     "execution_count": 162,
     "metadata": {},
     "output_type": "execute_result"
    },
    {
     "data": {
      "image/png": "[encoded data removed]",
      "text/plain": [
       "<Figure size 432x288 with 1 Axes>"
      ]
     },
     "metadata": {
      "needs_background": "light"
     },
     "output_type": "display_data"
    }
   ],
   "source": [
    "grouped_manufacturer = suv.groupby('manufacturer', as_index = False).agg(mean_cty = ('cty', 'mean'))\n",
    "top5_suv = grouped_manufacturer.sort_values(by = 'mean_cty',ascending = False).head()\n",
    "sns.barplot(data = top5_suv, x = 'manufacturer', y = 'mean_cty')"
   ]
  },
  {
   "cell_type": "code",
   "execution_count": 165,
   "id": "ee53013a",
   "metadata": {},
   "outputs": [
    {
     "data": {
      "text/plain": [
       "<AxesSubplot:xlabel='category', ylabel='count'>"
      ]
     },
     "execution_count": 165,
     "metadata": {},
     "output_type": "execute_result"
    },
    {
     "data": {
      "image/png": "[encoded data removed]",
      "text/plain": [
       "<Figure size 432x288 with 1 Axes>"
      ]
     },
     "metadata": {
      "needs_background": "light"
     },
     "output_type": "display_data"
    }
   ],
   "source": [
    "grouped_category = mpg.groupby('category', as_index = False).agg(count = ('manufacturer', 'count')).sort_values(by = 'count', ascending = False)\n",
    "sns.barplot(data = grouped_category, x ='category', y = 'count')"
   ]
  },
  {
   "cell_type": "code",
   "execution_count": 166,
   "id": "cdb5752b",
   "metadata": {},
   "outputs": [
    {
     "data": {
      "text/html": [
       "<div>\n",
       "<style scoped>\n",
       "    .dataframe tbody tr th:only-of-type {\n",
       "        vertical-align: middle;\n",
       "    }\n",
       "\n",
       "    .dataframe tbody tr th {\n",
       "        vertical-align: top;\n",
       "    }\n",
       "\n",
       "    .dataframe thead th {\n",
       "        text-align: right;\n",
       "    }\n",
       "</style>\n",
       "<table border=\"1\" class=\"dataframe\">\n",
       "  <thead>\n",
       "    <tr style=\"text-align: right;\">\n",
       "      <th></th>\n",
       "      <th>date</th>\n",
       "      <th>pce</th>\n",
       "      <th>pop</th>\n",
       "      <th>psavert</th>\n",
       "      <th>uempmed</th>\n",
       "      <th>unemploy</th>\n",
       "    </tr>\n",
       "  </thead>\n",
       "  <tbody>\n",
       "    <tr>\n",
       "      <th>0</th>\n",
       "      <td>1967-07-01</td>\n",
       "      <td>506.7</td>\n",
       "      <td>198712.0</td>\n",
       "      <td>12.6</td>\n",
       "      <td>4.5</td>\n",
       "      <td>2944</td>\n",
       "    </tr>\n",
       "    <tr>\n",
       "      <th>1</th>\n",
       "      <td>1967-08-01</td>\n",
       "      <td>509.8</td>\n",
       "      <td>198911.0</td>\n",
       "      <td>12.6</td>\n",
       "      <td>4.7</td>\n",
       "      <td>2945</td>\n",
       "    </tr>\n",
       "    <tr>\n",
       "      <th>2</th>\n",
       "      <td>1967-09-01</td>\n",
       "      <td>515.6</td>\n",
       "      <td>199113.0</td>\n",
       "      <td>11.9</td>\n",
       "      <td>4.6</td>\n",
       "      <td>2958</td>\n",
       "    </tr>\n",
       "    <tr>\n",
       "      <th>3</th>\n",
       "      <td>1967-10-01</td>\n",
       "      <td>512.2</td>\n",
       "      <td>199311.0</td>\n",
       "      <td>12.9</td>\n",
       "      <td>4.9</td>\n",
       "      <td>3143</td>\n",
       "    </tr>\n",
       "    <tr>\n",
       "      <th>4</th>\n",
       "      <td>1967-11-01</td>\n",
       "      <td>517.4</td>\n",
       "      <td>199498.0</td>\n",
       "      <td>12.8</td>\n",
       "      <td>4.7</td>\n",
       "      <td>3066</td>\n",
       "    </tr>\n",
       "  </tbody>\n",
       "</table>\n",
       "</div>"
      ],
      "text/plain": [
       "         date    pce       pop  psavert  uempmed  unemploy\n",
       "0  1967-07-01  506.7  198712.0     12.6      4.5      2944\n",
       "1  1967-08-01  509.8  198911.0     12.6      4.7      2945\n",
       "2  1967-09-01  515.6  199113.0     11.9      4.6      2958\n",
       "3  1967-10-01  512.2  199311.0     12.9      4.9      3143\n",
       "4  1967-11-01  517.4  199498.0     12.8      4.7      3066"
      ]
     },
     "execution_count": 166,
     "metadata": {},
     "output_type": "execute_result"
    }
   ],
   "source": [
    "economics = pd.read_csv('data/economics.csv')\n",
    "economics.head()"
   ]
  },
  {
   "cell_type": "code",
   "execution_count": 168,
   "id": "190d4bab",
   "metadata": {},
   "outputs": [
    {
     "data": {
      "text/plain": [
       "<AxesSubplot:xlabel='date', ylabel='unemploy'>"
      ]
     },
     "execution_count": 168,
     "metadata": {},
     "output_type": "execute_result"
    },
    {
     "data": {
      "image/png": "[encoded data removed]",
      "text/plain": [
       "<Figure size 432x288 with 1 Axes>"
      ]
     },
     "metadata": {
      "needs_background": "light"
     },
     "output_type": "display_data"
    }
   ],
   "source": [
    "sns.lineplot(data = economics, x = 'date', y = 'unemploy')"
   ]
  },
  {
   "cell_type": "code",
   "execution_count": 169,
   "id": "f0a7ffd9",
   "metadata": {},
   "outputs": [
    {
     "name": "stdout",
     "output_type": "stream",
     "text": [
      "<class 'pandas.core.frame.DataFrame'>\n",
      "RangeIndex: 574 entries, 0 to 573\n",
      "Data columns (total 7 columns):\n",
      " #   Column    Non-Null Count  Dtype         \n",
      "---  ------    --------------  -----         \n",
      " 0   date      574 non-null    object        \n",
      " 1   pce       574 non-null    float64       \n",
      " 2   pop       574 non-null    float64       \n",
      " 3   psavert   574 non-null    float64       \n",
      " 4   uempmed   574 non-null    float64       \n",
      " 5   unemploy  574 non-null    int64         \n",
      " 6   date2     574 non-null    datetime64[ns]\n",
      "dtypes: datetime64[ns](1), float64(4), int64(1), object(1)\n",
      "memory usage: 31.5+ KB\n"
     ]
    }
   ],
   "source": [
    "economics['date2'] = pd.to_datetime(economics['date'])\n",
    "economics.info()"
   ]
  },
  {
   "cell_type": "code",
   "execution_count": 170,
   "id": "ed89367c",
   "metadata": {},
   "outputs": [
    {
     "data": {
      "text/plain": [
       "<AxesSubplot:xlabel='date2', ylabel='unemploy'>"
      ]
     },
     "execution_count": 170,
     "metadata": {},
     "output_type": "execute_result"
    },
    {
     "data": {
      "image/png": "[encoded data removed]",
      "text/plain": [
       "<Figure size 432x288 with 1 Axes>"
      ]
     },
     "metadata": {
      "needs_background": "light"
     },
     "output_type": "display_data"
    }
   ],
   "source": [
    "sns.lineplot(data = economics, x = 'date2', y = 'unemploy')"
   ]
  },
  {
   "cell_type": "code",
   "execution_count": 174,
   "id": "b0288361",
   "metadata": {},
   "outputs": [
    {
     "data": {
      "text/html": [
       "<div>\n",
       "<style scoped>\n",
       "    .dataframe tbody tr th:only-of-type {\n",
       "        vertical-align: middle;\n",
       "    }\n",
       "\n",
       "    .dataframe tbody tr th {\n",
       "        vertical-align: top;\n",
       "    }\n",
       "\n",
       "    .dataframe thead th {\n",
       "        text-align: right;\n",
       "    }\n",
       "</style>\n",
       "<table border=\"1\" class=\"dataframe\">\n",
       "  <thead>\n",
       "    <tr style=\"text-align: right;\">\n",
       "      <th></th>\n",
       "      <th>date</th>\n",
       "      <th>pce</th>\n",
       "      <th>pop</th>\n",
       "      <th>psavert</th>\n",
       "      <th>uempmed</th>\n",
       "      <th>unemploy</th>\n",
       "      <th>date2</th>\n",
       "      <th>year</th>\n",
       "      <th>month</th>\n",
       "      <th>day</th>\n",
       "    </tr>\n",
       "  </thead>\n",
       "  <tbody>\n",
       "    <tr>\n",
       "      <th>0</th>\n",
       "      <td>1967-07-01</td>\n",
       "      <td>506.7</td>\n",
       "      <td>198712.000</td>\n",
       "      <td>12.6</td>\n",
       "      <td>4.5</td>\n",
       "      <td>2944</td>\n",
       "      <td>1967-07-01</td>\n",
       "      <td>1967</td>\n",
       "      <td>7</td>\n",
       "      <td>1</td>\n",
       "    </tr>\n",
       "    <tr>\n",
       "      <th>1</th>\n",
       "      <td>1967-08-01</td>\n",
       "      <td>509.8</td>\n",
       "      <td>198911.000</td>\n",
       "      <td>12.6</td>\n",
       "      <td>4.7</td>\n",
       "      <td>2945</td>\n",
       "      <td>1967-08-01</td>\n",
       "      <td>1967</td>\n",
       "      <td>8</td>\n",
       "      <td>1</td>\n",
       "    </tr>\n",
       "    <tr>\n",
       "      <th>2</th>\n",
       "      <td>1967-09-01</td>\n",
       "      <td>515.6</td>\n",
       "      <td>199113.000</td>\n",
       "      <td>11.9</td>\n",
       "      <td>4.6</td>\n",
       "      <td>2958</td>\n",
       "      <td>1967-09-01</td>\n",
       "      <td>1967</td>\n",
       "      <td>9</td>\n",
       "      <td>1</td>\n",
       "    </tr>\n",
       "    <tr>\n",
       "      <th>3</th>\n",
       "      <td>1967-10-01</td>\n",
       "      <td>512.2</td>\n",
       "      <td>199311.000</td>\n",
       "      <td>12.9</td>\n",
       "      <td>4.9</td>\n",
       "      <td>3143</td>\n",
       "      <td>1967-10-01</td>\n",
       "      <td>1967</td>\n",
       "      <td>10</td>\n",
       "      <td>1</td>\n",
       "    </tr>\n",
       "    <tr>\n",
       "      <th>4</th>\n",
       "      <td>1967-11-01</td>\n",
       "      <td>517.4</td>\n",
       "      <td>199498.000</td>\n",
       "      <td>12.8</td>\n",
       "      <td>4.7</td>\n",
       "      <td>3066</td>\n",
       "      <td>1967-11-01</td>\n",
       "      <td>1967</td>\n",
       "      <td>11</td>\n",
       "      <td>1</td>\n",
       "    </tr>\n",
       "    <tr>\n",
       "      <th>...</th>\n",
       "      <td>...</td>\n",
       "      <td>...</td>\n",
       "      <td>...</td>\n",
       "      <td>...</td>\n",
       "      <td>...</td>\n",
       "      <td>...</td>\n",
       "      <td>...</td>\n",
       "      <td>...</td>\n",
       "      <td>...</td>\n",
       "      <td>...</td>\n",
       "    </tr>\n",
       "    <tr>\n",
       "      <th>569</th>\n",
       "      <td>2014-12-01</td>\n",
       "      <td>12062.0</td>\n",
       "      <td>319746.157</td>\n",
       "      <td>7.6</td>\n",
       "      <td>12.9</td>\n",
       "      <td>8717</td>\n",
       "      <td>2014-12-01</td>\n",
       "      <td>2014</td>\n",
       "      <td>12</td>\n",
       "      <td>1</td>\n",
       "    </tr>\n",
       "    <tr>\n",
       "      <th>570</th>\n",
       "      <td>2015-01-01</td>\n",
       "      <td>12046.0</td>\n",
       "      <td>319928.646</td>\n",
       "      <td>7.7</td>\n",
       "      <td>13.2</td>\n",
       "      <td>8903</td>\n",
       "      <td>2015-01-01</td>\n",
       "      <td>2015</td>\n",
       "      <td>1</td>\n",
       "      <td>1</td>\n",
       "    </tr>\n",
       "    <tr>\n",
       "      <th>571</th>\n",
       "      <td>2015-02-01</td>\n",
       "      <td>12082.4</td>\n",
       "      <td>320074.511</td>\n",
       "      <td>7.9</td>\n",
       "      <td>12.9</td>\n",
       "      <td>8610</td>\n",
       "      <td>2015-02-01</td>\n",
       "      <td>2015</td>\n",
       "      <td>2</td>\n",
       "      <td>1</td>\n",
       "    </tr>\n",
       "    <tr>\n",
       "      <th>572</th>\n",
       "      <td>2015-03-01</td>\n",
       "      <td>12158.3</td>\n",
       "      <td>320230.786</td>\n",
       "      <td>7.4</td>\n",
       "      <td>12.0</td>\n",
       "      <td>8504</td>\n",
       "      <td>2015-03-01</td>\n",
       "      <td>2015</td>\n",
       "      <td>3</td>\n",
       "      <td>1</td>\n",
       "    </tr>\n",
       "    <tr>\n",
       "      <th>573</th>\n",
       "      <td>2015-04-01</td>\n",
       "      <td>12193.8</td>\n",
       "      <td>320402.295</td>\n",
       "      <td>7.6</td>\n",
       "      <td>11.5</td>\n",
       "      <td>8526</td>\n",
       "      <td>2015-04-01</td>\n",
       "      <td>2015</td>\n",
       "      <td>4</td>\n",
       "      <td>1</td>\n",
       "    </tr>\n",
       "  </tbody>\n",
       "</table>\n",
       "<p>574 rows × 10 columns</p>\n",
       "</div>"
      ],
      "text/plain": [
       "           date      pce         pop  psavert  uempmed  unemploy      date2  \\\n",
       "0    1967-07-01    506.7  198712.000     12.6      4.5      2944 1967-07-01   \n",
       "1    1967-08-01    509.8  198911.000     12.6      4.7      2945 1967-08-01   \n",
       "2    1967-09-01    515.6  199113.000     11.9      4.6      2958 1967-09-01   \n",
       "3    1967-10-01    512.2  199311.000     12.9      4.9      3143 1967-10-01   \n",
       "4    1967-11-01    517.4  199498.000     12.8      4.7      3066 1967-11-01   \n",
       "..          ...      ...         ...      ...      ...       ...        ...   \n",
       "569  2014-12-01  12062.0  319746.157      7.6     12.9      8717 2014-12-01   \n",
       "570  2015-01-01  12046.0  319928.646      7.7     13.2      8903 2015-01-01   \n",
       "571  2015-02-01  12082.4  320074.511      7.9     12.9      8610 2015-02-01   \n",
       "572  2015-03-01  12158.3  320230.786      7.4     12.0      8504 2015-03-01   \n",
       "573  2015-04-01  12193.8  320402.295      7.6     11.5      8526 2015-04-01   \n",
       "\n",
       "     year  month  day  \n",
       "0    1967      7    1  \n",
       "1    1967      8    1  \n",
       "2    1967      9    1  \n",
       "3    1967     10    1  \n",
       "4    1967     11    1  \n",
       "..    ...    ...  ...  \n",
       "569  2014     12    1  \n",
       "570  2015      1    1  \n",
       "571  2015      2    1  \n",
       "572  2015      3    1  \n",
       "573  2015      4    1  \n",
       "\n",
       "[574 rows x 10 columns]"
      ]
     },
     "execution_count": 174,
     "metadata": {},
     "output_type": "execute_result"
    }
   ],
   "source": [
    "economics['year'] = economics['date2'].dt.year\n",
    "economics['month'] = economics['date2'].dt.month\n",
    "economics['day'] = economics['date2'].dt.day\n",
    "economics"
   ]
  },
  {
   "cell_type": "code",
   "execution_count": 175,
   "id": "4dc0777a",
   "metadata": {},
   "outputs": [
    {
     "data": {
      "text/plain": [
       "<AxesSubplot:xlabel='drv', ylabel='hwy'>"
      ]
     },
     "execution_count": 175,
     "metadata": {},
     "output_type": "execute_result"
    },
    {
     "data": {
      "image/png": "[encoded data removed]",
      "text/plain": [
       "<Figure size 432x288 with 1 Axes>"
      ]
     },
     "metadata": {
      "needs_background": "light"
     },
     "output_type": "display_data"
    }
   ],
   "source": [
    "sns.boxplot(data = mpg, x = 'drv', y = 'hwy')"
   ]
  },
  {
   "cell_type": "markdown",
   "id": "8696aae4",
   "metadata": {},
   "source": [
    "## 연습문제"
   ]
  },
  {
   "cell_type": "code",
   "execution_count": 204,
   "id": "3897023e",
   "metadata": {},
   "outputs": [
    {
     "data": {
      "text/html": [
       "<div>\n",
       "<style scoped>\n",
       "    .dataframe tbody tr th:only-of-type {\n",
       "        vertical-align: middle;\n",
       "    }\n",
       "\n",
       "    .dataframe tbody tr th {\n",
       "        vertical-align: top;\n",
       "    }\n",
       "\n",
       "    .dataframe thead th {\n",
       "        text-align: right;\n",
       "    }\n",
       "</style>\n",
       "<table border=\"1\" class=\"dataframe\">\n",
       "  <thead>\n",
       "    <tr style=\"text-align: right;\">\n",
       "      <th></th>\n",
       "      <th>Unnamed: 0</th>\n",
       "      <th>ID</th>\n",
       "      <th>총구매수량_x</th>\n",
       "      <th>기타품목구매비율</th>\n",
       "      <th>수저류구매비율</th>\n",
       "      <th>실링구매비율</th>\n",
       "      <th>용기류구매비율</th>\n",
       "      <th>위생용품구매비율</th>\n",
       "      <th>총구매횟수</th>\n",
       "      <th>총판매액</th>\n",
       "      <th>...</th>\n",
       "      <th>최종주문연도</th>\n",
       "      <th>최종주문월</th>\n",
       "      <th>최종주문일자</th>\n",
       "      <th>최종주문요일</th>\n",
       "      <th>최종주문시간</th>\n",
       "      <th>회원가입일(clean)</th>\n",
       "      <th>가입연도</th>\n",
       "      <th>가입월</th>\n",
       "      <th>가입일자</th>\n",
       "      <th>가입요일</th>\n",
       "    </tr>\n",
       "  </thead>\n",
       "  <tbody>\n",
       "    <tr>\n",
       "      <th>0</th>\n",
       "      <td>0</td>\n",
       "      <td>100304734@n</td>\n",
       "      <td>1.0</td>\n",
       "      <td>0.000</td>\n",
       "      <td>0.000</td>\n",
       "      <td>0.0</td>\n",
       "      <td>1.000</td>\n",
       "      <td>0.000</td>\n",
       "      <td>1</td>\n",
       "      <td>103300</td>\n",
       "      <td>...</td>\n",
       "      <td>2019.0</td>\n",
       "      <td>5.0</td>\n",
       "      <td>9.0</td>\n",
       "      <td>Thursday</td>\n",
       "      <td>14.0</td>\n",
       "      <td>2019-05-09 00:00:00</td>\n",
       "      <td>2019.0</td>\n",
       "      <td>5.0</td>\n",
       "      <td>9.0</td>\n",
       "      <td>Thursday</td>\n",
       "    </tr>\n",
       "    <tr>\n",
       "      <th>1</th>\n",
       "      <td>1</td>\n",
       "      <td>1003409866@k</td>\n",
       "      <td>62.0</td>\n",
       "      <td>0.000</td>\n",
       "      <td>0.000</td>\n",
       "      <td>0.0</td>\n",
       "      <td>1.000</td>\n",
       "      <td>0.000</td>\n",
       "      <td>18</td>\n",
       "      <td>4303880</td>\n",
       "      <td>...</td>\n",
       "      <td>2019.0</td>\n",
       "      <td>5.0</td>\n",
       "      <td>28.0</td>\n",
       "      <td>Tuesday</td>\n",
       "      <td>16.0</td>\n",
       "      <td>2019-01-07 00:00:00</td>\n",
       "      <td>2019.0</td>\n",
       "      <td>1.0</td>\n",
       "      <td>7.0</td>\n",
       "      <td>Monday</td>\n",
       "    </tr>\n",
       "    <tr>\n",
       "      <th>2</th>\n",
       "      <td>2</td>\n",
       "      <td>100381931@n</td>\n",
       "      <td>5.0</td>\n",
       "      <td>0.000</td>\n",
       "      <td>0.000</td>\n",
       "      <td>0.0</td>\n",
       "      <td>0.000</td>\n",
       "      <td>1.000</td>\n",
       "      <td>3</td>\n",
       "      <td>71050</td>\n",
       "      <td>...</td>\n",
       "      <td>2019.0</td>\n",
       "      <td>2.0</td>\n",
       "      <td>10.0</td>\n",
       "      <td>Sunday</td>\n",
       "      <td>21.0</td>\n",
       "      <td>2018-10-31 00:00:00</td>\n",
       "      <td>2018.0</td>\n",
       "      <td>10.0</td>\n",
       "      <td>31.0</td>\n",
       "      <td>Wednesday</td>\n",
       "    </tr>\n",
       "    <tr>\n",
       "      <th>3</th>\n",
       "      <td>3</td>\n",
       "      <td>1004498382@k</td>\n",
       "      <td>1.0</td>\n",
       "      <td>0.000</td>\n",
       "      <td>0.000</td>\n",
       "      <td>0.0</td>\n",
       "      <td>1.000</td>\n",
       "      <td>0.000</td>\n",
       "      <td>1</td>\n",
       "      <td>76400</td>\n",
       "      <td>...</td>\n",
       "      <td>2019.0</td>\n",
       "      <td>1.0</td>\n",
       "      <td>9.0</td>\n",
       "      <td>Wednesday</td>\n",
       "      <td>12.0</td>\n",
       "      <td>2019-01-09 00:00:00</td>\n",
       "      <td>2019.0</td>\n",
       "      <td>1.0</td>\n",
       "      <td>9.0</td>\n",
       "      <td>Wednesday</td>\n",
       "    </tr>\n",
       "    <tr>\n",
       "      <th>4</th>\n",
       "      <td>4</td>\n",
       "      <td>1004547839@k</td>\n",
       "      <td>4.0</td>\n",
       "      <td>1.000</td>\n",
       "      <td>0.000</td>\n",
       "      <td>0.0</td>\n",
       "      <td>0.000</td>\n",
       "      <td>0.000</td>\n",
       "      <td>1</td>\n",
       "      <td>360800</td>\n",
       "      <td>...</td>\n",
       "      <td>2019.0</td>\n",
       "      <td>1.0</td>\n",
       "      <td>9.0</td>\n",
       "      <td>Wednesday</td>\n",
       "      <td>13.0</td>\n",
       "      <td>2019-01-09 00:00:00</td>\n",
       "      <td>2019.0</td>\n",
       "      <td>1.0</td>\n",
       "      <td>9.0</td>\n",
       "      <td>Wednesday</td>\n",
       "    </tr>\n",
       "    <tr>\n",
       "      <th>...</th>\n",
       "      <td>...</td>\n",
       "      <td>...</td>\n",
       "      <td>...</td>\n",
       "      <td>...</td>\n",
       "      <td>...</td>\n",
       "      <td>...</td>\n",
       "      <td>...</td>\n",
       "      <td>...</td>\n",
       "      <td>...</td>\n",
       "      <td>...</td>\n",
       "      <td>...</td>\n",
       "      <td>...</td>\n",
       "      <td>...</td>\n",
       "      <td>...</td>\n",
       "      <td>...</td>\n",
       "      <td>...</td>\n",
       "      <td>...</td>\n",
       "      <td>...</td>\n",
       "      <td>...</td>\n",
       "      <td>...</td>\n",
       "      <td>...</td>\n",
       "    </tr>\n",
       "    <tr>\n",
       "      <th>4919</th>\n",
       "      <td>4931</td>\n",
       "      <td>zxvnm07</td>\n",
       "      <td>2.0</td>\n",
       "      <td>0.000</td>\n",
       "      <td>0.000</td>\n",
       "      <td>0.0</td>\n",
       "      <td>0.500</td>\n",
       "      <td>0.500</td>\n",
       "      <td>1</td>\n",
       "      <td>94380</td>\n",
       "      <td>...</td>\n",
       "      <td>2018.0</td>\n",
       "      <td>10.0</td>\n",
       "      <td>30.0</td>\n",
       "      <td>Tuesday</td>\n",
       "      <td>16.0</td>\n",
       "      <td>2018-10-30 00:00:00</td>\n",
       "      <td>2018.0</td>\n",
       "      <td>10.0</td>\n",
       "      <td>30.0</td>\n",
       "      <td>Tuesday</td>\n",
       "    </tr>\n",
       "    <tr>\n",
       "      <th>4920</th>\n",
       "      <td>4932</td>\n",
       "      <td>zxxz60</td>\n",
       "      <td>23.0</td>\n",
       "      <td>0.000</td>\n",
       "      <td>0.000</td>\n",
       "      <td>0.0</td>\n",
       "      <td>1.000</td>\n",
       "      <td>0.000</td>\n",
       "      <td>6</td>\n",
       "      <td>1341280</td>\n",
       "      <td>...</td>\n",
       "      <td>2019.0</td>\n",
       "      <td>5.0</td>\n",
       "      <td>23.0</td>\n",
       "      <td>Thursday</td>\n",
       "      <td>14.0</td>\n",
       "      <td>2019-03-29 00:00:00</td>\n",
       "      <td>2019.0</td>\n",
       "      <td>3.0</td>\n",
       "      <td>29.0</td>\n",
       "      <td>Friday</td>\n",
       "    </tr>\n",
       "    <tr>\n",
       "      <th>4921</th>\n",
       "      <td>4933</td>\n",
       "      <td>zzar2000</td>\n",
       "      <td>27.0</td>\n",
       "      <td>0.000</td>\n",
       "      <td>0.148</td>\n",
       "      <td>0.0</td>\n",
       "      <td>0.778</td>\n",
       "      <td>0.074</td>\n",
       "      <td>19</td>\n",
       "      <td>1534750</td>\n",
       "      <td>...</td>\n",
       "      <td>2019.0</td>\n",
       "      <td>5.0</td>\n",
       "      <td>27.0</td>\n",
       "      <td>Monday</td>\n",
       "      <td>7.0</td>\n",
       "      <td>2018-11-01 00:00:00</td>\n",
       "      <td>2018.0</td>\n",
       "      <td>11.0</td>\n",
       "      <td>1.0</td>\n",
       "      <td>Thursday</td>\n",
       "    </tr>\n",
       "    <tr>\n",
       "      <th>4922</th>\n",
       "      <td>4934</td>\n",
       "      <td>zzbbwmf</td>\n",
       "      <td>15.0</td>\n",
       "      <td>0.000</td>\n",
       "      <td>0.067</td>\n",
       "      <td>0.0</td>\n",
       "      <td>0.933</td>\n",
       "      <td>0.000</td>\n",
       "      <td>6</td>\n",
       "      <td>1160550</td>\n",
       "      <td>...</td>\n",
       "      <td>2019.0</td>\n",
       "      <td>4.0</td>\n",
       "      <td>30.0</td>\n",
       "      <td>Tuesday</td>\n",
       "      <td>17.0</td>\n",
       "      <td>2018-10-16 00:00:00</td>\n",
       "      <td>2018.0</td>\n",
       "      <td>10.0</td>\n",
       "      <td>16.0</td>\n",
       "      <td>Tuesday</td>\n",
       "    </tr>\n",
       "    <tr>\n",
       "      <th>4923</th>\n",
       "      <td>4935</td>\n",
       "      <td>zzzxkxk91</td>\n",
       "      <td>3.0</td>\n",
       "      <td>0.333</td>\n",
       "      <td>0.000</td>\n",
       "      <td>0.0</td>\n",
       "      <td>0.667</td>\n",
       "      <td>0.000</td>\n",
       "      <td>1</td>\n",
       "      <td>153650</td>\n",
       "      <td>...</td>\n",
       "      <td>2018.0</td>\n",
       "      <td>1.0</td>\n",
       "      <td>3.0</td>\n",
       "      <td>Wednesday</td>\n",
       "      <td>14.0</td>\n",
       "      <td>2018-01-03 00:00:00</td>\n",
       "      <td>2018.0</td>\n",
       "      <td>1.0</td>\n",
       "      <td>3.0</td>\n",
       "      <td>Wednesday</td>\n",
       "    </tr>\n",
       "  </tbody>\n",
       "</table>\n",
       "<p>4924 rows × 36 columns</p>\n",
       "</div>"
      ],
      "text/plain": [
       "      Unnamed: 0            ID  총구매수량_x  기타품목구매비율  수저류구매비율  실링구매비율  용기류구매비율  \\\n",
       "0              0   100304734@n      1.0     0.000    0.000     0.0    1.000   \n",
       "1              1  1003409866@k     62.0     0.000    0.000     0.0    1.000   \n",
       "2              2   100381931@n      5.0     0.000    0.000     0.0    0.000   \n",
       "3              3  1004498382@k      1.0     0.000    0.000     0.0    1.000   \n",
       "4              4  1004547839@k      4.0     1.000    0.000     0.0    0.000   \n",
       "...          ...           ...      ...       ...      ...     ...      ...   \n",
       "4919        4931       zxvnm07      2.0     0.000    0.000     0.0    0.500   \n",
       "4920        4932        zxxz60     23.0     0.000    0.000     0.0    1.000   \n",
       "4921        4933      zzar2000     27.0     0.000    0.148     0.0    0.778   \n",
       "4922        4934       zzbbwmf     15.0     0.000    0.067     0.0    0.933   \n",
       "4923        4935     zzzxkxk91      3.0     0.333    0.000     0.0    0.667   \n",
       "\n",
       "      위생용품구매비율  총구매횟수     총판매액  ...  최종주문연도  최종주문월  최종주문일자     최종주문요일 최종주문시간  \\\n",
       "0        0.000      1   103300  ...  2019.0    5.0     9.0   Thursday   14.0   \n",
       "1        0.000     18  4303880  ...  2019.0    5.0    28.0    Tuesday   16.0   \n",
       "2        1.000      3    71050  ...  2019.0    2.0    10.0     Sunday   21.0   \n",
       "3        0.000      1    76400  ...  2019.0    1.0     9.0  Wednesday   12.0   \n",
       "4        0.000      1   360800  ...  2019.0    1.0     9.0  Wednesday   13.0   \n",
       "...        ...    ...      ...  ...     ...    ...     ...        ...    ...   \n",
       "4919     0.500      1    94380  ...  2018.0   10.0    30.0    Tuesday   16.0   \n",
       "4920     0.000      6  1341280  ...  2019.0    5.0    23.0   Thursday   14.0   \n",
       "4921     0.074     19  1534750  ...  2019.0    5.0    27.0     Monday    7.0   \n",
       "4922     0.000      6  1160550  ...  2019.0    4.0    30.0    Tuesday   17.0   \n",
       "4923     0.000      1   153650  ...  2018.0    1.0     3.0  Wednesday   14.0   \n",
       "\n",
       "             회원가입일(clean)    가입연도   가입월  가입일자       가입요일  \n",
       "0     2019-05-09 00:00:00  2019.0   5.0   9.0   Thursday  \n",
       "1     2019-01-07 00:00:00  2019.0   1.0   7.0     Monday  \n",
       "2     2018-10-31 00:00:00  2018.0  10.0  31.0  Wednesday  \n",
       "3     2019-01-09 00:00:00  2019.0   1.0   9.0  Wednesday  \n",
       "4     2019-01-09 00:00:00  2019.0   1.0   9.0  Wednesday  \n",
       "...                   ...     ...   ...   ...        ...  \n",
       "4919  2018-10-30 00:00:00  2018.0  10.0  30.0    Tuesday  \n",
       "4920  2019-03-29 00:00:00  2019.0   3.0  29.0     Friday  \n",
       "4921  2018-11-01 00:00:00  2018.0  11.0   1.0   Thursday  \n",
       "4922  2018-10-16 00:00:00  2018.0  10.0  16.0    Tuesday  \n",
       "4923  2018-01-03 00:00:00  2018.0   1.0   3.0  Wednesday  \n",
       "\n",
       "[4924 rows x 36 columns]"
      ]
     },
     "execution_count": 204,
     "metadata": {},
     "output_type": "execute_result"
    }
   ],
   "source": [
    "# 파이썬 시각화 패키지 불러오기\n",
    "import matplotlib.pyplot as plt\n",
    "%matplotlib inline\n",
    "import platform\n",
    "\n",
    "# 운영체제별 한글 폰트 설정\n",
    "if platform.system() == 'Darwin': # Mac 환경 폰트 설정\n",
    "    plt.rc('font', family='AppleGothic')\n",
    "elif platform.system() == 'Windows': # Windows 환경 폰트 설정\n",
    "    plt.rc('font', family='Malgun Gothic')\n",
    "\n",
    "plt.rc('axes', unicode_minus=False) # 마이너스 폰트 설정\n",
    "\n",
    "\n",
    "# 글씨 선명하게 출력하는 설정\n",
    "%config InlineBackend.figure_format = 'retina'\n",
    "import pandas as pd \n",
    "import seaborn as sns\n",
    "\n",
    "data = pd.read_csv('data\\@preprocessing_data_member01.csv')\n",
    "data"
   ]
  },
  {
   "cell_type": "code",
   "execution_count": 205,
   "id": "a8a248cb",
   "metadata": {},
   "outputs": [
    {
     "data": {
      "text/plain": [
       "<AxesSubplot:xlabel='최종주문요일', ylabel='count'>"
      ]
     },
     "execution_count": 205,
     "metadata": {},
     "output_type": "execute_result"
    },
    {
     "data": {
      "image/png": "[encoded data removed]",
      "text/plain": [
       "<Figure size 432x288 with 1 Axes>"
      ]
     },
     "metadata": {
      "image/png": {
       "height": 263,
       "width": 387
      },
      "needs_background": "light"
     },
     "output_type": "display_data"
    }
   ],
   "source": [
    "#1\n",
    "sns.countplot(data = data, x = '최종주문요일')"
   ]
  },
  {
   "cell_type": "code",
   "execution_count": 206,
   "id": "89c822ea",
   "metadata": {},
   "outputs": [],
   "source": [
    "#2-1\n",
    "def recode_age(data):\n",
    "    if data < 30:\n",
    "        return '20대'\n",
    "    elif data < 40:\n",
    "        return '30대'\n",
    "    elif data < 50:\n",
    "        return '40대'\n",
    "    elif data < 60:\n",
    "        return '50대'\n",
    "    elif data < 70:\n",
    "        return '60대'\n",
    "    elif data < 80:\n",
    "        return '70대'\n",
    "    elif data < 90:\n",
    "        return '80대'\n",
    "    else:\n",
    "        return '90대'"
   ]
  },
  {
   "cell_type": "code",
   "execution_count": 212,
   "id": "caca16a5",
   "metadata": {},
   "outputs": [],
   "source": [
    "data['연령대'] = data['나이'].apply(recode_age)"
   ]
  },
  {
   "cell_type": "code",
   "execution_count": 214,
   "id": "64a3a654",
   "metadata": {},
   "outputs": [
    {
     "data": {
      "text/plain": [
       "<AxesSubplot:xlabel='연령대', ylabel='count'>"
      ]
     },
     "execution_count": 214,
     "metadata": {},
     "output_type": "execute_result"
    },
    {
     "data": {
      "image/png": "[encoded data removed]",
      "text/plain": [
       "<Figure size 432x288 with 1 Axes>"
      ]
     },
     "metadata": {
      "image/png": {
       "height": 263,
       "width": 392
      },
      "needs_background": "light"
     },
     "output_type": "display_data"
    }
   ],
   "source": [
    "sns.countplot(data = data.sort_values(by = '연령대'), x = '연령대', hue = '성별')"
   ]
  },
  {
   "cell_type": "code",
   "execution_count": 222,
   "id": "20a7c680",
   "metadata": {},
   "outputs": [
    {
     "data": {
      "text/plain": [
       "<AxesSubplot:xlabel='연령대', ylabel='count'>"
      ]
     },
     "execution_count": 222,
     "metadata": {},
     "output_type": "execute_result"
    },
    {
     "data": {
      "image/png": "[encoded data removed]",
      "text/plain": [
       "<Figure size 432x288 with 1 Axes>"
      ]
     },
     "metadata": {
      "image/png": {
       "height": 263,
       "width": 392
      },
      "needs_background": "light"
     },
     "output_type": "display_data"
    }
   ],
   "source": [
    "# 2-2\n",
    "data['연령대'] = (data['나이'] // 10)*10 \n",
    "dt = data.astype({'연령대':'int'}) \n",
    "sns.countplot(data=dt , x = '연령대', hue = '성별')"
   ]
  },
  {
   "cell_type": "code",
   "execution_count": 221,
   "id": "def7f743",
   "metadata": {},
   "outputs": [],
   "source": [
    "# 2-3\n",
    "data['연령대'] = data['나이']/10\n",
    "data['연령대'] = round(data['연령대'],0)*10"
   ]
  },
  {
   "cell_type": "code",
   "execution_count": 215,
   "id": "3e43632e",
   "metadata": {},
   "outputs": [
    {
     "data": {
      "text/plain": [
       "<AxesSubplot:xlabel='최종주문일자', ylabel='Count'>"
      ]
     },
     "execution_count": 215,
     "metadata": {},
     "output_type": "execute_result"
    },
    {
     "data": {
      "image/png": "[encoded data removed]",
      "text/plain": [
       "<Figure size 432x288 with 1 Axes>"
      ]
     },
     "metadata": {
      "image/png": {
       "height": 263,
       "width": 387
      },
      "needs_background": "light"
     },
     "output_type": "display_data"
    }
   ],
   "source": [
    "#3\n",
    "sns.histplot(data = data, x = '최종주문일자')"
   ]
  },
  {
   "cell_type": "code",
   "execution_count": 216,
   "id": "b42d586e",
   "metadata": {},
   "outputs": [
    {
     "data": {
      "text/plain": [
       "<AxesSubplot:xlabel='가입월', ylabel='Count'>"
      ]
     },
     "execution_count": 216,
     "metadata": {},
     "output_type": "execute_result"
    },
    {
     "data": {
      "image/png": "[encoded data removed]",
      "text/plain": [
       "<Figure size 432x288 with 1 Axes>"
      ]
     },
     "metadata": {
      "image/png": {
       "height": 263,
       "width": 387
      },
      "needs_background": "light"
     },
     "output_type": "display_data"
    }
   ],
   "source": [
    "sns.histplot(data = data, x = '가입월')"
   ]
  },
  {
   "cell_type": "code",
   "execution_count": 220,
   "id": "0efa74b1",
   "metadata": {},
   "outputs": [
    {
     "data": {
      "text/plain": [
       "<AxesSubplot:xlabel='최종주문월', ylabel='총순수이익'>"
      ]
     },
     "execution_count": 220,
     "metadata": {},
     "output_type": "execute_result"
    },
    {
     "data": {
      "image/png": "[encoded data removed]",
      "text/plain": [
       "<Figure size 432x288 with 1 Axes>"
      ]
     },
     "metadata": {
      "image/png": {
       "height": 263,
       "width": 403
      },
      "needs_background": "light"
     },
     "output_type": "display_data"
    }
   ],
   "source": [
    "#4\n",
    "sns.lineplot(data = data, x = '최종주문월', y = '총순수이익')"
   ]
  },
  {
   "cell_type": "code",
   "execution_count": 219,
   "id": "2af1501c",
   "metadata": {},
   "outputs": [
    {
     "data": {
      "text/plain": [
       "<AxesSubplot:xlabel='성별', ylabel='나이'>"
      ]
     },
     "execution_count": 219,
     "metadata": {},
     "output_type": "execute_result"
    },
    {
     "data": {
      "image/png": "[encoded data removed]",
      "text/plain": [
       "<Figure size 432x288 with 1 Axes>"
      ]
     },
     "metadata": {
      "image/png": {
       "height": 263,
       "width": 381
      },
      "needs_background": "light"
     },
     "output_type": "display_data"
    }
   ],
   "source": [
    "#5\n",
    "sns.boxplot(data = data, x = '성별', y = '나이')"
   ]
  },
  {
   "cell_type": "code",
   "execution_count": 231,
   "id": "b31f0993",
   "metadata": {},
   "outputs": [
    {
     "data": {
      "text/plain": [
       "<AxesSubplot:xlabel='유입경로', ylabel='총판매액'>"
      ]
     },
     "execution_count": 231,
     "metadata": {},
     "output_type": "execute_result"
    },
    {
     "data": {
      "image/png": "[encoded data removed]",
      "text/plain": [
       "<Figure size 864x360 with 1 Axes>"
      ]
     },
     "metadata": {
      "image/png": {
       "height": 329,
       "width": 718
      },
      "needs_background": "light"
     },
     "output_type": "display_data"
    }
   ],
   "source": [
    "#6\n",
    "plt.figure(figsize = (12, 5))\n",
    "sns.barplot(data = data, x = '유입경로', y = '총판매액')"
   ]
  },
  {
   "cell_type": "code",
   "execution_count": 232,
   "id": "747daac8",
   "metadata": {},
   "outputs": [
    {
     "data": {
      "text/plain": [
       "<AxesSubplot:xlabel='총판매액', ylabel='유입경로'>"
      ]
     },
     "execution_count": 232,
     "metadata": {},
     "output_type": "execute_result"
    },
    {
     "data": {
      "image/png": "[encoded data removed]",
      "text/plain": [
       "<Figure size 432x288 with 1 Axes>"
      ]
     },
     "metadata": {
      "image/png": {
       "height": 263,
       "width": 440
      },
      "needs_background": "light"
     },
     "output_type": "display_data"
    }
   ],
   "source": [
    "sns.barplot(data = data, x = '총판매액', y = '유입경로')"
   ]
  },
  {
   "cell_type": "code",
   "execution_count": 234,
   "id": "29d5e5f7",
   "metadata": {},
   "outputs": [
    {
     "data": {
      "text/plain": [
       "(array([ 0,  1,  2,  3,  4,  5,  6,  7,  8,  9, 10, 11]),\n",
       " [Text(0, 0, 'SNS광고'),\n",
       "  Text(1, 0, '카카오톡광고'),\n",
       "  Text(2, 0, '블로그광고'),\n",
       "  Text(3, 0, '인터넷검색'),\n",
       "  Text(4, 0, '유튜브광고'),\n",
       "  Text(5, 0, '신문광고'),\n",
       "  Text(6, 0, '이메일광고'),\n",
       "  Text(7, 0, '인터넷기사광고'),\n",
       "  Text(8, 0, '지인추천'),\n",
       "  Text(9, 0, '기타'),\n",
       "  Text(10, 0, '전단지광고'),\n",
       "  Text(11, 0, '잡지광고')])"
      ]
     },
     "execution_count": 234,
     "metadata": {},
     "output_type": "execute_result"
    },
    {
     "data": {
      "image/png": "[encoded data removed]",
      "text/plain": [
       "<Figure size 432x288 with 1 Axes>"
      ]
     },
     "metadata": {
      "image/png": {
       "height": 334,
       "width": 383
      },
      "needs_background": "light"
     },
     "output_type": "display_data"
    }
   ],
   "source": [
    "sns.barplot(data = data, x = '유입경로', y = '총판매액')\n",
    "plt.xticks(rotation = 90)"
   ]
  },
  {
   "cell_type": "code",
   "execution_count": 237,
   "id": "3f949bfe",
   "metadata": {},
   "outputs": [],
   "source": [
    "#7\n",
    "data['주소(시,도)'] = data['주소'].apply(lambda x: x.split(' ')[:1][0])"
   ]
  },
  {
   "cell_type": "code",
   "execution_count": 238,
   "id": "12eaef14",
   "metadata": {},
   "outputs": [],
   "source": [
    "def extract_adress(text):\n",
    "    adress_list = text.split(' ')[:2]\n",
    "    adress = ' '.join(adress_list)\n",
    "    return adress"
   ]
  },
  {
   "cell_type": "code",
   "execution_count": 239,
   "id": "872a1b38",
   "metadata": {},
   "outputs": [],
   "source": [
    "data['주소(시,도)'] = data['주소'].apply(extract_adress)"
   ]
  },
  {
   "cell_type": "code",
   "execution_count": 240,
   "id": "ac7c58d0",
   "metadata": {},
   "outputs": [
    {
     "data": {
      "text/plain": [
       "0             미확인\n",
       "1       서울특별시 강남구\n",
       "2        대구광역시 남구\n",
       "3         경기도 부천시\n",
       "4        전라남도 나주시\n",
       "          ...    \n",
       "4919     충청남도 당진시\n",
       "4920      경기도 화성시\n",
       "4921      경기도 용인시\n",
       "4922    부산광역시 사하구\n",
       "4923     울산광역시 남구\n",
       "Name: 주소(시,도), Length: 4924, dtype: object"
      ]
     },
     "execution_count": 240,
     "metadata": {},
     "output_type": "execute_result"
    }
   ],
   "source": [
    "data['주소(시,도)']"
   ]
  },
  {
   "cell_type": "code",
   "execution_count": 247,
   "id": "76420939",
   "metadata": {},
   "outputs": [
    {
     "data": {
      "text/plain": [
       "<AxesSubplot:xlabel='주소(시,도)', ylabel='총판매액'>"
      ]
     },
     "execution_count": 247,
     "metadata": {},
     "output_type": "execute_result"
    },
    {
     "data": {
      "image/png": "[encoded data removed]",
      "text/plain": [
       "<Figure size 432x288 with 1 Axes>"
      ]
     },
     "metadata": {
      "image/png": {
       "height": 274,
       "width": 450
      },
      "needs_background": "light"
     },
     "output_type": "display_data"
    }
   ],
   "source": [
    "address_sell = data.groupby('주소(시,도)').sum()[['총판매액']]\n",
    "sns.barplot(data = data, x = '주소(시,도)', y = '총판매액')"
   ]
  },
  {
   "cell_type": "code",
   "execution_count": null,
   "id": "52594a67",
   "metadata": {},
   "outputs": [],
   "source": []
  }
 ],
 "metadata": {
  "kernelspec": {
   "display_name": "Python 3 (ipykernel)",
   "language": "python",
   "name": "python3"
  },
  "language_info": {
   "codemirror_mode": {
    "name": "ipython",
    "version": 3
   },
   "file_extension": ".py",
   "mimetype": "text/x-python",
   "name": "python",
   "nbconvert_exporter": "python",
   "pygments_lexer": "ipython3",
   "version": "3.9.12"
  },
  "toc": {
   "base_numbering": 1,
   "nav_menu": {},
   "number_sections": true,
   "sideBar": true,
   "skip_h1_title": false,
   "title_cell": "Table of Contents",
   "title_sidebar": "Contents",
   "toc_cell": false,
   "toc_position": {},
   "toc_section_display": true,
   "toc_window_display": false
  }
 },
 "nbformat": 4,
 "nbformat_minor": 5
}

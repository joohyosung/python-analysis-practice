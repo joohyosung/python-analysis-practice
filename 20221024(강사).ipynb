{
 "cells": [
  {
   "cell_type": "markdown",
   "metadata": {
    "id": "TFcpg_J8Xyiy"
   },
   "source": [
    "# 보팅"
   ]
  },
  {
   "cell_type": "code",
   "execution_count": 1,
   "metadata": {
    "executionInfo": {
     "elapsed": 767,
     "status": "ok",
     "timestamp": 1666571096434,
     "user": {
      "displayName": "최진영",
      "userId": "04611147725648038476"
     },
     "user_tz": -540
    },
    "id": "kz6Q1uQVXwIP"
   },
   "outputs": [],
   "source": [
    "from sklearn.datasets import load_iris\n",
    "import pandas as pd\n",
    "from sklearn.preprocessing import StandardScaler\n",
    "from sklearn.model_selection import train_test_split\n",
    "\n",
    "iris_data = load_iris()\n",
    "X = pd.DataFrame(iris_data.data, columns = iris_data.feature_names)\n",
    "Y = pd.DataFrame(iris_data.target, columns = ['class'])"
   ]
  },
  {
   "cell_type": "code",
   "execution_count": 2,
   "metadata": {
    "executionInfo": {
     "elapsed": 327,
     "status": "ok",
     "timestamp": 1666571325123,
     "user": {
      "displayName": "최진영",
      "userId": "04611147725648038476"
     },
     "user_tz": -540
    },
    "id": "6RaI8weYY4eY"
   },
   "outputs": [],
   "source": [
    "X_train, X_test, Y_train, Y_test = train_test_split(X,Y, test_size = 0.3, random_state = 0)"
   ]
  },
  {
   "cell_type": "code",
   "execution_count": 3,
   "metadata": {
    "executionInfo": {
     "elapsed": 3,
     "status": "ok",
     "timestamp": 1666571389591,
     "user": {
      "displayName": "최진영",
      "userId": "04611147725648038476"
     },
     "user_tz": -540
    },
    "id": "lGgqn7W8ZF8F"
   },
   "outputs": [],
   "source": [
    "scaler = StandardScaler()\n",
    "scaler.fit(X_train)\n",
    "X_train_std = scaler.transform(X_train)\n",
    "X_test_std = scaler.transform(X_test)"
   ]
  },
  {
   "cell_type": "code",
   "execution_count": 16,
   "metadata": {
    "colab": {
     "base_uri": "https://localhost:8080/"
    },
    "executionInfo": {
     "elapsed": 3,
     "status": "ok",
     "timestamp": 1666572116054,
     "user": {
      "displayName": "최진영",
      "userId": "04611147725648038476"
     },
     "user_tz": -540
    },
    "id": "F2s4hS9TZ3Sh",
    "outputId": "4a08e452-9bad-4329-cd11-09255bc2a12a"
   },
   "outputs": [
    {
     "data": {
      "text/plain": [
       "VotingClassifier(estimators=[('lr',\n",
       "                              LogisticRegression(multi_class='multinomial',\n",
       "                                                 random_state=1)),\n",
       "                             ('svm', SVC(kernel='linear', random_state=1)),\n",
       "                             ('gnb', GaussianNB())],\n",
       "                 weights=[1, 1, 1])"
      ]
     },
     "execution_count": 16,
     "metadata": {},
     "output_type": "execute_result"
    }
   ],
   "source": [
    "from sklearn.linear_model import LogisticRegression\n",
    "from sklearn import svm\n",
    "from sklearn.naive_bayes import GaussianNB\n",
    "from sklearn.ensemble import VotingClassifier\n",
    "\n",
    "c1f1 = LogisticRegression(multi_class = 'multinomial', random_state=1)\n",
    "c1f2 = svm.SVC(kernel = 'linear', random_state=1)\n",
    "c1f3 = GaussianNB()\n",
    "clf_voting = VotingClassifier(\n",
    "    estimators = [\n",
    "        ('lr', c1f1),\n",
    "        ('svm', c1f2),\n",
    "        ('gnb', c1f3)\n",
    "    ],\n",
    "    voting = 'hard',\n",
    "    weights = [1,1,1]\n",
    ")\n",
    "clf_voting.fit(X_train_std, Y_train['class'].ravel())"
   ]
  },
  {
   "cell_type": "code",
   "execution_count": 23,
   "metadata": {
    "colab": {
     "base_uri": "https://localhost:8080/"
    },
    "executionInfo": {
     "elapsed": 558,
     "status": "ok",
     "timestamp": 1666572583084,
     "user": {
      "displayName": "최진영",
      "userId": "04611147725648038476"
     },
     "user_tz": -540
    },
    "id": "4ZB7aQS2cwuf",
    "outputId": "ec7bf7d2-e035-41bb-b455-cff2c1ff1217"
   },
   "outputs": [
    {
     "data": {
      "text/plain": [
       "0.9777777777777777"
      ]
     },
     "execution_count": 23,
     "metadata": {},
     "output_type": "execute_result"
    }
   ],
   "source": [
    "# test(테스트 실시)\n",
    "pred_voting = clf_voting.predict(X_test_std)\n",
    "\n",
    "# score(채점)\n",
    "train_accyracy = clf_voting.score(X_train_std, Y_train['class'].ravel()) \n",
    "test_accyracy = clf_voting.score(X_test_std, Y_test['class'].ravel()) "
   ]
  },
  {
   "cell_type": "code",
   "execution_count": 30,
   "metadata": {
    "colab": {
     "base_uri": "https://localhost:8080/"
    },
    "executionInfo": {
     "elapsed": 331,
     "status": "ok",
     "timestamp": 1666573874844,
     "user": {
      "displayName": "최진영",
      "userId": "04611147725648038476"
     },
     "user_tz": -540
    },
    "id": "PCNNAIpkeTdT",
    "outputId": "f6d88b83-7b99-4fae-fec7-002a64939221"
   },
   "outputs": [
    {
     "name": "stdout",
     "output_type": "stream",
     "text": [
      "[[16  0  0]\n",
      " [ 0 17  1]\n",
      " [ 0  0 11]]\n"
     ]
    }
   ],
   "source": [
    "from sklearn.metrics import confusion_matrix\n",
    "conf_matrix = confusion_matrix(Y_test['class'].ravel(), pred_voting)\n",
    "print(conf_matrix)"
   ]
  },
  {
   "cell_type": "markdown",
   "metadata": {
    "id": "r_FrMtsppUoB"
   },
   "source": [
    "# Bagging"
   ]
  },
  {
   "cell_type": "code",
   "execution_count": 31,
   "metadata": {
    "executionInfo": {
     "elapsed": 344,
     "status": "ok",
     "timestamp": 1666575648516,
     "user": {
      "displayName": "최진영",
      "userId": "04611147725648038476"
     },
     "user_tz": -540
    },
    "id": "pc0-4U9beZIE"
   },
   "outputs": [],
   "source": [
    "from sklearn.datasets import load_wine\n",
    "import pandas as pd\n",
    "from sklearn.preprocessing import StandardScaler\n",
    "from sklearn.model_selection import train_test_split\n",
    "\n",
    "wine_data = load_wine()\n",
    "X = pd.DataFrame(wine_data.data, columns = wine_data.feature_names)\n",
    "Y = pd.DataFrame(wine_data.target, columns = ['class'])"
   ]
  },
  {
   "cell_type": "code",
   "execution_count": 32,
   "metadata": {
    "executionInfo": {
     "elapsed": 2,
     "status": "ok",
     "timestamp": 1666575672631,
     "user": {
      "displayName": "최진영",
      "userId": "04611147725648038476"
     },
     "user_tz": -540
    },
    "id": "hQZeq8ANpps8"
   },
   "outputs": [],
   "source": [
    "X_train, X_test, Y_train, Y_test = train_test_split(X,Y, test_size = 0.3, random_state = 0)"
   ]
  },
  {
   "cell_type": "code",
   "execution_count": 33,
   "metadata": {
    "executionInfo": {
     "elapsed": 313,
     "status": "ok",
     "timestamp": 1666575752594,
     "user": {
      "displayName": "최진영",
      "userId": "04611147725648038476"
     },
     "user_tz": -540
    },
    "id": "wHfaXIXMptQp"
   },
   "outputs": [],
   "source": [
    "scaler = StandardScaler()\n",
    "scaler.fit(X_train)\n",
    "\n",
    "X_train_std = scaler.transform(X_train)\n",
    "X_test_std = scaler.transform(X_test)"
   ]
  },
  {
   "cell_type": "markdown",
   "metadata": {
    "id": "Na20izUFqauR"
   },
   "source": [
    "## 일반 모델과 배깅 모델 비교"
   ]
  },
  {
   "cell_type": "markdown",
   "metadata": {
    "id": "uB1GWRkTqc0B"
   },
   "source": [
    "### 일반모델"
   ]
  },
  {
   "cell_type": "code",
   "execution_count": 39,
   "metadata": {
    "colab": {
     "base_uri": "https://localhost:8080/"
    },
    "executionInfo": {
     "elapsed": 346,
     "status": "ok",
     "timestamp": 1666576143286,
     "user": {
      "displayName": "최진영",
      "userId": "04611147725648038476"
     },
     "user_tz": -540
    },
    "id": "Yz2fDhsJqZvW",
    "outputId": "7c26685f-c1ec-4105-a716-590e160f3ce6"
   },
   "outputs": [
    {
     "name": "stdout",
     "output_type": "stream",
     "text": [
      "배깅을 활용하지 않았을 때 정확도는 0.94 입니다.\n"
     ]
    }
   ],
   "source": [
    "from sklearn.naive_bayes import GaussianNB\n",
    "gaussian = GaussianNB()\n",
    "gaussian.fit(X_train_std, Y_train['class'].ravel())\n",
    "\n",
    "none_bagging_score = gaussian.score(X_test_std, Y_test['class'].ravel())\n",
    "print(f'배깅을 활용하지 않았을 때 정확도는 {round(none_bagging_score,2)} 입니다.')"
   ]
  },
  {
   "cell_type": "markdown",
   "metadata": {
    "id": "tCMWJbv_uGSP"
   },
   "source": [
    "### 배깅 모델"
   ]
  },
  {
   "cell_type": "code",
   "execution_count": 44,
   "metadata": {
    "colab": {
     "base_uri": "https://localhost:8080/"
    },
    "executionInfo": {
     "elapsed": 362,
     "status": "ok",
     "timestamp": 1666577253188,
     "user": {
      "displayName": "최진영",
      "userId": "04611147725648038476"
     },
     "user_tz": -540
    },
    "id": "_PJwOVr3uIGE",
    "outputId": "edfe99d9-42b4-4f16-b210-da57486c3b7d"
   },
   "outputs": [
    {
     "name": "stdout",
     "output_type": "stream",
     "text": [
      "배깅을 활용하지 했을 때 훈련 정확도는 0.98 입니다.\n",
      "배깅을 활용하지 했을 때 테스트 정확도는 0.98 입니다.\n"
     ]
    }
   ],
   "source": [
    "# 11시 8분까지\n",
    "from sklearn.ensemble import BaggingClassifier\n",
    "clf_bagging = BaggingClassifier(base_estimator = GaussianNB(),\n",
    "                                n_estimators = 10,\n",
    "                                random_state =0)\n",
    "clf_bagging.fit(X_train_std, Y_train['class'].ravel())\n",
    "\n",
    "bagging_train_score = clf_bagging.score(X_train_std, Y_train['class'].ravel())\n",
    "bagging_test_score = clf_bagging.score(X_test_std, Y_test['class'].ravel())\n",
    "print(f'배깅을 활용 했을 때 훈련 정확도는 {round(bagging_train_score,2)} 입니다.')\n",
    "print(f'배깅을 활용 했을 때 테스트 정확도는 {round(bagging_test_score,2)} 입니다.')"
   ]
  },
  {
   "cell_type": "code",
   "execution_count": 45,
   "metadata": {
    "executionInfo": {
     "elapsed": 333,
     "status": "ok",
     "timestamp": 1666577371883,
     "user": {
      "displayName": "최진영",
      "userId": "04611147725648038476"
     },
     "user_tz": -540
    },
    "id": "M7gLcou1wDK7"
   },
   "outputs": [],
   "source": [
    "pred_bagging = clf_bagging.predict(X_test_std)"
   ]
  },
  {
   "cell_type": "code",
   "execution_count": 46,
   "metadata": {
    "colab": {
     "base_uri": "https://localhost:8080/"
    },
    "executionInfo": {
     "elapsed": 336,
     "status": "ok",
     "timestamp": 1666577375521,
     "user": {
      "displayName": "최진영",
      "userId": "04611147725648038476"
     },
     "user_tz": -540
    },
    "id": "MzMerWeAv-VW",
    "outputId": "2ab09b38-a2ce-4a5a-fc82-87b84ebc40bf"
   },
   "outputs": [
    {
     "name": "stdout",
     "output_type": "stream",
     "text": [
      "[[19  0  0]\n",
      " [ 1 21  0]\n",
      " [ 0  0 13]]\n"
     ]
    }
   ],
   "source": [
    "from sklearn.metrics import confusion_matrix\n",
    "conf_matrix = confusion_matrix(Y_test['class'].ravel(), pred_bagging)\n",
    "print(conf_matrix)"
   ]
  },
  {
   "cell_type": "code",
   "execution_count": 47,
   "metadata": {
    "colab": {
     "base_uri": "https://localhost:8080/"
    },
    "executionInfo": {
     "elapsed": 324,
     "status": "ok",
     "timestamp": 1666577449365,
     "user": {
      "displayName": "최진영",
      "userId": "04611147725648038476"
     },
     "user_tz": -540
    },
    "id": "CbwRoyk5wRoI",
    "outputId": "e6911206-f3ef-4e48-ffe3-ec96f0137cdd"
   },
   "outputs": [
    {
     "name": "stdout",
     "output_type": "stream",
     "text": [
      "              precision    recall  f1-score   support\n",
      "\n",
      "           0       0.95      1.00      0.97        19\n",
      "           1       1.00      0.95      0.98        22\n",
      "           2       1.00      1.00      1.00        13\n",
      "\n",
      "    accuracy                           0.98        54\n",
      "   macro avg       0.98      0.98      0.98        54\n",
      "weighted avg       0.98      0.98      0.98        54\n",
      "\n"
     ]
    }
   ],
   "source": [
    "from sklearn.metrics import classification_report\n",
    "class_report = classification_report(Y_test['class'].ravel(), pred_bagging)\n",
    "print(class_report)"
   ]
  },
  {
   "cell_type": "markdown",
   "metadata": {
    "id": "2leZCv4VzWcs"
   },
   "source": [
    "# 랜덤포레스트"
   ]
  },
  {
   "cell_type": "code",
   "execution_count": 76,
   "metadata": {
    "executionInfo": {
     "elapsed": 839,
     "status": "ok",
     "timestamp": 1666579363741,
     "user": {
      "displayName": "최진영",
      "userId": "04611147725648038476"
     },
     "user_tz": -540
    },
    "id": "7QGazatLzY4m"
   },
   "outputs": [],
   "source": [
    "from sklearn.datasets import load_wine\n",
    "import pandas as pd\n",
    "from sklearn.preprocessing import StandardScaler\n",
    "from sklearn.model_selection import train_test_split\n",
    "\n",
    "wine_data = load_wine()\n",
    "X = pd.DataFrame(wine_data.data, columns = wine_data.feature_names)\n",
    "Y = pd.DataFrame(wine_data.target, columns = ['class'])\n",
    "\n",
    "X_train, X_test, Y_train, Y_test = train_test_split(X,Y, test_size = 0.3, random_state = 0)"
   ]
  },
  {
   "cell_type": "code",
   "execution_count": 77,
   "metadata": {
    "executionInfo": {
     "elapsed": 2,
     "status": "ok",
     "timestamp": 1666579364299,
     "user": {
      "displayName": "최진영",
      "userId": "04611147725648038476"
     },
     "user_tz": -540
    },
    "id": "hbcm-KdGznxy"
   },
   "outputs": [],
   "source": [
    "scaler = StandardScaler()\n",
    "scaler.fit(X_train)\n",
    "\n",
    "X_train_std = scaler.transform(X_train)\n",
    "X_test_std = scaler.transform(X_test)"
   ]
  },
  {
   "cell_type": "code",
   "execution_count": 78,
   "metadata": {
    "colab": {
     "base_uri": "https://localhost:8080/"
    },
    "executionInfo": {
     "elapsed": 439,
     "status": "ok",
     "timestamp": 1666579365285,
     "user": {
      "displayName": "최진영",
      "userId": "04611147725648038476"
     },
     "user_tz": -540
    },
    "id": "CJ0uy3wF0QTK",
    "outputId": "ac0b98d1-b413-4ce7-b06f-632d6960da64"
   },
   "outputs": [
    {
     "data": {
      "text/plain": [
       "RandomForestClassifier(max_depth=6, n_estimators=150)"
      ]
     },
     "execution_count": 78,
     "metadata": {},
     "output_type": "execute_result"
    }
   ],
   "source": [
    "from sklearn.ensemble import RandomForestClassifier\n",
    "\n",
    "clf_rf = RandomForestClassifier(max_depth = 6,\n",
    "                                n_estimators=150)\n",
    "clf_rf.fit(X_train_std, Y_train['class'].ravel())"
   ]
  },
  {
   "cell_type": "code",
   "execution_count": 79,
   "metadata": {
    "colab": {
     "base_uri": "https://localhost:8080/"
    },
    "executionInfo": {
     "elapsed": 418,
     "status": "ok",
     "timestamp": 1666579367610,
     "user": {
      "displayName": "최진영",
      "userId": "04611147725648038476"
     },
     "user_tz": -540
    },
    "id": "eR6tQVb802BY",
    "outputId": "7fcc447d-0828-4510-bcdc-4a3693e66637"
   },
   "outputs": [
    {
     "name": "stdout",
     "output_type": "stream",
     "text": [
      "랜덤포레스트 훈련 정확도는 1.0 입니다.\n",
      "랜덤포레스트 테스트 정확도는 0.98 입니다.\n"
     ]
    }
   ],
   "source": [
    "pred_rf = clf_rf.predict(X_test_std)\n",
    "\n",
    "rf_train_score = clf_rf.score(X_train_std, Y_train['class'].ravel())\n",
    "rf_test_score = clf_rf.score(X_test_std, Y_test['class'].ravel())\n",
    "print(f'랜덤포레스트 훈련 정확도는 {round(rf_train_score,2)} 입니다.')\n",
    "print(f'랜덤포레스트 테스트 정확도는 {round(rf_test_score,2)} 입니다.')"
   ]
  },
  {
   "cell_type": "code",
   "execution_count": 59,
   "metadata": {
    "colab": {
     "base_uri": "https://localhost:8080/"
    },
    "executionInfo": {
     "elapsed": 385,
     "status": "ok",
     "timestamp": 1666578950492,
     "user": {
      "displayName": "최진영",
      "userId": "04611147725648038476"
     },
     "user_tz": -540
    },
    "id": "eoCLpK9m1gJr",
    "outputId": "d686535b-5ec2-42d7-989a-041c981ad2ed"
   },
   "outputs": [
    {
     "name": "stdout",
     "output_type": "stream",
     "text": [
      "[[19  0  0]\n",
      " [ 1 20  1]\n",
      " [ 0  0 13]]\n"
     ]
    }
   ],
   "source": [
    "from sklearn.metrics import confusion_matrix\n",
    "conf_matrix = confusion_matrix(Y_test['class'].ravel(), pred_rf)\n",
    "print(conf_matrix)"
   ]
  },
  {
   "cell_type": "code",
   "execution_count": 60,
   "metadata": {
    "colab": {
     "base_uri": "https://localhost:8080/"
    },
    "executionInfo": {
     "elapsed": 392,
     "status": "ok",
     "timestamp": 1666579004851,
     "user": {
      "displayName": "최진영",
      "userId": "04611147725648038476"
     },
     "user_tz": -540
    },
    "id": "XcwNeLOX2NVx",
    "outputId": "bd1e70d9-0d2a-4ba7-d873-9ec98dfd4c11"
   },
   "outputs": [
    {
     "name": "stdout",
     "output_type": "stream",
     "text": [
      "              precision    recall  f1-score   support\n",
      "\n",
      "           0       0.95      1.00      0.97        19\n",
      "           1       1.00      0.91      0.95        22\n",
      "           2       0.93      1.00      0.96        13\n",
      "\n",
      "    accuracy                           0.96        54\n",
      "   macro avg       0.96      0.97      0.96        54\n",
      "weighted avg       0.97      0.96      0.96        54\n",
      "\n"
     ]
    }
   ],
   "source": [
    "from sklearn.metrics import classification_report\n",
    "class_report = classification_report(Y_test['class'].ravel(), pred_rf)\n",
    "print(class_report)"
   ]
  },
  {
   "cell_type": "markdown",
   "metadata": {
    "id": "boKq84RMKJq5"
   },
   "source": [
    "# 그레디언트 부스팅"
   ]
  },
  {
   "cell_type": "code",
   "execution_count": 80,
   "metadata": {
    "executionInfo": {
     "elapsed": 378,
     "status": "ok",
     "timestamp": 1666584238726,
     "user": {
      "displayName": "최진영",
      "userId": "04611147725648038476"
     },
     "user_tz": -540
    },
    "id": "t7oJdhQZKOJ3"
   },
   "outputs": [],
   "source": [
    "from sklearn.datasets import load_wine\n",
    "import pandas as pd\n",
    "from sklearn.preprocessing import StandardScaler\n",
    "from sklearn.model_selection import train_test_split\n",
    "\n",
    "wine_data = load_wine()\n",
    "X = pd.DataFrame(wine_data.data, columns = wine_data.feature_names)\n",
    "Y = pd.DataFrame(wine_data.target, columns = ['class'])\n",
    "\n",
    "X_train, X_test, Y_train, Y_test = train_test_split(X,Y, test_size = 0.3, random_state = 0)"
   ]
  },
  {
   "cell_type": "code",
   "execution_count": 81,
   "metadata": {
    "executionInfo": {
     "elapsed": 355,
     "status": "ok",
     "timestamp": 1666584240523,
     "user": {
      "displayName": "최진영",
      "userId": "04611147725648038476"
     },
     "user_tz": -540
    },
    "id": "2sbVISVIKTK3"
   },
   "outputs": [],
   "source": [
    "scaler = StandardScaler()\n",
    "scaler.fit(X_train)\n",
    "\n",
    "X_train_std = scaler.transform(X_train)\n",
    "X_test_std = scaler.transform(X_test)"
   ]
  },
  {
   "cell_type": "code",
   "execution_count": 93,
   "metadata": {
    "colab": {
     "base_uri": "https://localhost:8080/"
    },
    "executionInfo": {
     "elapsed": 683,
     "status": "ok",
     "timestamp": 1666584546565,
     "user": {
      "displayName": "최진영",
      "userId": "04611147725648038476"
     },
     "user_tz": -540
    },
    "id": "oQPGuxYpKkFp",
    "outputId": "e9d54edf-c5f3-4db2-ed9f-1cf5cec89f4a"
   },
   "outputs": [
    {
     "name": "stdout",
     "output_type": "stream",
     "text": [
      "그레디언트부스팅 훈련 정확도는 1.0 입니다.\n",
      "그레디언트부스팅 테스트 정확도는 0.98 입니다.\n"
     ]
    }
   ],
   "source": [
    "# 11\n",
    "from sklearn.ensemble import GradientBoostingClassifier\n",
    "\n",
    "# default  max_depth = 3, learning_rate = 0.1\n",
    "gbrt = GradientBoostingClassifier(max_depth = 2, learning_rate = 0.05)\n",
    "gbrt.fit(X_train_std, Y_train['class'].ravel())\n",
    "\n",
    "gbrt_train_score = gbrt.score(X_train_std, Y_train['class'].ravel())\n",
    "gbrt_test_score = gbrt.score(X_test_std, Y_test['class'].ravel())\n",
    "print(f'그레디언트부스팅 훈련 정확도는 {round(gbrt_train_score,2)} 입니다.')\n",
    "print(f'그레디언트부스팅 테스트 정확도는 {round(gbrt_test_score,2)} 입니다.')"
   ]
  },
  {
   "cell_type": "markdown",
   "metadata": {
    "id": "cFRDvmBtMjYm"
   },
   "source": [
    "# 실습"
   ]
  },
  {
   "cell_type": "code",
   "execution_count": 94,
   "metadata": {
    "executionInfo": {
     "elapsed": 432,
     "status": "ok",
     "timestamp": 1666584845863,
     "user": {
      "displayName": "최진영",
      "userId": "04611147725648038476"
     },
     "user_tz": -540
    },
    "id": "CC-9DWKPLGhy"
   },
   "outputs": [],
   "source": [
    "from sklearn.datasets import load_iris\n",
    "import pandas as pd\n",
    "\n",
    "iris_data = load_iris()\n",
    "X = pd.DataFrame(iris_data.data, columns = iris_data.feature_names)\n",
    "Y = pd.DataFrame(iris_data.target, columns = ['class'])"
   ]
  },
  {
   "cell_type": "code",
   "execution_count": null,
   "metadata": {
    "id": "G30bWZKzS-IL"
   },
   "outputs": [],
   "source": [
    "X_train, X_test, Y_train, Y_test = train_test_split(X,Y, test_size = 0.3, random_state = 0)\n",
    "scaler = StandardScaler()\n",
    "scaler.fit(X_train)\n",
    "\n",
    "X_train_std = scaler.transform(X_train)\n",
    "X_test_std = scaler.transform(X_test)"
   ]
  },
  {
   "cell_type": "markdown",
   "metadata": {
    "id": "EpKp0gGWMuDF"
   },
   "source": [
    "## 랜덤포레스트"
   ]
  },
  {
   "cell_type": "code",
   "execution_count": 95,
   "metadata": {
    "colab": {
     "base_uri": "https://localhost:8080/"
    },
    "executionInfo": {
     "elapsed": 310,
     "status": "ok",
     "timestamp": 1666586287015,
     "user": {
      "displayName": "최진영",
      "userId": "04611147725648038476"
     },
     "user_tz": -540
    },
    "id": "hc8V0HmQMtx4",
    "outputId": "a5f899f9-410b-4985-e289-3e0cf919f295"
   },
   "outputs": [
    {
     "name": "stdout",
     "output_type": "stream",
     "text": [
      "랜덤포레스트 훈련 정확도는 1.0 입니다.\n",
      "랜덤포레스트 테스트 정확도는 0.98 입니다.\n"
     ]
    }
   ],
   "source": [
    "clf_rf = RandomForestClassifier(max_depth = 4, n_estimators = 100)\n",
    "clf_rf.fit(X_train_std, Y_train['class'].ravel())\n",
    "pred_rf = clf_rf.predict(X_test_std)\n",
    "\n",
    "rf_train_score = clf_rf.score(X_train_std, Y_train['class'].ravel())\n",
    "rf_test_score = clf_rf.score(X_test_std, Y_test['class'].ravel())\n",
    "print(f'랜덤포레스트 훈련 정확도는 {round(rf_train_score,2)} 입니다.')\n",
    "print(f'랜덤포레스트 테스트 정확도는 {round(rf_test_score,2)} 입니다.')"
   ]
  },
  {
   "cell_type": "code",
   "execution_count": 96,
   "metadata": {
    "colab": {
     "base_uri": "https://localhost:8080/"
    },
    "executionInfo": {
     "elapsed": 432,
     "status": "ok",
     "timestamp": 1666586383637,
     "user": {
      "displayName": "최진영",
      "userId": "04611147725648038476"
     },
     "user_tz": -540
    },
    "id": "IIVUTZvOSYwM",
    "outputId": "c7a5e56b-d438-460c-f6ec-df2c1fa2079c"
   },
   "outputs": [
    {
     "name": "stdout",
     "output_type": "stream",
     "text": [
      "[[19  0  0]\n",
      " [ 1 20  1]\n",
      " [ 0  0 13]]\n",
      "              precision    recall  f1-score   support\n",
      "\n",
      "           0       1.00      1.00      1.00        16\n",
      "           1       1.00      0.94      0.97        18\n",
      "           2       0.92      1.00      0.96        11\n",
      "\n",
      "    accuracy                           0.98        45\n",
      "   macro avg       0.97      0.98      0.98        45\n",
      "weighted avg       0.98      0.98      0.98        45\n",
      "\n"
     ]
    }
   ],
   "source": [
    "pred_rf = clf_rf.predict(X_test_std)\n",
    "\n",
    "from sklearn.metrics import confusion_matrix\n",
    "from sklearn.metrics import classification_report\n",
    "\n",
    "rf_conf = confusion_matrix(Y_test['class'].ravel(), pred_rf)\n",
    "print(conf_matrix)\n",
    "\n",
    "rf_report = classification_report(Y_test['class'].ravel(), pred_rf)\n",
    "print(rf_report)"
   ]
  },
  {
   "cell_type": "markdown",
   "metadata": {
    "id": "dnN7DW1TMwNG"
   },
   "source": [
    "## 그레디언트 부스팅"
   ]
  },
  {
   "cell_type": "code",
   "execution_count": 102,
   "metadata": {
    "colab": {
     "base_uri": "https://localhost:8080/"
    },
    "executionInfo": {
     "elapsed": 445,
     "status": "ok",
     "timestamp": 1666586649844,
     "user": {
      "displayName": "최진영",
      "userId": "04611147725648038476"
     },
     "user_tz": -540
    },
    "id": "sFlaaWkJMyqc",
    "outputId": "d49b023c-bdb7-4caf-d4af-8f5d5b4d5111"
   },
   "outputs": [
    {
     "name": "stdout",
     "output_type": "stream",
     "text": [
      "그레디언트부스팅 훈련 정확도는 1.0 입니다.\n",
      "그레디언트부스팅 테스트 정확도는 0.98 입니다.\n"
     ]
    }
   ],
   "source": [
    "from sklearn.ensemble import GradientBoostingClassifier\n",
    "gb = GradientBoostingClassifier(max_depth=4, learning_rate=0.1)\n",
    "gb.fit(X_train_std,Y_train['class'].ravel())\n",
    "\n",
    "\n",
    "gbrt_train_score = gb.score(X_train_std, Y_train['class'].ravel())\n",
    "gbrt_test_score = gb.score(X_test_std, Y_test['class'].ravel())\n",
    "print(f'그레디언트부스팅 훈련 정확도는 {round(gbrt_train_score,2)} 입니다.')\n",
    "print(f'그레디언트부스팅 테스트 정확도는 {round(gbrt_test_score,2)} 입니다.')"
   ]
  },
  {
   "cell_type": "code",
   "execution_count": 105,
   "metadata": {
    "colab": {
     "base_uri": "https://localhost:8080/"
    },
    "executionInfo": {
     "elapsed": 440,
     "status": "ok",
     "timestamp": 1666586728267,
     "user": {
      "displayName": "최진영",
      "userId": "04611147725648038476"
     },
     "user_tz": -540
    },
    "id": "xUDRkTCTTRoY",
    "outputId": "393be31d-75e1-4c39-f371-eece257df4ae"
   },
   "outputs": [
    {
     "name": "stdout",
     "output_type": "stream",
     "text": [
      "[[16  0  0]\n",
      " [ 0 17  1]\n",
      " [ 0  0 11]]\n",
      "              precision    recall  f1-score   support\n",
      "\n",
      "           0       1.00      1.00      1.00        16\n",
      "           1       1.00      0.94      0.97        18\n",
      "           2       0.92      1.00      0.96        11\n",
      "\n",
      "    accuracy                           0.98        45\n",
      "   macro avg       0.97      0.98      0.98        45\n",
      "weighted avg       0.98      0.98      0.98        45\n",
      "\n"
     ]
    }
   ],
   "source": [
    "pred_gb = gb.predict(X_test_std)\n",
    "\n",
    "gb_conf = confusion_matrix(Y_test['class'].ravel(), pred_gb)\n",
    "print(gb_conf)\n",
    "\n",
    "gb_report = classification_report(Y_test['class'].ravel(), pred_gb)\n",
    "print(gb_report)"
   ]
  },
  {
   "cell_type": "code",
   "execution_count": 111,
   "metadata": {
    "colab": {
     "base_uri": "https://localhost:8080/"
    },
    "executionInfo": {
     "elapsed": 350,
     "status": "ok",
     "timestamp": 1666586863613,
     "user": {
      "displayName": "최진영",
      "userId": "04611147725648038476"
     },
     "user_tz": -540
    },
    "id": "tvL2kl_VUJIG",
    "outputId": "52c46127-0bc7-4e80-fd63-9aa395fa840f"
   },
   "outputs": [
    {
     "name": "stdout",
     "output_type": "stream",
     "text": [
      "[2 1 0 2 0 2 0 1 1 1 2 1 1 1 1 0 1 1 0 0 2 1 0 0 2 0 0 1 1 0 2 1 0 2 2 1 0\n",
      " 1 1 1 2 0 2 0 0]\n",
      "[2 1 0 2 0 2 0 1 1 1 2 1 1 1 1 0 1 1 0 0 2 1 0 0 2 0 0 1 1 0 2 1 0 2 2 1 0\n",
      " 2 1 1 2 0 2 0 0]\n",
      "[2 1 0 2 0 2 0 1 1 1 2 1 1 1 1 0 1 1 0 0 2 1 0 0 2 0 0 1 1 0 2 1 0 2 2 1 0\n",
      " 2 1 1 2 0 2 0 0]\n"
     ]
    }
   ],
   "source": [
    "print(Y_test['class'].ravel())\n",
    "print(pred_gb)\n",
    "print(pred_rf)"
   ]
  },
  {
   "cell_type": "markdown",
   "metadata": {
    "id": "oRS5iWb5Z5gy"
   },
   "source": [
    "# 스포츠센터 데이터분석"
   ]
  },
  {
   "cell_type": "code",
   "execution_count": 2,
   "metadata": {
    "executionInfo": {
     "elapsed": 928,
     "status": "ok",
     "timestamp": 1666594032824,
     "user": {
      "displayName": "최진영",
      "userId": "04611147725648038476"
     },
     "user_tz": -540
    },
    "id": "cpgT23b9Z7z6"
   },
   "outputs": [],
   "source": [
    "import pandas as pd\n",
    "customer_master = pd.read_csv('data/스포츠센터데이터/customer_master.csv') # 유저 정보\n",
    "uselog = pd.read_csv('data/스포츠센터데이터/use_log.csv') # 이용 기록\n",
    "class_master = pd.read_csv('data/스포츠센터데이터/class_master.csv') # 클래스\n",
    "campaign_master = pd.read_csv('data/스포츠센터데이터/campaign_master.csv') # 캠페인 이름"
   ]
  },
  {
   "cell_type": "code",
   "execution_count": 3,
   "metadata": {
    "executionInfo": {
     "elapsed": 3,
     "status": "ok",
     "timestamp": 1666594034411,
     "user": {
      "displayName": "최진영",
      "userId": "04611147725648038476"
     },
     "user_tz": -540
    },
    "id": "OS1HWEYwgxcv"
   },
   "outputs": [],
   "source": [
    "join_campaign = customer_master.merge(campaign_master, on = 'campaign_id') # 데이터 결합\n",
    "join_class = join_campaign.merge(class_master, on = 'class') # 데이터 결합\n",
    "customer_join = join_class.drop(['class', 'campaign_id', 'name'], axis = 1) # 필요없는 칼럼 삭제"
   ]
  },
  {
   "cell_type": "code",
   "execution_count": 4,
   "metadata": {
    "colab": {
     "base_uri": "https://localhost:8080/",
     "height": 142
    },
    "executionInfo": {
     "elapsed": 507,
     "status": "ok",
     "timestamp": 1666590724589,
     "user": {
      "displayName": "최진영",
      "userId": "04611147725648038476"
     },
     "user_tz": -540
    },
    "id": "bIsOcFERjDQo",
    "outputId": "912b11c9-4014-4913-875b-903af2a085d1"
   },
   "outputs": [
    {
     "data": {
      "text/html": [
       "<div>\n",
       "<style scoped>\n",
       "    .dataframe tbody tr th:only-of-type {\n",
       "        vertical-align: middle;\n",
       "    }\n",
       "\n",
       "    .dataframe tbody tr th {\n",
       "        vertical-align: top;\n",
       "    }\n",
       "\n",
       "    .dataframe thead th {\n",
       "        text-align: right;\n",
       "    }\n",
       "</style>\n",
       "<table border=\"1\" class=\"dataframe\">\n",
       "  <thead>\n",
       "    <tr style=\"text-align: right;\">\n",
       "      <th></th>\n",
       "      <th>customer_id</th>\n",
       "      <th>gender</th>\n",
       "      <th>start_date</th>\n",
       "      <th>end_date</th>\n",
       "      <th>is_deleted</th>\n",
       "      <th>campaign_name</th>\n",
       "      <th>class_name</th>\n",
       "      <th>price</th>\n",
       "    </tr>\n",
       "  </thead>\n",
       "  <tbody>\n",
       "    <tr>\n",
       "      <th>0</th>\n",
       "      <td>OA832399</td>\n",
       "      <td>F</td>\n",
       "      <td>2015-05-01 00:00:00</td>\n",
       "      <td>NaN</td>\n",
       "      <td>0</td>\n",
       "      <td>2_일반</td>\n",
       "      <td>0_종일</td>\n",
       "      <td>10500</td>\n",
       "    </tr>\n",
       "  </tbody>\n",
       "</table>\n",
       "</div>"
      ],
      "text/plain": [
       "  customer_id gender           start_date end_date  is_deleted campaign_name  \\\n",
       "0    OA832399      F  2015-05-01 00:00:00      NaN           0          2_일반   \n",
       "\n",
       "  class_name  price  \n",
       "0       0_종일  10500  "
      ]
     },
     "execution_count": 4,
     "metadata": {},
     "output_type": "execute_result"
    }
   ],
   "source": [
    "customer_join.head(1)"
   ]
  },
  {
   "cell_type": "code",
   "execution_count": 5,
   "metadata": {
    "colab": {
     "base_uri": "https://localhost:8080/",
     "height": 81
    },
    "executionInfo": {
     "elapsed": 344,
     "status": "ok",
     "timestamp": 1666590650912,
     "user": {
      "displayName": "최진영",
      "userId": "04611147725648038476"
     },
     "user_tz": -540
    },
    "id": "d6t4jp13id2i",
    "outputId": "4b71d21e-c7c2-4aae-b848-4033f05b4e7c"
   },
   "outputs": [
    {
     "data": {
      "text/html": [
       "<div>\n",
       "<style scoped>\n",
       "    .dataframe tbody tr th:only-of-type {\n",
       "        vertical-align: middle;\n",
       "    }\n",
       "\n",
       "    .dataframe tbody tr th {\n",
       "        vertical-align: top;\n",
       "    }\n",
       "\n",
       "    .dataframe thead th {\n",
       "        text-align: right;\n",
       "    }\n",
       "</style>\n",
       "<table border=\"1\" class=\"dataframe\">\n",
       "  <thead>\n",
       "    <tr style=\"text-align: right;\">\n",
       "      <th></th>\n",
       "      <th>log_id</th>\n",
       "      <th>customer_id</th>\n",
       "      <th>usedate</th>\n",
       "    </tr>\n",
       "  </thead>\n",
       "  <tbody>\n",
       "    <tr>\n",
       "      <th>0</th>\n",
       "      <td>L00000049012330</td>\n",
       "      <td>AS009373</td>\n",
       "      <td>2018-04-01</td>\n",
       "    </tr>\n",
       "  </tbody>\n",
       "</table>\n",
       "</div>"
      ],
      "text/plain": [
       "            log_id customer_id     usedate\n",
       "0  L00000049012330    AS009373  2018-04-01"
      ]
     },
     "execution_count": 5,
     "metadata": {},
     "output_type": "execute_result"
    }
   ],
   "source": [
    "uselog.head(1)"
   ]
  },
  {
   "cell_type": "code",
   "execution_count": 6,
   "metadata": {
    "colab": {
     "base_uri": "https://localhost:8080/"
    },
    "executionInfo": {
     "elapsed": 658,
     "status": "ok",
     "timestamp": 1666591968594,
     "user": {
      "displayName": "최진영",
      "userId": "04611147725648038476"
     },
     "user_tz": -540
    },
    "id": "iwvLTzXInzHs",
    "outputId": "75ff3327-d6ab-4f33-9a0a-a9fb466a2f83"
   },
   "outputs": [
    {
     "data": {
      "text/plain": [
       "customer_id         0\n",
       "gender              0\n",
       "start_date          0\n",
       "end_date         2842\n",
       "is_deleted          0\n",
       "campaign_name       0\n",
       "class_name          0\n",
       "price               0\n",
       "dtype: int64"
      ]
     },
     "execution_count": 6,
     "metadata": {},
     "output_type": "execute_result"
    }
   ],
   "source": [
    "customer_join.isnull().sum() # 결측치확인"
   ]
  },
  {
   "cell_type": "code",
   "execution_count": 7,
   "metadata": {
    "executionInfo": {
     "elapsed": 337,
     "status": "ok",
     "timestamp": 1666594038542,
     "user": {
      "displayName": "최진영",
      "userId": "04611147725648038476"
     },
     "user_tz": -540
    },
    "id": "lWilzYGGqnBF"
   },
   "outputs": [],
   "source": [
    "# 결측치 채우고 형변환\n",
    "customer_join['calc_date'] = customer_join['end_date']\n",
    "customer_join['calc_date'] = customer_join['calc_date'].fillna(pd.to_datetime(\"20190430\")) # 3월 까지 데이터라서 None을 4월 30일로 채운다\n",
    "customer_join['start_date'] = pd.to_datetime(customer_join['start_date'])\n",
    "customer_join['calc_date'] = pd.to_datetime(customer_join['calc_date'])"
   ]
  },
  {
   "cell_type": "code",
   "execution_count": 8,
   "metadata": {
    "executionInfo": {
     "elapsed": 1109,
     "status": "ok",
     "timestamp": 1666594832073,
     "user": {
      "displayName": "최진영",
      "userId": "04611147725648038476"
     },
     "user_tz": -540
    },
    "id": "vCbaK3I5cfdd"
   },
   "outputs": [
    {
     "name": "stderr",
     "output_type": "stream",
     "text": [
      "C:\\Users\\Joo\\AppData\\Local\\Temp\\ipykernel_13448\\2831644851.py:7: SettingWithCopyWarning: \n",
      "A value is trying to be set on a copy of a slice from a DataFrame\n",
      "\n",
      "See the caveats in the documentation: https://pandas.pydata.org/pandas-docs/stable/user_guide/indexing.html#returning-a-view-versus-a-copy\n",
      "  customer_join['membership_period'].iloc[row_num] = month_diff\n"
     ]
    }
   ],
   "source": [
    "# customer_join['membership_period']  = ((customer_join['calc_date'] - customer_join['start_date'])/30).dt.days\n",
    "customer_join['membership_period'] = None\n",
    "from dateutil.relativedelta import relativedelta\n",
    "for row_num in range(len(customer_join)):\n",
    "  delta = relativedelta(customer_join['calc_date'].iloc[row_num], customer_join['start_date'].iloc[row_num])\n",
    "  month_diff = delta.years * 12 + delta.months\n",
    "  customer_join['membership_period'].iloc[row_num] = month_diff"
   ]
  },
  {
   "cell_type": "code",
   "execution_count": 9,
   "metadata": {
    "id": "X7D9UQfjy1il"
   },
   "outputs": [],
   "source": [
    "# membership_period_list = []\n",
    "# from dateutil.relativedelta import relativedelta\n",
    "# for row_num in range(len(customer_join)):\n",
    "#   delta = relativedelta(customer_join['calc_date'].iloc[row_num], customer_join['start_date'].iloc[row_num])\n",
    "#   month_diff = delta.years * 12 + delta.months\n",
    "#   membership_period_list.append(month_diff)\n",
    "# customer_join['membership_period'] = membership_period_list"
   ]
  },
  {
   "cell_type": "code",
   "execution_count": 10,
   "metadata": {
    "executionInfo": {
     "elapsed": 980,
     "status": "ok",
     "timestamp": 1666594994955,
     "user": {
      "displayName": "최진영",
      "userId": "04611147725648038476"
     },
     "user_tz": -540
    },
    "id": "sLtYvCl8y79K"
   },
   "outputs": [],
   "source": [
    "# customer_join.apply(lambda x: relativedelta(x['calc_date'], x['start_date']))"
   ]
  },
  {
   "cell_type": "code",
   "execution_count": 11,
   "metadata": {
    "executionInfo": {
     "elapsed": 756,
     "status": "ok",
     "timestamp": 1666595859428,
     "user": {
      "displayName": "최진영",
      "userId": "04611147725648038476"
     },
     "user_tz": -540
    },
    "id": "ttR5TJ8cziXe"
   },
   "outputs": [],
   "source": [
    "# delta = customer_join.apply(lambda x: relativedelta(x.calc_date, x.start_date), axis=1)\n",
    "# customer_join['membership_period']  = delta.apply(lambda x: x.years * 12 + x.months)"
   ]
  },
  {
   "cell_type": "code",
   "execution_count": 12,
   "metadata": {
    "colab": {
     "base_uri": "https://localhost:8080/",
     "height": 206
    },
    "executionInfo": {
     "elapsed": 2243,
     "status": "ok",
     "timestamp": 1666596391799,
     "user": {
      "displayName": "최진영",
      "userId": "04611147725648038476"
     },
     "user_tz": -540
    },
    "id": "u4tKT4AY3lBh",
    "outputId": "b2245b88-c8d4-4069-c464-7171e207085d"
   },
   "outputs": [
    {
     "data": {
      "text/html": [
       "<div>\n",
       "<style scoped>\n",
       "    .dataframe tbody tr th:only-of-type {\n",
       "        vertical-align: middle;\n",
       "    }\n",
       "\n",
       "    .dataframe tbody tr th {\n",
       "        vertical-align: top;\n",
       "    }\n",
       "\n",
       "    .dataframe thead th {\n",
       "        text-align: right;\n",
       "    }\n",
       "</style>\n",
       "<table border=\"1\" class=\"dataframe\">\n",
       "  <thead>\n",
       "    <tr style=\"text-align: right;\">\n",
       "      <th></th>\n",
       "      <th>customer_id</th>\n",
       "      <th>연월</th>\n",
       "      <th>count</th>\n",
       "    </tr>\n",
       "  </thead>\n",
       "  <tbody>\n",
       "    <tr>\n",
       "      <th>0</th>\n",
       "      <td>AS002855</td>\n",
       "      <td>201804</td>\n",
       "      <td>4</td>\n",
       "    </tr>\n",
       "    <tr>\n",
       "      <th>1</th>\n",
       "      <td>AS002855</td>\n",
       "      <td>201805</td>\n",
       "      <td>5</td>\n",
       "    </tr>\n",
       "    <tr>\n",
       "      <th>2</th>\n",
       "      <td>AS002855</td>\n",
       "      <td>201806</td>\n",
       "      <td>5</td>\n",
       "    </tr>\n",
       "    <tr>\n",
       "      <th>3</th>\n",
       "      <td>AS002855</td>\n",
       "      <td>201807</td>\n",
       "      <td>5</td>\n",
       "    </tr>\n",
       "    <tr>\n",
       "      <th>4</th>\n",
       "      <td>AS002855</td>\n",
       "      <td>201808</td>\n",
       "      <td>3</td>\n",
       "    </tr>\n",
       "  </tbody>\n",
       "</table>\n",
       "</div>"
      ],
      "text/plain": [
       "  customer_id      연월  count\n",
       "0    AS002855  201804      4\n",
       "1    AS002855  201805      5\n",
       "2    AS002855  201806      5\n",
       "3    AS002855  201807      5\n",
       "4    AS002855  201808      3"
      ]
     },
     "execution_count": 12,
     "metadata": {},
     "output_type": "execute_result"
    }
   ],
   "source": [
    "uselog['usedate'] = pd.to_datetime(uselog['usedate'])\n",
    "uselog['연월'] = uselog['usedate'].dt.strftime('%Y%m')\n",
    "userlog_months = uselog.groupby(['customer_id', '연월'], as_index = False).agg(count = ('log_id', 'count'))\n",
    "userlog_months.head()"
   ]
  },
  {
   "cell_type": "code",
   "execution_count": 13,
   "metadata": {
    "executionInfo": {
     "elapsed": 3814,
     "status": "ok",
     "timestamp": 1666598277099,
     "user": {
      "displayName": "최진영",
      "userId": "04611147725648038476"
     },
     "user_tz": -540
    },
    "id": "JKrVUzFY5UHY"
   },
   "outputs": [],
   "source": [
    "uselog_customer = userlog_months.groupby(\n",
    "    'customer_id', as_index = False).agg(\n",
    "    ['mean', 'median', 'max', 'min'])['count']\n",
    "uselog_customer = uselog_customer.reset_index()"
   ]
  },
  {
   "cell_type": "code",
   "execution_count": 14,
   "metadata": {
    "colab": {
     "base_uri": "https://localhost:8080/",
     "height": 206
    },
    "executionInfo": {
     "elapsed": 477,
     "status": "ok",
     "timestamp": 1666599677061,
     "user": {
      "displayName": "최진영",
      "userId": "04611147725648038476"
     },
     "user_tz": -540
    },
    "id": "VE9FA4j2_6Xk",
    "outputId": "38e8139c-8cc6-4b7b-91ea-621b19c263b5"
   },
   "outputs": [
    {
     "data": {
      "text/html": [
       "<div>\n",
       "<style scoped>\n",
       "    .dataframe tbody tr th:only-of-type {\n",
       "        vertical-align: middle;\n",
       "    }\n",
       "\n",
       "    .dataframe tbody tr th {\n",
       "        vertical-align: top;\n",
       "    }\n",
       "\n",
       "    .dataframe thead th {\n",
       "        text-align: right;\n",
       "    }\n",
       "</style>\n",
       "<table border=\"1\" class=\"dataframe\">\n",
       "  <thead>\n",
       "    <tr style=\"text-align: right;\">\n",
       "      <th></th>\n",
       "      <th>customer_id</th>\n",
       "      <th>연월</th>\n",
       "      <th>weekday</th>\n",
       "      <th>count</th>\n",
       "    </tr>\n",
       "  </thead>\n",
       "  <tbody>\n",
       "    <tr>\n",
       "      <th>0</th>\n",
       "      <td>AS002855</td>\n",
       "      <td>201804</td>\n",
       "      <td>Saturday</td>\n",
       "      <td>4</td>\n",
       "    </tr>\n",
       "    <tr>\n",
       "      <th>1</th>\n",
       "      <td>AS002855</td>\n",
       "      <td>201805</td>\n",
       "      <td>Saturday</td>\n",
       "      <td>4</td>\n",
       "    </tr>\n",
       "    <tr>\n",
       "      <th>2</th>\n",
       "      <td>AS002855</td>\n",
       "      <td>201805</td>\n",
       "      <td>Wednesday</td>\n",
       "      <td>1</td>\n",
       "    </tr>\n",
       "    <tr>\n",
       "      <th>3</th>\n",
       "      <td>AS002855</td>\n",
       "      <td>201806</td>\n",
       "      <td>Saturday</td>\n",
       "      <td>5</td>\n",
       "    </tr>\n",
       "    <tr>\n",
       "      <th>4</th>\n",
       "      <td>AS002855</td>\n",
       "      <td>201807</td>\n",
       "      <td>Saturday</td>\n",
       "      <td>4</td>\n",
       "    </tr>\n",
       "  </tbody>\n",
       "</table>\n",
       "</div>"
      ],
      "text/plain": [
       "  customer_id      연월    weekday  count\n",
       "0    AS002855  201804   Saturday      4\n",
       "1    AS002855  201805   Saturday      4\n",
       "2    AS002855  201805  Wednesday      1\n",
       "3    AS002855  201806   Saturday      5\n",
       "4    AS002855  201807   Saturday      4"
      ]
     },
     "execution_count": 14,
     "metadata": {},
     "output_type": "execute_result"
    }
   ],
   "source": [
    "uselog['weekday'] = uselog['usedate'].dt.day_name()\n",
    "uselog_weekday = uselog.groupby(['customer_id','연월', 'weekday'], as_index = False).agg(count = ('log_id', 'count'))\n",
    "uselog_weekday.head()"
   ]
  },
  {
   "cell_type": "code",
   "execution_count": 15,
   "metadata": {
    "executionInfo": {
     "elapsed": 348,
     "status": "ok",
     "timestamp": 1666599995198,
     "user": {
      "displayName": "최진영",
      "userId": "04611147725648038476"
     },
     "user_tz": -540
    },
    "id": "8Oa2EJRzFiDY"
   },
   "outputs": [],
   "source": [
    "uselog_weekday = uselog_weekday.groupby('customer_id', as_index = False).agg(count = ('count', 'max'))"
   ]
  },
  {
   "cell_type": "code",
   "execution_count": 16,
   "metadata": {
    "executionInfo": {
     "elapsed": 398,
     "status": "ok",
     "timestamp": 1666600173231,
     "user": {
      "displayName": "최진영",
      "userId": "04611147725648038476"
     },
     "user_tz": -540
    },
    "id": "slt2_A49GdAy"
   },
   "outputs": [],
   "source": [
    "uselog_weekday['routine_flg'] = 0\n",
    "uselog_weekday['routine_flg'] = uselog_weekday['routine_flg'].where(uselog_weekday['count']<4, 1) # 조건에 해당되지 않는 경우에 1로 수정"
   ]
  },
  {
   "cell_type": "code",
   "execution_count": 17,
   "metadata": {
    "colab": {
     "base_uri": "https://localhost:8080/",
     "height": 270
    },
    "executionInfo": {
     "elapsed": 682,
     "status": "ok",
     "timestamp": 1666600457725,
     "user": {
      "displayName": "최진영",
      "userId": "04611147725648038476"
     },
     "user_tz": -540
    },
    "id": "bTFxGLQPHrbT",
    "outputId": "c84ff521-d55b-48d4-8c75-69abd7ea8d73"
   },
   "outputs": [
    {
     "data": {
      "text/html": [
       "<div>\n",
       "<style scoped>\n",
       "    .dataframe tbody tr th:only-of-type {\n",
       "        vertical-align: middle;\n",
       "    }\n",
       "\n",
       "    .dataframe tbody tr th {\n",
       "        vertical-align: top;\n",
       "    }\n",
       "\n",
       "    .dataframe thead th {\n",
       "        text-align: right;\n",
       "    }\n",
       "</style>\n",
       "<table border=\"1\" class=\"dataframe\">\n",
       "  <thead>\n",
       "    <tr style=\"text-align: right;\">\n",
       "      <th></th>\n",
       "      <th>customer_id</th>\n",
       "      <th>gender</th>\n",
       "      <th>start_date</th>\n",
       "      <th>end_date</th>\n",
       "      <th>is_deleted</th>\n",
       "      <th>campaign_name</th>\n",
       "      <th>class_name</th>\n",
       "      <th>price</th>\n",
       "      <th>calc_date</th>\n",
       "      <th>membership_period</th>\n",
       "      <th>mean</th>\n",
       "      <th>median</th>\n",
       "      <th>max</th>\n",
       "      <th>min</th>\n",
       "      <th>routine_flg</th>\n",
       "    </tr>\n",
       "  </thead>\n",
       "  <tbody>\n",
       "    <tr>\n",
       "      <th>0</th>\n",
       "      <td>OA832399</td>\n",
       "      <td>F</td>\n",
       "      <td>2015-05-01</td>\n",
       "      <td>NaN</td>\n",
       "      <td>0</td>\n",
       "      <td>2_일반</td>\n",
       "      <td>0_종일</td>\n",
       "      <td>10500</td>\n",
       "      <td>2019-04-30</td>\n",
       "      <td>47</td>\n",
       "      <td>4.833333</td>\n",
       "      <td>5.0</td>\n",
       "      <td>8</td>\n",
       "      <td>2</td>\n",
       "      <td>1</td>\n",
       "    </tr>\n",
       "    <tr>\n",
       "      <th>1</th>\n",
       "      <td>PL270116</td>\n",
       "      <td>M</td>\n",
       "      <td>2015-05-01</td>\n",
       "      <td>NaN</td>\n",
       "      <td>0</td>\n",
       "      <td>2_일반</td>\n",
       "      <td>0_종일</td>\n",
       "      <td>10500</td>\n",
       "      <td>2019-04-30</td>\n",
       "      <td>47</td>\n",
       "      <td>5.083333</td>\n",
       "      <td>5.0</td>\n",
       "      <td>7</td>\n",
       "      <td>3</td>\n",
       "      <td>1</td>\n",
       "    </tr>\n",
       "    <tr>\n",
       "      <th>2</th>\n",
       "      <td>OA974876</td>\n",
       "      <td>M</td>\n",
       "      <td>2015-05-01</td>\n",
       "      <td>NaN</td>\n",
       "      <td>0</td>\n",
       "      <td>2_일반</td>\n",
       "      <td>0_종일</td>\n",
       "      <td>10500</td>\n",
       "      <td>2019-04-30</td>\n",
       "      <td>47</td>\n",
       "      <td>4.583333</td>\n",
       "      <td>5.0</td>\n",
       "      <td>6</td>\n",
       "      <td>3</td>\n",
       "      <td>1</td>\n",
       "    </tr>\n",
       "    <tr>\n",
       "      <th>3</th>\n",
       "      <td>HD024127</td>\n",
       "      <td>F</td>\n",
       "      <td>2015-05-01</td>\n",
       "      <td>NaN</td>\n",
       "      <td>0</td>\n",
       "      <td>2_일반</td>\n",
       "      <td>0_종일</td>\n",
       "      <td>10500</td>\n",
       "      <td>2019-04-30</td>\n",
       "      <td>47</td>\n",
       "      <td>4.833333</td>\n",
       "      <td>4.5</td>\n",
       "      <td>7</td>\n",
       "      <td>2</td>\n",
       "      <td>1</td>\n",
       "    </tr>\n",
       "    <tr>\n",
       "      <th>4</th>\n",
       "      <td>IK271057</td>\n",
       "      <td>M</td>\n",
       "      <td>2015-05-01</td>\n",
       "      <td>NaN</td>\n",
       "      <td>0</td>\n",
       "      <td>2_일반</td>\n",
       "      <td>0_종일</td>\n",
       "      <td>10500</td>\n",
       "      <td>2019-04-30</td>\n",
       "      <td>47</td>\n",
       "      <td>3.750000</td>\n",
       "      <td>3.5</td>\n",
       "      <td>5</td>\n",
       "      <td>2</td>\n",
       "      <td>1</td>\n",
       "    </tr>\n",
       "  </tbody>\n",
       "</table>\n",
       "</div>"
      ],
      "text/plain": [
       "  customer_id gender start_date end_date  is_deleted campaign_name class_name  \\\n",
       "0    OA832399      F 2015-05-01      NaN           0          2_일반       0_종일   \n",
       "1    PL270116      M 2015-05-01      NaN           0          2_일반       0_종일   \n",
       "2    OA974876      M 2015-05-01      NaN           0          2_일반       0_종일   \n",
       "3    HD024127      F 2015-05-01      NaN           0          2_일반       0_종일   \n",
       "4    IK271057      M 2015-05-01      NaN           0          2_일반       0_종일   \n",
       "\n",
       "   price  calc_date membership_period      mean  median  max  min  routine_flg  \n",
       "0  10500 2019-04-30                47  4.833333     5.0    8    2            1  \n",
       "1  10500 2019-04-30                47  5.083333     5.0    7    3            1  \n",
       "2  10500 2019-04-30                47  4.583333     5.0    6    3            1  \n",
       "3  10500 2019-04-30                47  4.833333     4.5    7    2            1  \n",
       "4  10500 2019-04-30                47  3.750000     3.5    5    2            1  "
      ]
     },
     "execution_count": 17,
     "metadata": {},
     "output_type": "execute_result"
    }
   ],
   "source": [
    "merge_uselog_customer = customer_join.merge(uselog_customer, on = 'customer_id')\n",
    "merge_uselog_weekday = merge_uselog_customer.merge(uselog_weekday.drop(['count'], axis = 1), on = 'customer_id')\n",
    "merge_uselog_weekday.head()"
   ]
  },
  {
   "cell_type": "code",
   "execution_count": 18,
   "metadata": {
    "colab": {
     "base_uri": "https://localhost:8080/"
    },
    "executionInfo": {
     "elapsed": 347,
     "status": "ok",
     "timestamp": 1666600647341,
     "user": {
      "displayName": "최진영",
      "userId": "04611147725648038476"
     },
     "user_tz": -540
    },
    "id": "MvoDkdaMI5Tq",
    "outputId": "cc337ec1-0bb1-45b9-cdc7-86a5525d2182"
   },
   "outputs": [
    {
     "data": {
      "text/plain": [
       "customer_id             0\n",
       "gender                  0\n",
       "start_date              0\n",
       "end_date             2842\n",
       "is_deleted              0\n",
       "campaign_name           0\n",
       "class_name              0\n",
       "price                   0\n",
       "calc_date               0\n",
       "membership_period       0\n",
       "mean                    0\n",
       "median                  0\n",
       "max                     0\n",
       "min                     0\n",
       "routine_flg             0\n",
       "dtype: int64"
      ]
     },
     "execution_count": 18,
     "metadata": {},
     "output_type": "execute_result"
    }
   ],
   "source": [
    "merge_uselog_weekday.isnull().sum()"
   ]
  },
  {
   "cell_type": "code",
   "execution_count": 19,
   "metadata": {
    "colab": {
     "base_uri": "https://localhost:8080/"
    },
    "executionInfo": {
     "elapsed": 360,
     "status": "ok",
     "timestamp": 1666600694925,
     "user": {
      "displayName": "최진영",
      "userId": "04611147725648038476"
     },
     "user_tz": -540
    },
    "id": "UQMmMGgEJF88",
    "outputId": "d7f48df4-c511-4953-9008-80f781e7acde"
   },
   "outputs": [
    {
     "data": {
      "text/plain": [
       "Index(['customer_id', 'gender', 'start_date', 'end_date', 'is_deleted',\n",
       "       'campaign_name', 'class_name', 'price', 'calc_date',\n",
       "       'membership_period', 'mean', 'median', 'max', 'min', 'routine_flg'],\n",
       "      dtype='object')"
      ]
     },
     "execution_count": 19,
     "metadata": {},
     "output_type": "execute_result"
    }
   ],
   "source": [
    "merge_uselog_weekday.columns"
   ]
  },
  {
   "cell_type": "code",
   "execution_count": 20,
   "metadata": {
    "colab": {
     "base_uri": "https://localhost:8080/",
     "height": 270
    },
    "executionInfo": {
     "elapsed": 519,
     "status": "ok",
     "timestamp": 1666600681208,
     "user": {
      "displayName": "최진영",
      "userId": "04611147725648038476"
     },
     "user_tz": -540
    },
    "id": "rwgTNHU_JCmE",
    "outputId": "984671a2-eb40-4644-9daf-9d3000ee2018"
   },
   "outputs": [
    {
     "data": {
      "text/html": [
       "<div>\n",
       "<style scoped>\n",
       "    .dataframe tbody tr th:only-of-type {\n",
       "        vertical-align: middle;\n",
       "    }\n",
       "\n",
       "    .dataframe tbody tr th {\n",
       "        vertical-align: top;\n",
       "    }\n",
       "\n",
       "    .dataframe thead th {\n",
       "        text-align: right;\n",
       "    }\n",
       "</style>\n",
       "<table border=\"1\" class=\"dataframe\">\n",
       "  <thead>\n",
       "    <tr style=\"text-align: right;\">\n",
       "      <th></th>\n",
       "      <th>customer_id</th>\n",
       "      <th>gender</th>\n",
       "      <th>start_date</th>\n",
       "      <th>end_date</th>\n",
       "      <th>is_deleted</th>\n",
       "      <th>campaign_name</th>\n",
       "      <th>class_name</th>\n",
       "      <th>price</th>\n",
       "      <th>calc_date</th>\n",
       "      <th>membership_period</th>\n",
       "      <th>mean</th>\n",
       "      <th>median</th>\n",
       "      <th>max</th>\n",
       "      <th>min</th>\n",
       "      <th>routine_flg</th>\n",
       "    </tr>\n",
       "  </thead>\n",
       "  <tbody>\n",
       "    <tr>\n",
       "      <th>0</th>\n",
       "      <td>OA832399</td>\n",
       "      <td>F</td>\n",
       "      <td>2015-05-01</td>\n",
       "      <td>NaN</td>\n",
       "      <td>0</td>\n",
       "      <td>2_일반</td>\n",
       "      <td>0_종일</td>\n",
       "      <td>10500</td>\n",
       "      <td>2019-04-30</td>\n",
       "      <td>47</td>\n",
       "      <td>4.833333</td>\n",
       "      <td>5.0</td>\n",
       "      <td>8</td>\n",
       "      <td>2</td>\n",
       "      <td>1</td>\n",
       "    </tr>\n",
       "    <tr>\n",
       "      <th>1</th>\n",
       "      <td>PL270116</td>\n",
       "      <td>M</td>\n",
       "      <td>2015-05-01</td>\n",
       "      <td>NaN</td>\n",
       "      <td>0</td>\n",
       "      <td>2_일반</td>\n",
       "      <td>0_종일</td>\n",
       "      <td>10500</td>\n",
       "      <td>2019-04-30</td>\n",
       "      <td>47</td>\n",
       "      <td>5.083333</td>\n",
       "      <td>5.0</td>\n",
       "      <td>7</td>\n",
       "      <td>3</td>\n",
       "      <td>1</td>\n",
       "    </tr>\n",
       "    <tr>\n",
       "      <th>2</th>\n",
       "      <td>OA974876</td>\n",
       "      <td>M</td>\n",
       "      <td>2015-05-01</td>\n",
       "      <td>NaN</td>\n",
       "      <td>0</td>\n",
       "      <td>2_일반</td>\n",
       "      <td>0_종일</td>\n",
       "      <td>10500</td>\n",
       "      <td>2019-04-30</td>\n",
       "      <td>47</td>\n",
       "      <td>4.583333</td>\n",
       "      <td>5.0</td>\n",
       "      <td>6</td>\n",
       "      <td>3</td>\n",
       "      <td>1</td>\n",
       "    </tr>\n",
       "    <tr>\n",
       "      <th>3</th>\n",
       "      <td>HD024127</td>\n",
       "      <td>F</td>\n",
       "      <td>2015-05-01</td>\n",
       "      <td>NaN</td>\n",
       "      <td>0</td>\n",
       "      <td>2_일반</td>\n",
       "      <td>0_종일</td>\n",
       "      <td>10500</td>\n",
       "      <td>2019-04-30</td>\n",
       "      <td>47</td>\n",
       "      <td>4.833333</td>\n",
       "      <td>4.5</td>\n",
       "      <td>7</td>\n",
       "      <td>2</td>\n",
       "      <td>1</td>\n",
       "    </tr>\n",
       "    <tr>\n",
       "      <th>4</th>\n",
       "      <td>IK271057</td>\n",
       "      <td>M</td>\n",
       "      <td>2015-05-01</td>\n",
       "      <td>NaN</td>\n",
       "      <td>0</td>\n",
       "      <td>2_일반</td>\n",
       "      <td>0_종일</td>\n",
       "      <td>10500</td>\n",
       "      <td>2019-04-30</td>\n",
       "      <td>47</td>\n",
       "      <td>3.750000</td>\n",
       "      <td>3.5</td>\n",
       "      <td>5</td>\n",
       "      <td>2</td>\n",
       "      <td>1</td>\n",
       "    </tr>\n",
       "  </tbody>\n",
       "</table>\n",
       "</div>"
      ],
      "text/plain": [
       "  customer_id gender start_date end_date  is_deleted campaign_name class_name  \\\n",
       "0    OA832399      F 2015-05-01      NaN           0          2_일반       0_종일   \n",
       "1    PL270116      M 2015-05-01      NaN           0          2_일반       0_종일   \n",
       "2    OA974876      M 2015-05-01      NaN           0          2_일반       0_종일   \n",
       "3    HD024127      F 2015-05-01      NaN           0          2_일반       0_종일   \n",
       "4    IK271057      M 2015-05-01      NaN           0          2_일반       0_종일   \n",
       "\n",
       "   price  calc_date membership_period      mean  median  max  min  routine_flg  \n",
       "0  10500 2019-04-30                47  4.833333     5.0    8    2            1  \n",
       "1  10500 2019-04-30                47  5.083333     5.0    7    3            1  \n",
       "2  10500 2019-04-30                47  4.583333     5.0    6    3            1  \n",
       "3  10500 2019-04-30                47  4.833333     4.5    7    2            1  \n",
       "4  10500 2019-04-30                47  3.750000     3.5    5    2            1  "
      ]
     },
     "execution_count": 20,
     "metadata": {},
     "output_type": "execute_result"
    }
   ],
   "source": [
    "merge_uselog_weekday.head()"
   ]
  },
  {
   "cell_type": "code",
   "execution_count": 22,
   "metadata": {
    "executionInfo": {
     "elapsed": 843,
     "status": "ok",
     "timestamp": 1666601424464,
     "user": {
      "displayName": "최진영",
      "userId": "04611147725648038476"
     },
     "user_tz": -540
    },
    "id": "6o5s-3wLLfbk"
   },
   "outputs": [],
   "source": [
    "customer_stay = merge_uselog_weekday[merge_uselog_weekday['is_deleted'] == 0] # stay\n",
    "customer_end = merge_uselog_weekday[merge_uselog_weekday['is_deleted'] == 1] # end\n",
    "customer_stay.to_csv('data/스포츠센터데이터/customer_stay.csv')\n",
    "customer_end.to_csv('data/스포츠센터데이터/customer_end.csv')\n",
    "merge_uselog_weekday.to_csv('pre_data.csv')"
   ]
  },
  {
   "cell_type": "code",
   "execution_count": null,
   "metadata": {
    "id": "9v43aCcfJRUs"
   },
   "outputs": [],
   "source": [
    "# 클래스, 캠페인 여부 별 회원유지기간\n",
    "# 요일별 방문 수 \n",
    "# 여자 남자 중에 누가 더 많이 오는지? \n",
    "# 남여별 정기적 횟수\n",
    "# 클래스별 그만둔회원수\n",
    "# end_date와 routineflg의 관계 \n",
    "# 이용이 가정 적은, 많은 달과 요일\n",
    "# 등록한 계절 별 회원기간\n",
    "# 클래스 별 routine flg"
   ]
  },
  {
   "cell_type": "code",
   "execution_count": null,
   "metadata": {},
   "outputs": [],
   "source": []
  }
 ],
 "metadata": {
  "colab": {
   "authorship_tag": "ABX9TyMquhqS06ulXB+jpg/S3sFn",
   "collapsed_sections": [],
   "provenance": []
  },
  "kernelspec": {
   "display_name": "Python 3 (ipykernel)",
   "language": "python",
   "name": "python3"
  },
  "language_info": {
   "codemirror_mode": {
    "name": "ipython",
    "version": 3
   },
   "file_extension": ".py",
   "mimetype": "text/x-python",
   "name": "python",
   "nbconvert_exporter": "python",
   "pygments_lexer": "ipython3",
   "version": "3.9.12"
  },
  "toc": {
   "base_numbering": 1,
   "nav_menu": {},
   "number_sections": true,
   "sideBar": true,
   "skip_h1_title": false,
   "title_cell": "Table of Contents",
   "title_sidebar": "Contents",
   "toc_cell": false,
   "toc_position": {},
   "toc_section_display": true,
   "toc_window_display": false
  }
 },
 "nbformat": 4,
 "nbformat_minor": 1
}

{
 "cells": [
  {
   "cell_type": "markdown",
   "id": "8e0b3e27",
   "metadata": {},
   "source": [
    "# 클래스 별 routine flg"
   ]
  },
  {
   "cell_type": "code",
   "execution_count": 46,
   "id": "0455c6c9",
   "metadata": {},
   "outputs": [
    {
     "name": "stdout",
     "output_type": "stream",
     "text": [
      "<class 'pandas.core.frame.DataFrame'>\n",
      "RangeIndex: 4192 entries, 0 to 4191\n",
      "Data columns (total 18 columns):\n",
      " #   Column             Non-Null Count  Dtype  \n",
      "---  ------             --------------  -----  \n",
      " 0   customer_id        4192 non-null   object \n",
      " 1   name               4192 non-null   object \n",
      " 2   class              4192 non-null   object \n",
      " 3   gender             4192 non-null   object \n",
      " 4   start_date         4192 non-null   object \n",
      " 5   end_date           1350 non-null   object \n",
      " 6   campaign_id        4192 non-null   object \n",
      " 7   is_deleted         4192 non-null   int64  \n",
      " 8   class_name         4192 non-null   object \n",
      " 9   price              4192 non-null   int64  \n",
      " 10  campaign_name      4192 non-null   object \n",
      " 11  mean               4192 non-null   float64\n",
      " 12  median             4192 non-null   float64\n",
      " 13  max                4192 non-null   int64  \n",
      " 14  min                4192 non-null   int64  \n",
      " 15  routine_flg        4192 non-null   int64  \n",
      " 16  calc_date          4192 non-null   object \n",
      " 17  membership_period  4192 non-null   int64  \n",
      "dtypes: float64(2), int64(6), object(10)\n",
      "memory usage: 589.6+ KB\n"
     ]
    }
   ],
   "source": [
    "import pandas as pd\n",
    "customer_join = pd.read_csv('data/스포츠센터데이터/customer_join.csv')\n",
    "customer_join.info()"
   ]
  },
  {
   "cell_type": "code",
   "execution_count": 47,
   "id": "d5cb0029",
   "metadata": {},
   "outputs": [
    {
     "data": {
      "image/png": "[encoded data removed]",
      "text/plain": [
       "<Figure size 432x288 with 1 Axes>"
      ]
     },
     "metadata": {
      "needs_background": "light"
     },
     "output_type": "display_data"
    }
   ],
   "source": [
    "# 클래스별 routine_flg_total\n",
    "group_class_total = customer_join.groupby('class_name', as_index = False).agg(routine_flg_total = ('routine_flg', 'count'))\n",
    "\n",
    "# 클래스별 routine_flg == 1\n",
    "routine_flg_1 = customer_join[customer_join.copy().loc[:,'routine_flg'] == 1]\n",
    "group_class_routine1 = routine_flg_1.groupby('class_name', as_index = False).agg(routine_flg_routine1 = ('routine_flg', 'count'))\n",
    "\n",
    "# 클래스별 routine_flg == 0\n",
    "routine_flg_0 = customer_join[customer_join.copy().loc[:,'routine_flg'] == 0]\n",
    "group_class_routine0 = routine_flg_0.groupby('class_name', as_index = False).agg(routine_flg_routine0 = ('routine_flg', 'count'))\n",
    "\n",
    "# 최종 클래스별 routine_flg\n",
    "group_class_RF = group_class_total.merge(group_class_routine1, on = 'class_name')\n",
    "group_class_RF = group_class_RF.merge(group_class_routine0, on = 'class_name')\n",
    "\n",
    "# 시각화\n",
    "import seaborn as sns\n",
    "graph_routine1 = sns.barplot(data = group_class_RF, x = 'class_name', y = 'routine_flg_routine1')\n",
    "\n",
    "graph_routine0 = sns.barplot(data = group_class_RF, x = 'class_name', y = 'routine_flg_routine0')\n",
    "\n",
    "graph_routine_total = sns.barplot(data = group_class_RF, x = 'class_name', y = 'routine_flg_total')"
   ]
  },
  {
   "cell_type": "code",
   "execution_count": 41,
   "id": "e200866a",
   "metadata": {},
   "outputs": [
    {
     "name": "stdout",
     "output_type": "stream",
     "text": [
      "  class  routine_flg_routine1\n",
      "0   C01                  1675\n",
      "1   C02                   812\n",
      "2   C03                   926\n",
      "  class  routine_flg_routine0\n",
      "0   C01                   370\n",
      "1   C02                   207\n",
      "2   C03                   202\n"
     ]
    }
   ],
   "source": []
  },
  {
   "cell_type": "code",
   "execution_count": 42,
   "id": "76676c22",
   "metadata": {},
   "outputs": [
    {
     "data": {
      "text/html": [
       "<div>\n",
       "<style scoped>\n",
       "    .dataframe tbody tr th:only-of-type {\n",
       "        vertical-align: middle;\n",
       "    }\n",
       "\n",
       "    .dataframe tbody tr th {\n",
       "        vertical-align: top;\n",
       "    }\n",
       "\n",
       "    .dataframe thead th {\n",
       "        text-align: right;\n",
       "    }\n",
       "</style>\n",
       "<table border=\"1\" class=\"dataframe\">\n",
       "  <thead>\n",
       "    <tr style=\"text-align: right;\">\n",
       "      <th></th>\n",
       "      <th>class</th>\n",
       "      <th>routine_flg_total</th>\n",
       "      <th>routine_flg_routine1</th>\n",
       "      <th>routine_flg_routine0</th>\n",
       "    </tr>\n",
       "  </thead>\n",
       "  <tbody>\n",
       "    <tr>\n",
       "      <th>0</th>\n",
       "      <td>C01</td>\n",
       "      <td>2045</td>\n",
       "      <td>1675</td>\n",
       "      <td>370</td>\n",
       "    </tr>\n",
       "    <tr>\n",
       "      <th>1</th>\n",
       "      <td>C02</td>\n",
       "      <td>1019</td>\n",
       "      <td>812</td>\n",
       "      <td>207</td>\n",
       "    </tr>\n",
       "    <tr>\n",
       "      <th>2</th>\n",
       "      <td>C03</td>\n",
       "      <td>1128</td>\n",
       "      <td>926</td>\n",
       "      <td>202</td>\n",
       "    </tr>\n",
       "  </tbody>\n",
       "</table>\n",
       "</div>"
      ],
      "text/plain": [
       "  class  routine_flg_total  routine_flg_routine1  routine_flg_routine0\n",
       "0   C01               2045                  1675                   370\n",
       "1   C02               1019                   812                   207\n",
       "2   C03               1128                   926                   202"
      ]
     },
     "execution_count": 42,
     "metadata": {},
     "output_type": "execute_result"
    }
   ],
   "source": []
  },
  {
   "cell_type": "code",
   "execution_count": 43,
   "id": "94926273",
   "metadata": {},
   "outputs": [
    {
     "data": {
      "image/png": "[encoded data removed]",
      "text/plain": [
       "<Figure size 432x288 with 1 Axes>"
      ]
     },
     "metadata": {
      "needs_background": "light"
     },
     "output_type": "display_data"
    }
   ],
   "source": []
  },
  {
   "cell_type": "code",
   "execution_count": 44,
   "id": "01862463",
   "metadata": {},
   "outputs": [
    {
     "data": {
      "image/png": "[encoded data removed]",
      "text/plain": [
       "<Figure size 432x288 with 1 Axes>"
      ]
     },
     "metadata": {
      "needs_background": "light"
     },
     "output_type": "display_data"
    }
   ],
   "source": []
  },
  {
   "cell_type": "code",
   "execution_count": 45,
   "id": "e10141f0",
   "metadata": {},
   "outputs": [
    {
     "data": {
      "image/png": "[encoded data removed]",
      "text/plain": [
       "<Figure size 432x288 with 1 Axes>"
      ]
     },
     "metadata": {
      "needs_background": "light"
     },
     "output_type": "display_data"
    }
   ],
   "source": []
  },
  {
   "cell_type": "code",
   "execution_count": null,
   "id": "765cb652",
   "metadata": {},
   "outputs": [],
   "source": []
  }
 ],
 "metadata": {
  "kernelspec": {
   "display_name": "Python 3 (ipykernel)",
   "language": "python",
   "name": "python3"
  },
  "language_info": {
   "codemirror_mode": {
    "name": "ipython",
    "version": 3
   },
   "file_extension": ".py",
   "mimetype": "text/x-python",
   "name": "python",
   "nbconvert_exporter": "python",
   "pygments_lexer": "ipython3",
   "version": "3.9.12"
  },
  "toc": {
   "base_numbering": 1,
   "nav_menu": {},
   "number_sections": true,
   "sideBar": true,
   "skip_h1_title": false,
   "title_cell": "Table of Contents",
   "title_sidebar": "Contents",
   "toc_cell": false,
   "toc_position": {},
   "toc_section_display": true,
   "toc_window_display": false
  }
 },
 "nbformat": 4,
 "nbformat_minor": 5
}

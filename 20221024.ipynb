{
 "cells": [
  {
   "cell_type": "markdown",
   "id": "3bc3102c",
   "metadata": {},
   "source": [
    "# 보팅"
   ]
  },
  {
   "cell_type": "code",
   "execution_count": 24,
   "id": "36d19ad8",
   "metadata": {},
   "outputs": [],
   "source": [
    "from sklearn.datasets import load_iris\n",
    "import pandas as pd\n",
    "from sklearn.preprocessing import StandardScaler\n",
    "from sklearn.model_selection import train_test_split\n",
    "\n",
    "iris_data = load_iris()\n",
    "X = pd.DataFrame(iris_data.data, columns = iris_data.feature_names)\n",
    "Y = pd.DataFrame(iris_data.target, columns = ['class'])"
   ]
  },
  {
   "cell_type": "code",
   "execution_count": 25,
   "id": "753a17bd",
   "metadata": {},
   "outputs": [],
   "source": [
    "X_train, X_test, Y_train, Y_test = train_test_split(X, Y, test_size = 0.3, random_state = 0)"
   ]
  },
  {
   "cell_type": "code",
   "execution_count": 26,
   "id": "2e1e9ade",
   "metadata": {},
   "outputs": [],
   "source": [
    "scaler = StandardScaler()\n",
    "scaler.fit(X_train)\n",
    "X_train_std = scaler.transform(X_train)\n",
    "X_test_std = scaler.transform(X_test)"
   ]
  },
  {
   "cell_type": "code",
   "execution_count": 30,
   "id": "fc94b9f2",
   "metadata": {},
   "outputs": [
    {
     "data": {
      "text/plain": [
       "VotingClassifier(estimators=[('lr',\n",
       "                              LogisticRegression(multi_class='multinomial',\n",
       "                                                 random_state=1)),\n",
       "                             ('svm', SVC(kernel='linear', random_state=1)),\n",
       "                             ('gnb', GaussianNB())],\n",
       "                 weights=[1, 1, 1])"
      ]
     },
     "execution_count": 30,
     "metadata": {},
     "output_type": "execute_result"
    }
   ],
   "source": [
    "from sklearn.linear_model import LogisticRegression\n",
    "from sklearn import svm\n",
    "from sklearn.naive_bayes import GaussianNB\n",
    "from sklearn.ensemble import VotingClassifier\n",
    "\n",
    "c1f1 = LogisticRegression(multi_class = 'multinomial', random_state=1)\n",
    "c1f2 = svm.SVC(kernel = 'linear', random_state=1)\n",
    "c1f3 = GaussianNB()\n",
    "clf_voting = VotingClassifier(\n",
    "    estimators = [\n",
    "        ('lr', c1f1),\n",
    "        ('svm', c1f2),\n",
    "        ('gnb', c1f3)\n",
    "    ],\n",
    "    voting = 'hard',\n",
    "    weights = [1,1,1]\n",
    ")\n",
    "clf_voting.fit(X_train_std, Y_train['class'].ravel())"
   ]
  },
  {
   "cell_type": "code",
   "execution_count": 34,
   "id": "8bd773f8",
   "metadata": {},
   "outputs": [
    {
     "name": "stdout",
     "output_type": "stream",
     "text": [
      "0.9714285714285714\n",
      "0.9777777777777777\n"
     ]
    }
   ],
   "source": [
    "#test(X_test)\n",
    "pred_voting = clf_voting.predict(X_test_std) # 모델을 활용해서 문제를 풀었다.\n",
    "\n",
    "#score(채점)\n",
    "train_accyracy  = clf_voting.score(X_train_std, Y_train['class'].ravel()) # train score\n",
    "test_accyracy = clf_voting.score(X_test_std, Y_test['class'].ravel()) # train score\n",
    "\n",
    "print(train_accyracy)\n",
    "print(test_accyracy)"
   ]
  },
  {
   "cell_type": "code",
   "execution_count": 38,
   "id": "f15b1f18",
   "metadata": {},
   "outputs": [
    {
     "name": "stdout",
     "output_type": "stream",
     "text": [
      "[[16  0  0]\n",
      " [ 0 17  1]\n",
      " [ 0  0 11]]\n"
     ]
    }
   ],
   "source": [
    "from sklearn.metrics import confusion_matrix\n",
    "conf_matrix = confusion_matrix(Y_test, pred_voting)\n",
    "print(conf_matrix)"
   ]
  },
  {
   "cell_type": "markdown",
   "id": "fe14292c",
   "metadata": {},
   "source": [
    "# 배깅 "
   ]
  },
  {
   "cell_type": "code",
   "execution_count": 47,
   "id": "066bbbbe",
   "metadata": {},
   "outputs": [],
   "source": [
    "from sklearn.datasets import load_wine\n",
    "import pandas as pd\n",
    "from sklearn.preprocessing import StandardScaler\n",
    "from sklearn.model_selection import train_test_split\n",
    "\n",
    "wine_data = load_wine()\n",
    "X = pd.DataFrame(wine_data.data, columns = wine_data.feature_names)\n",
    "Y = pd.DataFrame(wine_data.target, columns = ['class'])"
   ]
  },
  {
   "cell_type": "code",
   "execution_count": 48,
   "id": "dd660029",
   "metadata": {},
   "outputs": [],
   "source": [
    "X_train, X_test, Y_train, Y_test = train_test_split(X, Y, test_size = 0.3, random_state = 0)"
   ]
  },
  {
   "cell_type": "code",
   "execution_count": 49,
   "id": "15f0f3f1",
   "metadata": {},
   "outputs": [],
   "source": [
    "scaler  = StandardScaler()\n",
    "scaler.fit(X_train)\n",
    "\n",
    "X_train_std = scaler.transform(X_train)\n",
    "X_test_std = scaler.transform(X_test)"
   ]
  },
  {
   "cell_type": "markdown",
   "id": "4e9c6dbe",
   "metadata": {},
   "source": [
    "# 일반 모델과 배깅 모델 비교 "
   ]
  },
  {
   "cell_type": "markdown",
   "id": "b2b30801",
   "metadata": {},
   "source": [
    "## 일반모델"
   ]
  },
  {
   "cell_type": "code",
   "execution_count": 51,
   "id": "b99ae719",
   "metadata": {},
   "outputs": [
    {
     "name": "stdout",
     "output_type": "stream",
     "text": [
      "배깅을 활용하지 않았을 때 정확도는 0.94 입니다.\n"
     ]
    }
   ],
   "source": [
    "from sklearn.naive_bayes import GaussianNB\n",
    "gaussian = GaussianNB()\n",
    "gaussian.fit(X_train_std, Y_train['class'].ravel())\n",
    "\n",
    "none_bagging_score = gaussian.score(X_test_std, Y_test['class'].ravel())\n",
    "print(f'배깅을 활용하지 않았을 때 정확도는 {round(none_bagging_score,2)} 입니다.')"
   ]
  },
  {
   "cell_type": "markdown",
   "id": "0a338917",
   "metadata": {},
   "source": [
    "## 배깅모델"
   ]
  },
  {
   "cell_type": "code",
   "execution_count": 71,
   "id": "c8957130",
   "metadata": {},
   "outputs": [
    {
     "name": "stdout",
     "output_type": "stream",
     "text": [
      "배깅을 활용했을 때 훈련 정확도는 0.98 입니다.\n",
      "배깅을 활용했을 때 테스트 정확도는 0.98 입니다.\n"
     ]
    }
   ],
   "source": [
    "# 11시 8분까지\n",
    "from sklearn.ensemble import BaggingClassifier\n",
    "clf_bagging = BaggingClassifier(base_estimator = GaussianNB(),\n",
    "                                n_estimators = 10,\n",
    "                                random_state =0)\n",
    "clf_bagging.fit(X_train_std, Y_train['class'].ravel())\n",
    "\n",
    "bagging_train_score = clf_bagging.score(X_train_std, Y_train['class'].ravel())\n",
    "bagging_test_score = clf_bagging.score(X_test_std, Y_test['class'].ravel())\n",
    "\n",
    "print(f'배깅을 활용했을 때 훈련 정확도는 {round(bagging_train_score,2)} 입니다.')\n",
    "print(f'배깅을 활용했을 때 테스트 정확도는 {round(bagging_test_score,2)} 입니다.')"
   ]
  },
  {
   "cell_type": "markdown",
   "id": "a3bb0046",
   "metadata": {},
   "source": [
    "# 랜덤포레스트"
   ]
  },
  {
   "cell_type": "code",
   "execution_count": 72,
   "id": "374e9c94",
   "metadata": {},
   "outputs": [],
   "source": [
    "from sklearn.datasets import load_wine\n",
    "import pandas as pd\n",
    "from sklearn.preprocessing import StandardScaler\n",
    "from sklearn.model_selection import train_test_split\n",
    "\n",
    "wine_data = load_wine()\n",
    "X = pd.DataFrame(wine_data.data, columns = wine_data.feature_names)\n",
    "Y = pd.DataFrame(wine_data.target, columns = ['class'])"
   ]
  },
  {
   "cell_type": "code",
   "execution_count": 75,
   "id": "51c62a9b",
   "metadata": {},
   "outputs": [],
   "source": [
    "scaler = StandardScaler()\n",
    "scaler.fit(X_train)\n",
    "\n",
    "X_train_std = scaler.transform(X_train)\n",
    "X_test_std = scaler.transform(X_test)"
   ]
  },
  {
   "cell_type": "code",
   "execution_count": 80,
   "id": "30d6f53c",
   "metadata": {},
   "outputs": [
    {
     "data": {
      "text/plain": [
       "RandomForestClassifier(max_depth=2)"
      ]
     },
     "execution_count": 80,
     "metadata": {},
     "output_type": "execute_result"
    }
   ],
   "source": [
    "from sklearn.ensemble import RandomForestClassifier\n",
    "\n",
    "clf_rf = RandomForestClassifier(max_depth = 2,\n",
    "                                n_estimators = 100)\n",
    "clf_rf.fit(X_train_std, Y_train['class'].ravel())"
   ]
  },
  {
   "cell_type": "code",
   "execution_count": 83,
   "id": "f6ce477b",
   "metadata": {},
   "outputs": [
    {
     "name": "stdout",
     "output_type": "stream",
     "text": [
      "랜덤포레스트 훈련 정확도는 0.98 입니다.\n",
      "랜덤포레스트 테스트 정확도는 0.96 입니다.\n"
     ]
    }
   ],
   "source": [
    "pred_rf = clf_rf.predict(X_test_std)\n",
    "\n",
    "rf_train_score = clf_rf.score(X_train_std, Y_train['class'].ravel())\n",
    "rf_test_score = clf_rf.score(X_test_std, Y_test['class'].ravel())\n",
    "print(f'랜덤포레스트 훈련 정확도는 {round(rf_train_score,2)} 입니다.')\n",
    "print(f'랜덤포레스트 테스트 정확도는 {round(rf_test_score,2)} 입니다.')"
   ]
  },
  {
   "cell_type": "code",
   "execution_count": 84,
   "id": "e35ca76a",
   "metadata": {},
   "outputs": [
    {
     "name": "stdout",
     "output_type": "stream",
     "text": [
      "[[19  0  0]\n",
      " [ 1 20  1]\n",
      " [ 0  0 13]]\n"
     ]
    }
   ],
   "source": [
    "from sklearn.metrics import confusion_matrix\n",
    "conf_matrix = confusion_matrix(Y_test['class'].ravel(), pred_rf)\n",
    "print(conf_matrix)"
   ]
  },
  {
   "cell_type": "code",
   "execution_count": 85,
   "id": "d7174734",
   "metadata": {},
   "outputs": [
    {
     "name": "stdout",
     "output_type": "stream",
     "text": [
      "              precision    recall  f1-score   support\n",
      "\n",
      "           0       0.95      1.00      0.97        19\n",
      "           1       1.00      0.91      0.95        22\n",
      "           2       0.93      1.00      0.96        13\n",
      "\n",
      "    accuracy                           0.96        54\n",
      "   macro avg       0.96      0.97      0.96        54\n",
      "weighted avg       0.97      0.96      0.96        54\n",
      "\n"
     ]
    }
   ],
   "source": [
    "from sklearn.metrics import classification_report\n",
    "class_report = classification_report(Y_test['class'].ravel(), pred_rf)\n",
    "print(class_report)"
   ]
  },
  {
   "cell_type": "markdown",
   "id": "8b304512",
   "metadata": {},
   "source": [
    "# 그레디언트 부스팅"
   ]
  },
  {
   "cell_type": "code",
   "execution_count": 86,
   "id": "39b4eba6",
   "metadata": {},
   "outputs": [],
   "source": [
    "from sklearn.datasets import load_wine\n",
    "import pandas as pd\n",
    "from sklearn.preprocessing import StandardScaler\n",
    "from sklearn.model_selection import train_test_split\n",
    "\n",
    "wine_data = load_wine()\n",
    "X = pd.DataFrame(wine_data.data, columns = wine_data.feature_names)\n",
    "Y = pd.DataFrame(wine_data.target, columns = ['class'])"
   ]
  },
  {
   "cell_type": "code",
   "execution_count": 87,
   "id": "0ffab02e",
   "metadata": {},
   "outputs": [],
   "source": [
    "scaler = StandardScaler()\n",
    "scaler.fit(X_train)\n",
    "\n",
    "X_train_std = scaler.transform(X_train)\n",
    "X_test_std = scaler.transform(X_test)"
   ]
  },
  {
   "cell_type": "code",
   "execution_count": 92,
   "id": "1a751818",
   "metadata": {},
   "outputs": [
    {
     "name": "stdout",
     "output_type": "stream",
     "text": [
      "그레디언트부스팅 훈련 정확도는 1.0 입니다.\n",
      "그레디언트부스팅 테스트 정확도는 0.94 입니다.\n"
     ]
    }
   ],
   "source": [
    "from sklearn.ensemble import GradientBoostingClassifier\n",
    "\n",
    "gbrt = GradientBoostingClassifier(max_depth = 3, learning_rate = 0.01)\n",
    "gbrt.fit(X_train_std, Y_train['class'].ravel())\n",
    "\n",
    "gbrt_train_score = gbrt.score(X_train_std, Y_train['class'].ravel())\n",
    "gbrt_test_score = gbrt.score(X_test_std, Y_test['class'].ravel())\n",
    "\n",
    "print(f'그레디언트부스팅 훈련 정확도는 {round(gbrt_train_score,2)} 입니다.')\n",
    "print(f'그레디언트부스팅 테스트 정확도는 {round(gbrt_test_score,2)} 입니다.')"
   ]
  },
  {
   "cell_type": "markdown",
   "id": "84a0158e",
   "metadata": {},
   "source": [
    "# 실습"
   ]
  },
  {
   "cell_type": "code",
   "execution_count": 93,
   "id": "ac9c8a15",
   "metadata": {},
   "outputs": [],
   "source": [
    "from sklearn.datasets import load_iris\n",
    "import pandas as pd\n",
    "from sklearn.preprocessing import StandardScaler\n",
    "from sklearn.model_selection import train_test_split\n",
    "\n",
    "iris_data = load_iris()\n",
    "X = pd.DataFrame(iris_data.data, columns = iris_data.feature_names)\n",
    "Y = pd.DataFrame(iris_data.target, columns = ['class'])"
   ]
  },
  {
   "cell_type": "markdown",
   "id": "7886b5c8",
   "metadata": {},
   "source": [
    "## 랜덤포레스트"
   ]
  },
  {
   "cell_type": "code",
   "execution_count": 107,
   "id": "69c0af0c",
   "metadata": {},
   "outputs": [
    {
     "name": "stdout",
     "output_type": "stream",
     "text": [
      "[[19  0  0]\n",
      " [ 1 20  1]\n",
      " [ 0  0 13]]\n",
      "랜덤포레스트 훈련 정확도는 0.98 입니다.\n",
      "랜덤포레스트 테스트 정확도는 0.96 입니다.\n"
     ]
    }
   ],
   "source": [
    "sclaer = StandardScaler()\n",
    "scaler.fit(X_train)\n",
    "\n",
    "X_train_std = scaler.transform(X_train)\n",
    "X_test_std = scaler.transform(X_test)\n",
    "\n",
    "from sklearn.ensemble import RandomForestClassifier\n",
    "\n",
    "clf_rf = RandomForestClassifier(max_depth = 2,\n",
    "                                n_estimators = 100)\n",
    "clf_rf.fit(X_train_std, Y_train['class'].ravel())\n",
    "\n",
    "pred_rf = clf_rf.predict(X_test_std)\n",
    "from sklearn.metrics import confusion_matrix\n",
    "conf_matrix = confusion_matrix(Y_test['class'].ravel(), pred_rf)\n",
    "print(conf_matrix)\n",
    "\n",
    "rf_train_score = clf_rf.score(X_train_std, Y_train['class'].ravel())\n",
    "rf_test_score = clf_rf.score(X_test_std, Y_test['class'].ravel())\n",
    "print(f'랜덤포레스트 훈련 정확도는 {round(rf_train_score,2)} 입니다.')\n",
    "print(f'랜덤포레스트 테스트 정확도는 {round(rf_test_score,2)} 입니다.')"
   ]
  },
  {
   "cell_type": "markdown",
   "id": "133d7650",
   "metadata": {},
   "source": [
    "## 그레디언트 부스팅"
   ]
  },
  {
   "cell_type": "code",
   "execution_count": 106,
   "id": "f0a496e6",
   "metadata": {},
   "outputs": [
    {
     "name": "stdout",
     "output_type": "stream",
     "text": [
      "[[18  1  0]\n",
      " [ 1 20  1]\n",
      " [ 0  0 13]]\n",
      "그레디언트부스팅 훈련 정확도는 1.0 입니다.\n",
      "그레디언트부스팅 테스트 정확도는 0.94 입니다.\n"
     ]
    }
   ],
   "source": [
    "from sklearn.datasets import load_iris\n",
    "import pandas as pd\n",
    "from sklearn.preprocessing import StandardScaler\n",
    "from sklearn.model_selection import train_test_split\n",
    "\n",
    "iris_data = load_iris()\n",
    "X = pd.DataFrame(iris_data.data, columns = iris_data.feature_names)\n",
    "Y = pd.DataFrame(iris_data.target, columns = ['class'])\n",
    "\n",
    "sclaer = StandardScaler()\n",
    "scaler.fit(X_train)\n",
    "\n",
    "X_train_std = scaler.transform(X_train)\n",
    "X_test_std = scaler.transform(X_test)\n",
    "                        \n",
    "\n",
    "from sklearn.ensemble import GradientBoostingClassifier\n",
    "\n",
    "gbrt = GradientBoostingClassifier(max_depth = 3, learning_rate = 0.01)\n",
    "gbrt.fit(X_train_std, Y_train['class'].ravel())\n",
    "\n",
    "pred_gbrt = gbrt.predict(X_test_std)\n",
    "from sklearn.metrics import confusion_matrix\n",
    "conf_matrix = confusion_matrix(Y_test['class'].ravel(), pred_gbrt)\n",
    "print(conf_matrix)\n",
    "\n",
    "gbrt_train_score = gbrt.score(X_train_std, Y_train['class'].ravel())\n",
    "gbrt_test_score = gbrt.score(X_test_std, Y_test['class'].ravel())\n",
    "\n",
    "print(f'그레디언트부스팅 훈련 정확도는 {round(gbrt_train_score,2)} 입니다.')\n",
    "print(f'그레디언트부스팅 테스트 정확도는 {round(gbrt_test_score,2)} 입니다.')"
   ]
  },
  {
   "cell_type": "markdown",
   "id": "a323842c",
   "metadata": {},
   "source": [
    "# 스포츠센터 데이터 분석"
   ]
  },
  {
   "cell_type": "code",
   "execution_count": 176,
   "id": "60bf55b8",
   "metadata": {},
   "outputs": [],
   "source": [
    "import pandas as pd\n",
    "customer_master = pd.read_csv('data/스포츠센터데이터/customer_master.csv') #유저정보\n",
    "uselog = pd.read_csv('data/스포츠센터데이터/use_log.csv') #이용 기록\n",
    "class_master = pd.read_csv('data/스포츠센터데이터/class_master.csv') #클래스\n",
    "campaign_master = pd.read_csv('data/스포츠센터데이터/campaign_master.csv') #캠페인 이름"
   ]
  },
  {
   "cell_type": "code",
   "execution_count": 177,
   "id": "f731b113",
   "metadata": {},
   "outputs": [
    {
     "name": "stdout",
     "output_type": "stream",
     "text": [
      "<class 'pandas.core.frame.DataFrame'>\n",
      "RangeIndex: 4192 entries, 0 to 4191\n",
      "Data columns (total 8 columns):\n",
      " #   Column       Non-Null Count  Dtype \n",
      "---  ------       --------------  ----- \n",
      " 0   customer_id  4192 non-null   object\n",
      " 1   name         4192 non-null   object\n",
      " 2   class        4192 non-null   object\n",
      " 3   gender       4192 non-null   object\n",
      " 4   start_date   4192 non-null   object\n",
      " 5   end_date     1350 non-null   object\n",
      " 6   campaign_id  4192 non-null   object\n",
      " 7   is_deleted   4192 non-null   int64 \n",
      "dtypes: int64(1), object(7)\n",
      "memory usage: 262.1+ KB\n"
     ]
    }
   ],
   "source": [
    "customer_master.info()"
   ]
  },
  {
   "cell_type": "code",
   "execution_count": 178,
   "id": "cf848ed9",
   "metadata": {},
   "outputs": [
    {
     "name": "stdout",
     "output_type": "stream",
     "text": [
      "<class 'pandas.core.frame.DataFrame'>\n",
      "RangeIndex: 197428 entries, 0 to 197427\n",
      "Data columns (total 3 columns):\n",
      " #   Column       Non-Null Count   Dtype \n",
      "---  ------       --------------   ----- \n",
      " 0   log_id       197428 non-null  object\n",
      " 1   customer_id  197428 non-null  object\n",
      " 2   usedate      197428 non-null  object\n",
      "dtypes: object(3)\n",
      "memory usage: 4.5+ MB\n"
     ]
    }
   ],
   "source": [
    "uselog.info()"
   ]
  },
  {
   "cell_type": "code",
   "execution_count": 179,
   "id": "23493dcc",
   "metadata": {},
   "outputs": [
    {
     "name": "stdout",
     "output_type": "stream",
     "text": [
      "<class 'pandas.core.frame.DataFrame'>\n",
      "RangeIndex: 3 entries, 0 to 2\n",
      "Data columns (total 3 columns):\n",
      " #   Column      Non-Null Count  Dtype \n",
      "---  ------      --------------  ----- \n",
      " 0   class       3 non-null      object\n",
      " 1   class_name  3 non-null      object\n",
      " 2   price       3 non-null      int64 \n",
      "dtypes: int64(1), object(2)\n",
      "memory usage: 200.0+ bytes\n"
     ]
    }
   ],
   "source": [
    "class_master.info()"
   ]
  },
  {
   "cell_type": "code",
   "execution_count": 180,
   "id": "11a4d0e2",
   "metadata": {},
   "outputs": [
    {
     "name": "stdout",
     "output_type": "stream",
     "text": [
      "<class 'pandas.core.frame.DataFrame'>\n",
      "RangeIndex: 3 entries, 0 to 2\n",
      "Data columns (total 2 columns):\n",
      " #   Column         Non-Null Count  Dtype \n",
      "---  ------         --------------  ----- \n",
      " 0   campaign_id    3 non-null      object\n",
      " 1   campaign_name  3 non-null      object\n",
      "dtypes: object(2)\n",
      "memory usage: 176.0+ bytes\n"
     ]
    }
   ],
   "source": [
    "campaign_master.info()"
   ]
  },
  {
   "cell_type": "code",
   "execution_count": 181,
   "id": "cd9e8b0b",
   "metadata": {},
   "outputs": [],
   "source": [
    "# info\n",
    "# 결합\n",
    "# 결측지 확인\n",
    "\n",
    "\n",
    "\n",
    "# describe\n",
    "# 성별을 숫자로 바꾼다.\n",
    "# 필요없는 데이터 삭제\n",
    "# 형변환\n",
    "# 사용할 데이터 확인"
   ]
  },
  {
   "cell_type": "code",
   "execution_count": 182,
   "id": "a87d3c88",
   "metadata": {},
   "outputs": [],
   "source": [
    "join_campaign = customer_master.merge(campaign_master, on = 'campaign_id')\n",
    "join_class = join_campaign.merge(class_master, on = 'class')\n",
    "customer_join = join_class.drop(['class','campaign_id','name'], axis = 1)"
   ]
  },
  {
   "cell_type": "code",
   "execution_count": 183,
   "id": "0e7b0964",
   "metadata": {},
   "outputs": [
    {
     "name": "stdout",
     "output_type": "stream",
     "text": [
      "<class 'pandas.core.frame.DataFrame'>\n",
      "Int64Index: 4192 entries, 0 to 4191\n",
      "Data columns (total 8 columns):\n",
      " #   Column         Non-Null Count  Dtype \n",
      "---  ------         --------------  ----- \n",
      " 0   customer_id    4192 non-null   object\n",
      " 1   gender         4192 non-null   object\n",
      " 2   start_date     4192 non-null   object\n",
      " 3   end_date       1350 non-null   object\n",
      " 4   is_deleted     4192 non-null   int64 \n",
      " 5   campaign_name  4192 non-null   object\n",
      " 6   class_name     4192 non-null   object\n",
      " 7   price          4192 non-null   int64 \n",
      "dtypes: int64(2), object(6)\n",
      "memory usage: 294.8+ KB\n"
     ]
    }
   ],
   "source": [
    "customer_join.info()"
   ]
  },
  {
   "cell_type": "code",
   "execution_count": 184,
   "id": "6c7b41ab",
   "metadata": {},
   "outputs": [
    {
     "data": {
      "text/html": [
       "<div>\n",
       "<style scoped>\n",
       "    .dataframe tbody tr th:only-of-type {\n",
       "        vertical-align: middle;\n",
       "    }\n",
       "\n",
       "    .dataframe tbody tr th {\n",
       "        vertical-align: top;\n",
       "    }\n",
       "\n",
       "    .dataframe thead th {\n",
       "        text-align: right;\n",
       "    }\n",
       "</style>\n",
       "<table border=\"1\" class=\"dataframe\">\n",
       "  <thead>\n",
       "    <tr style=\"text-align: right;\">\n",
       "      <th></th>\n",
       "      <th>customer_id</th>\n",
       "      <th>gender</th>\n",
       "      <th>start_date</th>\n",
       "      <th>end_date</th>\n",
       "      <th>is_deleted</th>\n",
       "      <th>campaign_name</th>\n",
       "      <th>class_name</th>\n",
       "      <th>price</th>\n",
       "    </tr>\n",
       "  </thead>\n",
       "  <tbody>\n",
       "    <tr>\n",
       "      <th>0</th>\n",
       "      <td>OA832399</td>\n",
       "      <td>F</td>\n",
       "      <td>2015-05-01 00:00:00</td>\n",
       "      <td>NaN</td>\n",
       "      <td>0</td>\n",
       "      <td>2_일반</td>\n",
       "      <td>0_종일</td>\n",
       "      <td>10500</td>\n",
       "    </tr>\n",
       "  </tbody>\n",
       "</table>\n",
       "</div>"
      ],
      "text/plain": [
       "  customer_id gender           start_date end_date  is_deleted campaign_name  \\\n",
       "0    OA832399      F  2015-05-01 00:00:00      NaN           0          2_일반   \n",
       "\n",
       "  class_name  price  \n",
       "0       0_종일  10500  "
      ]
     },
     "execution_count": 184,
     "metadata": {},
     "output_type": "execute_result"
    }
   ],
   "source": [
    "customer_join.head(1)"
   ]
  },
  {
   "cell_type": "code",
   "execution_count": 185,
   "id": "88d70617",
   "metadata": {
    "scrolled": true
   },
   "outputs": [
    {
     "data": {
      "text/html": [
       "<div>\n",
       "<style scoped>\n",
       "    .dataframe tbody tr th:only-of-type {\n",
       "        vertical-align: middle;\n",
       "    }\n",
       "\n",
       "    .dataframe tbody tr th {\n",
       "        vertical-align: top;\n",
       "    }\n",
       "\n",
       "    .dataframe thead th {\n",
       "        text-align: right;\n",
       "    }\n",
       "</style>\n",
       "<table border=\"1\" class=\"dataframe\">\n",
       "  <thead>\n",
       "    <tr style=\"text-align: right;\">\n",
       "      <th></th>\n",
       "      <th>log_id</th>\n",
       "      <th>customer_id</th>\n",
       "      <th>usedate</th>\n",
       "    </tr>\n",
       "  </thead>\n",
       "  <tbody>\n",
       "    <tr>\n",
       "      <th>0</th>\n",
       "      <td>L00000049012330</td>\n",
       "      <td>AS009373</td>\n",
       "      <td>2018-04-01</td>\n",
       "    </tr>\n",
       "  </tbody>\n",
       "</table>\n",
       "</div>"
      ],
      "text/plain": [
       "            log_id customer_id     usedate\n",
       "0  L00000049012330    AS009373  2018-04-01"
      ]
     },
     "execution_count": 185,
     "metadata": {},
     "output_type": "execute_result"
    }
   ],
   "source": [
    "uselog.head(1)"
   ]
  },
  {
   "cell_type": "code",
   "execution_count": 186,
   "id": "93462c0b",
   "metadata": {},
   "outputs": [
    {
     "data": {
      "text/plain": [
       "customer_id         0\n",
       "gender              0\n",
       "start_date          0\n",
       "end_date         2842\n",
       "is_deleted          0\n",
       "campaign_name       0\n",
       "class_name          0\n",
       "price               0\n",
       "dtype: int64"
      ]
     },
     "execution_count": 186,
     "metadata": {},
     "output_type": "execute_result"
    }
   ],
   "source": [
    "customer_join.isnull().sum()"
   ]
  },
  {
   "cell_type": "code",
   "execution_count": 187,
   "id": "8ac08db0",
   "metadata": {},
   "outputs": [],
   "source": [
    "#결축치 채우고 형변환\n",
    "customer_join['calc_date'] = customer_join['end_date']\n",
    "customer_join['calc_date'] = customer_join['calc_date'].fillna(pd.to_datetime(\"20190430\")) # 3월까지 데이터라서 none값을 4월로 채운다.\n",
    "customer_join['start_date'] = pd.to_datetime(customer_join['start_date'])\n",
    "customer_join['calc_date'] = pd.to_datetime(customer_join['calc_date'])"
   ]
  },
  {
   "cell_type": "code",
   "execution_count": 188,
   "id": "da4e43b1",
   "metadata": {},
   "outputs": [
    {
     "name": "stdout",
     "output_type": "stream",
     "text": [
      "<class 'pandas.core.frame.DataFrame'>\n",
      "Int64Index: 4192 entries, 0 to 4191\n",
      "Data columns (total 9 columns):\n",
      " #   Column         Non-Null Count  Dtype         \n",
      "---  ------         --------------  -----         \n",
      " 0   customer_id    4192 non-null   object        \n",
      " 1   gender         4192 non-null   object        \n",
      " 2   start_date     4192 non-null   datetime64[ns]\n",
      " 3   end_date       1350 non-null   object        \n",
      " 4   is_deleted     4192 non-null   int64         \n",
      " 5   campaign_name  4192 non-null   object        \n",
      " 6   class_name     4192 non-null   object        \n",
      " 7   price          4192 non-null   int64         \n",
      " 8   calc_date      4192 non-null   datetime64[ns]\n",
      "dtypes: datetime64[ns](2), int64(2), object(5)\n",
      "memory usage: 327.5+ KB\n"
     ]
    }
   ],
   "source": [
    "customer_join.info()"
   ]
  },
  {
   "cell_type": "code",
   "execution_count": 189,
   "id": "1978a3ee",
   "metadata": {},
   "outputs": [
    {
     "name": "stderr",
     "output_type": "stream",
     "text": [
      "C:\\Users\\Joo\\AppData\\Local\\Temp\\ipykernel_8900\\2075547786.py:8: SettingWithCopyWarning: \n",
      "A value is trying to be set on a copy of a slice from a DataFrame\n",
      "\n",
      "See the caveats in the documentation: https://pandas.pydata.org/pandas-docs/stable/user_guide/indexing.html#returning-a-view-versus-a-copy\n",
      "  customer_join['membership_period'].iloc[row_num] = month_diff\n"
     ]
    }
   ],
   "source": [
    "# groupby\n",
    "# customer_join['membership_period'] = 0\n",
    "customer_join['membership_period'] = 0\n",
    "from dateutil.relativedelta import relativedelta\n",
    "for row_num in range(len(customer_join)):\n",
    "    delta = relativedelta(customer_join['calc_date'].iloc[row_num], customer_join['start_date'].iloc[row_num])\n",
    "    month_diff = delta.years *12 + delta.months\n",
    "    customer_join['membership_period'].iloc[row_num] = month_diff"
   ]
  },
  {
   "cell_type": "code",
   "execution_count": 190,
   "id": "5bbcdc97",
   "metadata": {},
   "outputs": [
    {
     "data": {
      "text/html": [
       "<div>\n",
       "<style scoped>\n",
       "    .dataframe tbody tr th:only-of-type {\n",
       "        vertical-align: middle;\n",
       "    }\n",
       "\n",
       "    .dataframe tbody tr th {\n",
       "        vertical-align: top;\n",
       "    }\n",
       "\n",
       "    .dataframe thead th {\n",
       "        text-align: right;\n",
       "    }\n",
       "</style>\n",
       "<table border=\"1\" class=\"dataframe\">\n",
       "  <thead>\n",
       "    <tr style=\"text-align: right;\">\n",
       "      <th></th>\n",
       "      <th>log_id</th>\n",
       "      <th>customer_id</th>\n",
       "      <th>usedate</th>\n",
       "    </tr>\n",
       "  </thead>\n",
       "  <tbody>\n",
       "    <tr>\n",
       "      <th>0</th>\n",
       "      <td>L00000049012330</td>\n",
       "      <td>AS009373</td>\n",
       "      <td>2018-04-01</td>\n",
       "    </tr>\n",
       "    <tr>\n",
       "      <th>1</th>\n",
       "      <td>L00000049012331</td>\n",
       "      <td>AS015315</td>\n",
       "      <td>2018-04-01</td>\n",
       "    </tr>\n",
       "    <tr>\n",
       "      <th>2</th>\n",
       "      <td>L00000049012332</td>\n",
       "      <td>AS040841</td>\n",
       "      <td>2018-04-01</td>\n",
       "    </tr>\n",
       "    <tr>\n",
       "      <th>3</th>\n",
       "      <td>L00000049012333</td>\n",
       "      <td>AS046594</td>\n",
       "      <td>2018-04-01</td>\n",
       "    </tr>\n",
       "    <tr>\n",
       "      <th>4</th>\n",
       "      <td>L00000049012334</td>\n",
       "      <td>AS073285</td>\n",
       "      <td>2018-04-01</td>\n",
       "    </tr>\n",
       "    <tr>\n",
       "      <th>...</th>\n",
       "      <td>...</td>\n",
       "      <td>...</td>\n",
       "      <td>...</td>\n",
       "    </tr>\n",
       "    <tr>\n",
       "      <th>197423</th>\n",
       "      <td>L00000049209753</td>\n",
       "      <td>TS977703</td>\n",
       "      <td>2019-03-31</td>\n",
       "    </tr>\n",
       "    <tr>\n",
       "      <th>197424</th>\n",
       "      <td>L00000049209754</td>\n",
       "      <td>TS979550</td>\n",
       "      <td>2019-03-31</td>\n",
       "    </tr>\n",
       "    <tr>\n",
       "      <th>197425</th>\n",
       "      <td>L00000049209755</td>\n",
       "      <td>TS995299</td>\n",
       "      <td>2019-03-31</td>\n",
       "    </tr>\n",
       "    <tr>\n",
       "      <th>197426</th>\n",
       "      <td>L00000049209756</td>\n",
       "      <td>TS995853</td>\n",
       "      <td>2019-03-31</td>\n",
       "    </tr>\n",
       "    <tr>\n",
       "      <th>197427</th>\n",
       "      <td>L00000049209757</td>\n",
       "      <td>TS999079</td>\n",
       "      <td>2019-03-31</td>\n",
       "    </tr>\n",
       "  </tbody>\n",
       "</table>\n",
       "<p>197428 rows × 3 columns</p>\n",
       "</div>"
      ],
      "text/plain": [
       "                 log_id customer_id     usedate\n",
       "0       L00000049012330    AS009373  2018-04-01\n",
       "1       L00000049012331    AS015315  2018-04-01\n",
       "2       L00000049012332    AS040841  2018-04-01\n",
       "3       L00000049012333    AS046594  2018-04-01\n",
       "4       L00000049012334    AS073285  2018-04-01\n",
       "...                 ...         ...         ...\n",
       "197423  L00000049209753    TS977703  2019-03-31\n",
       "197424  L00000049209754    TS979550  2019-03-31\n",
       "197425  L00000049209755    TS995299  2019-03-31\n",
       "197426  L00000049209756    TS995853  2019-03-31\n",
       "197427  L00000049209757    TS999079  2019-03-31\n",
       "\n",
       "[197428 rows x 3 columns]"
      ]
     },
     "execution_count": 190,
     "metadata": {},
     "output_type": "execute_result"
    }
   ],
   "source": [
    "uselog"
   ]
  },
  {
   "cell_type": "code",
   "execution_count": 192,
   "id": "4484d068",
   "metadata": {},
   "outputs": [
    {
     "data": {
      "text/html": [
       "<div>\n",
       "<style scoped>\n",
       "    .dataframe tbody tr th:only-of-type {\n",
       "        vertical-align: middle;\n",
       "    }\n",
       "\n",
       "    .dataframe tbody tr th {\n",
       "        vertical-align: top;\n",
       "    }\n",
       "\n",
       "    .dataframe thead th {\n",
       "        text-align: right;\n",
       "    }\n",
       "</style>\n",
       "<table border=\"1\" class=\"dataframe\">\n",
       "  <thead>\n",
       "    <tr style=\"text-align: right;\">\n",
       "      <th></th>\n",
       "      <th>customer_id</th>\n",
       "      <th>연월</th>\n",
       "      <th>count</th>\n",
       "    </tr>\n",
       "  </thead>\n",
       "  <tbody>\n",
       "    <tr>\n",
       "      <th>0</th>\n",
       "      <td>AS002855</td>\n",
       "      <td>201804</td>\n",
       "      <td>4</td>\n",
       "    </tr>\n",
       "    <tr>\n",
       "      <th>1</th>\n",
       "      <td>AS002855</td>\n",
       "      <td>201805</td>\n",
       "      <td>5</td>\n",
       "    </tr>\n",
       "    <tr>\n",
       "      <th>2</th>\n",
       "      <td>AS002855</td>\n",
       "      <td>201806</td>\n",
       "      <td>5</td>\n",
       "    </tr>\n",
       "    <tr>\n",
       "      <th>3</th>\n",
       "      <td>AS002855</td>\n",
       "      <td>201807</td>\n",
       "      <td>5</td>\n",
       "    </tr>\n",
       "    <tr>\n",
       "      <th>4</th>\n",
       "      <td>AS002855</td>\n",
       "      <td>201808</td>\n",
       "      <td>3</td>\n",
       "    </tr>\n",
       "  </tbody>\n",
       "</table>\n",
       "</div>"
      ],
      "text/plain": [
       "  customer_id      연월  count\n",
       "0    AS002855  201804      4\n",
       "1    AS002855  201805      5\n",
       "2    AS002855  201806      5\n",
       "3    AS002855  201807      5\n",
       "4    AS002855  201808      3"
      ]
     },
     "execution_count": 192,
     "metadata": {},
     "output_type": "execute_result"
    }
   ],
   "source": [
    "uselog['usedate'] = pd.to_datetime(uselog['usedate'])\n",
    "uselog['연월'] = uselog['usedate'].dt.strftime('%Y%m')\n",
    "uselog_months = uselog.groupby(['customer_id', '연월'], as_index = False).agg(count = ('log_id', 'count'))\n",
    "uselog_months.head()"
   ]
  },
  {
   "cell_type": "code",
   "execution_count": 198,
   "id": "bf1d3bec",
   "metadata": {},
   "outputs": [],
   "source": [
    "uselog_customer = uselog_months.groupby('customer_id', as_index = False).agg(['mean','median','max','min'])['count']\n",
    "uselog_customer = uselog_customer.reset_index()"
   ]
  },
  {
   "cell_type": "code",
   "execution_count": 204,
   "id": "4b6957da",
   "metadata": {},
   "outputs": [
    {
     "data": {
      "text/html": [
       "<div>\n",
       "<style scoped>\n",
       "    .dataframe tbody tr th:only-of-type {\n",
       "        vertical-align: middle;\n",
       "    }\n",
       "\n",
       "    .dataframe tbody tr th {\n",
       "        vertical-align: top;\n",
       "    }\n",
       "\n",
       "    .dataframe thead th {\n",
       "        text-align: right;\n",
       "    }\n",
       "</style>\n",
       "<table border=\"1\" class=\"dataframe\">\n",
       "  <thead>\n",
       "    <tr style=\"text-align: right;\">\n",
       "      <th></th>\n",
       "      <th>customer_id</th>\n",
       "      <th>연월</th>\n",
       "      <th>weekday</th>\n",
       "      <th>count</th>\n",
       "    </tr>\n",
       "  </thead>\n",
       "  <tbody>\n",
       "    <tr>\n",
       "      <th>0</th>\n",
       "      <td>AS002855</td>\n",
       "      <td>201804</td>\n",
       "      <td>5</td>\n",
       "      <td>4</td>\n",
       "    </tr>\n",
       "    <tr>\n",
       "      <th>1</th>\n",
       "      <td>AS002855</td>\n",
       "      <td>201805</td>\n",
       "      <td>2</td>\n",
       "      <td>1</td>\n",
       "    </tr>\n",
       "    <tr>\n",
       "      <th>2</th>\n",
       "      <td>AS002855</td>\n",
       "      <td>201805</td>\n",
       "      <td>5</td>\n",
       "      <td>4</td>\n",
       "    </tr>\n",
       "    <tr>\n",
       "      <th>3</th>\n",
       "      <td>AS002855</td>\n",
       "      <td>201806</td>\n",
       "      <td>5</td>\n",
       "      <td>5</td>\n",
       "    </tr>\n",
       "    <tr>\n",
       "      <th>4</th>\n",
       "      <td>AS002855</td>\n",
       "      <td>201807</td>\n",
       "      <td>1</td>\n",
       "      <td>1</td>\n",
       "    </tr>\n",
       "  </tbody>\n",
       "</table>\n",
       "</div>"
      ],
      "text/plain": [
       "  customer_id      연월  weekday  count\n",
       "0    AS002855  201804        5      4\n",
       "1    AS002855  201805        2      1\n",
       "2    AS002855  201805        5      4\n",
       "3    AS002855  201806        5      5\n",
       "4    AS002855  201807        1      1"
      ]
     },
     "execution_count": 204,
     "metadata": {},
     "output_type": "execute_result"
    }
   ],
   "source": [
    "uselog['weekday'] = uselog['usedate'].dt.weekday\n",
    "uselog_weekday = uselog.groupby(['customer_id', '연월','weekday'], as_index = False).agg(count = ('log_id', 'count'))\n",
    "uselog_weekday.head()"
   ]
  },
  {
   "cell_type": "code",
   "execution_count": 205,
   "id": "94411101",
   "metadata": {},
   "outputs": [],
   "source": [
    "uselog_weekday = uselog_weekday.groupby('customer_id', as_index = False).agg(count = ('count', 'max'))"
   ]
  },
  {
   "cell_type": "code",
   "execution_count": 206,
   "id": "ccf8e4d8",
   "metadata": {},
   "outputs": [],
   "source": [
    "uselog_weekday['routine_flg'] = 0\n",
    "uselog_weekday['routine_flg'] = uselog_weekday['routine_flg'].where(uselog_weekday['count']<4, 1) # 조건에 해당되지 않는 경우에 1로 수정"
   ]
  },
  {
   "cell_type": "code",
   "execution_count": 208,
   "id": "48ec8110",
   "metadata": {},
   "outputs": [
    {
     "data": {
      "text/html": [
       "<div>\n",
       "<style scoped>\n",
       "    .dataframe tbody tr th:only-of-type {\n",
       "        vertical-align: middle;\n",
       "    }\n",
       "\n",
       "    .dataframe tbody tr th {\n",
       "        vertical-align: top;\n",
       "    }\n",
       "\n",
       "    .dataframe thead th {\n",
       "        text-align: right;\n",
       "    }\n",
       "</style>\n",
       "<table border=\"1\" class=\"dataframe\">\n",
       "  <thead>\n",
       "    <tr style=\"text-align: right;\">\n",
       "      <th></th>\n",
       "      <th>customer_id</th>\n",
       "      <th>count</th>\n",
       "      <th>routine_flg</th>\n",
       "    </tr>\n",
       "  </thead>\n",
       "  <tbody>\n",
       "    <tr>\n",
       "      <th>0</th>\n",
       "      <td>AS002855</td>\n",
       "      <td>5</td>\n",
       "      <td>1</td>\n",
       "    </tr>\n",
       "    <tr>\n",
       "      <th>1</th>\n",
       "      <td>AS008805</td>\n",
       "      <td>4</td>\n",
       "      <td>1</td>\n",
       "    </tr>\n",
       "    <tr>\n",
       "      <th>2</th>\n",
       "      <td>AS009013</td>\n",
       "      <td>2</td>\n",
       "      <td>0</td>\n",
       "    </tr>\n",
       "    <tr>\n",
       "      <th>3</th>\n",
       "      <td>AS009373</td>\n",
       "      <td>5</td>\n",
       "      <td>1</td>\n",
       "    </tr>\n",
       "    <tr>\n",
       "      <th>4</th>\n",
       "      <td>AS015233</td>\n",
       "      <td>5</td>\n",
       "      <td>1</td>\n",
       "    </tr>\n",
       "  </tbody>\n",
       "</table>\n",
       "</div>"
      ],
      "text/plain": [
       "  customer_id  count  routine_flg\n",
       "0    AS002855      5            1\n",
       "1    AS008805      4            1\n",
       "2    AS009013      2            0\n",
       "3    AS009373      5            1\n",
       "4    AS015233      5            1"
      ]
     },
     "execution_count": 208,
     "metadata": {},
     "output_type": "execute_result"
    }
   ],
   "source": [
    "uselog_weekday.head()"
   ]
  },
  {
   "cell_type": "code",
   "execution_count": 211,
   "id": "1cbaa2fc",
   "metadata": {},
   "outputs": [
    {
     "data": {
      "text/html": [
       "<div>\n",
       "<style scoped>\n",
       "    .dataframe tbody tr th:only-of-type {\n",
       "        vertical-align: middle;\n",
       "    }\n",
       "\n",
       "    .dataframe tbody tr th {\n",
       "        vertical-align: top;\n",
       "    }\n",
       "\n",
       "    .dataframe thead th {\n",
       "        text-align: right;\n",
       "    }\n",
       "</style>\n",
       "<table border=\"1\" class=\"dataframe\">\n",
       "  <thead>\n",
       "    <tr style=\"text-align: right;\">\n",
       "      <th></th>\n",
       "      <th>customer_id</th>\n",
       "      <th>mean</th>\n",
       "      <th>median</th>\n",
       "      <th>max</th>\n",
       "      <th>min</th>\n",
       "    </tr>\n",
       "  </thead>\n",
       "  <tbody>\n",
       "    <tr>\n",
       "      <th>0</th>\n",
       "      <td>AS002855</td>\n",
       "      <td>4.500000</td>\n",
       "      <td>5.0</td>\n",
       "      <td>7</td>\n",
       "      <td>2</td>\n",
       "    </tr>\n",
       "    <tr>\n",
       "      <th>1</th>\n",
       "      <td>AS008805</td>\n",
       "      <td>4.000000</td>\n",
       "      <td>4.0</td>\n",
       "      <td>8</td>\n",
       "      <td>1</td>\n",
       "    </tr>\n",
       "    <tr>\n",
       "      <th>2</th>\n",
       "      <td>AS009013</td>\n",
       "      <td>2.000000</td>\n",
       "      <td>2.0</td>\n",
       "      <td>2</td>\n",
       "      <td>2</td>\n",
       "    </tr>\n",
       "    <tr>\n",
       "      <th>3</th>\n",
       "      <td>AS009373</td>\n",
       "      <td>5.083333</td>\n",
       "      <td>5.0</td>\n",
       "      <td>7</td>\n",
       "      <td>3</td>\n",
       "    </tr>\n",
       "    <tr>\n",
       "      <th>4</th>\n",
       "      <td>AS015233</td>\n",
       "      <td>7.545455</td>\n",
       "      <td>7.0</td>\n",
       "      <td>11</td>\n",
       "      <td>4</td>\n",
       "    </tr>\n",
       "  </tbody>\n",
       "</table>\n",
       "</div>"
      ],
      "text/plain": [
       "  customer_id      mean  median  max  min\n",
       "0    AS002855  4.500000     5.0    7    2\n",
       "1    AS008805  4.000000     4.0    8    1\n",
       "2    AS009013  2.000000     2.0    2    2\n",
       "3    AS009373  5.083333     5.0    7    3\n",
       "4    AS015233  7.545455     7.0   11    4"
      ]
     },
     "execution_count": 211,
     "metadata": {},
     "output_type": "execute_result"
    }
   ],
   "source": [
    "uselog_customer.head()"
   ]
  },
  {
   "cell_type": "code",
   "execution_count": 215,
   "id": "a348e560",
   "metadata": {},
   "outputs": [
    {
     "data": {
      "text/html": [
       "<div>\n",
       "<style scoped>\n",
       "    .dataframe tbody tr th:only-of-type {\n",
       "        vertical-align: middle;\n",
       "    }\n",
       "\n",
       "    .dataframe tbody tr th {\n",
       "        vertical-align: top;\n",
       "    }\n",
       "\n",
       "    .dataframe thead th {\n",
       "        text-align: right;\n",
       "    }\n",
       "</style>\n",
       "<table border=\"1\" class=\"dataframe\">\n",
       "  <thead>\n",
       "    <tr style=\"text-align: right;\">\n",
       "      <th></th>\n",
       "      <th>customer_id</th>\n",
       "      <th>gender</th>\n",
       "      <th>start_date</th>\n",
       "      <th>end_date</th>\n",
       "      <th>is_deleted</th>\n",
       "      <th>campaign_name</th>\n",
       "      <th>class_name</th>\n",
       "      <th>price</th>\n",
       "      <th>calc_date</th>\n",
       "      <th>membership_period</th>\n",
       "      <th>mean</th>\n",
       "      <th>median</th>\n",
       "      <th>max</th>\n",
       "      <th>min</th>\n",
       "      <th>routine_flg</th>\n",
       "    </tr>\n",
       "  </thead>\n",
       "  <tbody>\n",
       "    <tr>\n",
       "      <th>0</th>\n",
       "      <td>OA832399</td>\n",
       "      <td>F</td>\n",
       "      <td>2015-05-01</td>\n",
       "      <td>NaN</td>\n",
       "      <td>0</td>\n",
       "      <td>2_일반</td>\n",
       "      <td>0_종일</td>\n",
       "      <td>10500</td>\n",
       "      <td>2019-04-30</td>\n",
       "      <td>47</td>\n",
       "      <td>4.833333</td>\n",
       "      <td>5.0</td>\n",
       "      <td>8</td>\n",
       "      <td>2</td>\n",
       "      <td>1</td>\n",
       "    </tr>\n",
       "    <tr>\n",
       "      <th>1</th>\n",
       "      <td>PL270116</td>\n",
       "      <td>M</td>\n",
       "      <td>2015-05-01</td>\n",
       "      <td>NaN</td>\n",
       "      <td>0</td>\n",
       "      <td>2_일반</td>\n",
       "      <td>0_종일</td>\n",
       "      <td>10500</td>\n",
       "      <td>2019-04-30</td>\n",
       "      <td>47</td>\n",
       "      <td>5.083333</td>\n",
       "      <td>5.0</td>\n",
       "      <td>7</td>\n",
       "      <td>3</td>\n",
       "      <td>1</td>\n",
       "    </tr>\n",
       "    <tr>\n",
       "      <th>2</th>\n",
       "      <td>OA974876</td>\n",
       "      <td>M</td>\n",
       "      <td>2015-05-01</td>\n",
       "      <td>NaN</td>\n",
       "      <td>0</td>\n",
       "      <td>2_일반</td>\n",
       "      <td>0_종일</td>\n",
       "      <td>10500</td>\n",
       "      <td>2019-04-30</td>\n",
       "      <td>47</td>\n",
       "      <td>4.583333</td>\n",
       "      <td>5.0</td>\n",
       "      <td>6</td>\n",
       "      <td>3</td>\n",
       "      <td>1</td>\n",
       "    </tr>\n",
       "    <tr>\n",
       "      <th>3</th>\n",
       "      <td>HD024127</td>\n",
       "      <td>F</td>\n",
       "      <td>2015-05-01</td>\n",
       "      <td>NaN</td>\n",
       "      <td>0</td>\n",
       "      <td>2_일반</td>\n",
       "      <td>0_종일</td>\n",
       "      <td>10500</td>\n",
       "      <td>2019-04-30</td>\n",
       "      <td>47</td>\n",
       "      <td>4.833333</td>\n",
       "      <td>4.5</td>\n",
       "      <td>7</td>\n",
       "      <td>2</td>\n",
       "      <td>1</td>\n",
       "    </tr>\n",
       "    <tr>\n",
       "      <th>4</th>\n",
       "      <td>IK271057</td>\n",
       "      <td>M</td>\n",
       "      <td>2015-05-01</td>\n",
       "      <td>NaN</td>\n",
       "      <td>0</td>\n",
       "      <td>2_일반</td>\n",
       "      <td>0_종일</td>\n",
       "      <td>10500</td>\n",
       "      <td>2019-04-30</td>\n",
       "      <td>47</td>\n",
       "      <td>3.750000</td>\n",
       "      <td>3.5</td>\n",
       "      <td>5</td>\n",
       "      <td>2</td>\n",
       "      <td>1</td>\n",
       "    </tr>\n",
       "  </tbody>\n",
       "</table>\n",
       "</div>"
      ],
      "text/plain": [
       "  customer_id gender start_date end_date  is_deleted campaign_name class_name  \\\n",
       "0    OA832399      F 2015-05-01      NaN           0          2_일반       0_종일   \n",
       "1    PL270116      M 2015-05-01      NaN           0          2_일반       0_종일   \n",
       "2    OA974876      M 2015-05-01      NaN           0          2_일반       0_종일   \n",
       "3    HD024127      F 2015-05-01      NaN           0          2_일반       0_종일   \n",
       "4    IK271057      M 2015-05-01      NaN           0          2_일반       0_종일   \n",
       "\n",
       "   price  calc_date  membership_period      mean  median  max  min  \\\n",
       "0  10500 2019-04-30                 47  4.833333     5.0    8    2   \n",
       "1  10500 2019-04-30                 47  5.083333     5.0    7    3   \n",
       "2  10500 2019-04-30                 47  4.583333     5.0    6    3   \n",
       "3  10500 2019-04-30                 47  4.833333     4.5    7    2   \n",
       "4  10500 2019-04-30                 47  3.750000     3.5    5    2   \n",
       "\n",
       "   routine_flg  \n",
       "0            1  \n",
       "1            1  \n",
       "2            1  \n",
       "3            1  \n",
       "4            1  "
      ]
     },
     "execution_count": 215,
     "metadata": {},
     "output_type": "execute_result"
    }
   ],
   "source": [
    "merge_uselog_customer = customer_join.merge(uselog_customer, on = 'customer_id')\n",
    "merge_uselog_weekday = merge_uselog_customer.merge(uselog_weekday.drop(['count'], axis = 1), on = 'customer_id')\n",
    "merge_uselog_weekday.head()"
   ]
  },
  {
   "cell_type": "code",
   "execution_count": null,
   "id": "3a8780ee",
   "metadata": {},
   "outputs": [],
   "source": []
  }
 ],
 "metadata": {
  "kernelspec": {
   "display_name": "Python 3 (ipykernel)",
   "language": "python",
   "name": "python3"
  },
  "language_info": {
   "codemirror_mode": {
    "name": "ipython",
    "version": 3
   },
   "file_extension": ".py",
   "mimetype": "text/x-python",
   "name": "python",
   "nbconvert_exporter": "python",
   "pygments_lexer": "ipython3",
   "version": "3.9.12"
  },
  "toc": {
   "base_numbering": 1,
   "nav_menu": {},
   "number_sections": true,
   "sideBar": true,
   "skip_h1_title": false,
   "title_cell": "Table of Contents",
   "title_sidebar": "Contents",
   "toc_cell": false,
   "toc_position": {},
   "toc_section_display": true,
   "toc_window_display": false
  }
 },
 "nbformat": 4,
 "nbformat_minor": 5
}
